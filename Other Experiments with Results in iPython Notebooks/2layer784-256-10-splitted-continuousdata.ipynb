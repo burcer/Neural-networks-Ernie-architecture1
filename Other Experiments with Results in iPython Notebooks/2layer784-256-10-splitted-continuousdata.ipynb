{
 "cells": [
  {
   "cell_type": "code",
   "execution_count": 3,
   "metadata": {
    "collapsed": false
   },
   "outputs": [
    {
     "name": "stdout",
     "output_type": "stream",
     "text": [
      "(60000,)\n",
      "0.0\n",
      "255.0\n",
      "(50000, 28, 28)\n",
      "0.0\n",
      "255.0\n",
      "X_val:  (10000, 28, 28)\n",
      "X_train:  (50000, 28, 28)\n",
      "X_test:  (10000, 28, 28)\n",
      "y_val:  (10000,)\n",
      "y_train:  (50000,)\n",
      "y_test:  (10000,)\n"
     ]
    }
   ],
   "source": [
    "import numpy as np\n",
    "import matplotlib.pyplot as plt\n",
    "from nn.classifiers.fc_net_split import *\n",
    "from nn.data_utils import get_CIFAR10_data\n",
    "from nn.data_utils_mnist import *\n",
    "from nn.gradient_check import eval_numerical_gradient, eval_numerical_gradient_array\n",
    "from nn.solver import Solver\n",
    "%matplotlib inline\n",
    "plt.rcParams['figure.figsize'] = (10.0, 8.0) # set default size of plots\n",
    "plt.rcParams['image.interpolation'] = 'nearest'\n",
    "plt.rcParams['image.cmap'] = 'gray'\n",
    "\n",
    "# for auto-reloading external modules\n",
    "# see http://stackoverflow.com/questions/1907993/autoreload-of-modules-in-ipython\n",
    "%load_ext autoreload\n",
    "%autoreload 2\n",
    "data = get_MNIST_data(test_trinary=0,train_trinary=0,val_trinary=0,noise_amplitude=0.0,no_of_levels=3)\n",
    "for k, v in data.iteritems():\n",
    "  print '%s: ' % k, v.shape\n",
    "\n"
   ]
  },
  {
   "cell_type": "code",
   "execution_count": 15,
   "metadata": {
    "collapsed": true
   },
   "outputs": [],
   "source": [
    "X=data['X_train']"
   ]
  },
  {
   "cell_type": "code",
   "execution_count": 16,
   "metadata": {
    "collapsed": false
   },
   "outputs": [
    {
     "name": "stdout",
     "output_type": "stream",
     "text": [
      "(50000, 28, 28)\n"
     ]
    }
   ],
   "source": [
    "print X.shape"
   ]
  },
  {
   "cell_type": "code",
   "execution_count": 46,
   "metadata": {
    "collapsed": false
   },
   "outputs": [
    {
     "name": "stdout",
     "output_type": "stream",
     "text": [
      "lr=0.000253, std=0.001619, regu=0.041265 train accuracy is : 0.974000 val acc:  0.965800\n",
      " no decay lr=0.000253, std=0.001619,regu=0.041265 train accuracy is : 0.985000 val acc:  0.967900\n",
      "lr=0.000312, std=0.002268, regu=0.098728 train accuracy is : 0.972000 val acc:  0.961200\n"
     ]
    },
    {
     "name": "stderr",
     "output_type": "stream",
     "text": [
      "cs231n/layers.py:237: RuntimeWarning: overflow encountered in exp\n",
      "  return 1/(1+np.exp(-x))\n"
     ]
    },
    {
     "name": "stdout",
     "output_type": "stream",
     "text": [
      " no decay lr=0.000312, std=0.002268,regu=0.098728 train accuracy is : 0.972000 val acc:  0.962700\n",
      "lr=0.000434, std=0.000155, regu=0.001235 train accuracy is : 0.983000 val acc:  0.971800\n",
      " no decay lr=0.000434, std=0.000155,regu=0.001235 train accuracy is : 0.987000 val acc:  0.976800\n",
      "lr=0.000420, std=0.009939, regu=0.070926 train accuracy is : 0.966000 val acc:  0.960000\n",
      " no decay lr=0.000420, std=0.009939,regu=0.070926 train accuracy is : 0.970000 val acc:  0.962700\n",
      "lr=0.000594, std=0.005339, regu=0.007761 train accuracy is : 0.979000 val acc:  0.970400\n",
      " no decay lr=0.000594, std=0.005339,regu=0.007761 train accuracy is : 0.987000 val acc:  0.974000\n",
      "lr=0.000176, std=0.001137, regu=0.016965 train accuracy is : 0.971000 val acc:  0.966200\n",
      " no decay lr=0.000176, std=0.001137,regu=0.016965 train accuracy is : 0.986000 val acc:  0.973000\n",
      "lr=0.000988, std=0.000439, regu=0.034224 train accuracy is : 0.979000 val acc:  0.969500\n",
      " no decay lr=0.000988, std=0.000439,regu=0.034224 train accuracy is : 0.972000 val acc:  0.966400\n",
      "lr=0.000149, std=0.001019, regu=0.034743 train accuracy is : 0.969000 val acc:  0.963500\n",
      " no decay lr=0.000149, std=0.001019,regu=0.034743 train accuracy is : 0.983000 val acc:  0.967200\n",
      "lr=0.000246, std=0.005638, regu=0.012487 train accuracy is : 0.969000 val acc:  0.966100\n",
      " no decay lr=0.000246, std=0.005638,regu=0.012487 train accuracy is : 0.984000 val acc:  0.970400\n",
      "lr=0.000223, std=0.000290, regu=0.000210 train accuracy is : 0.976000 val acc:  0.967200\n",
      " no decay lr=0.000223, std=0.000290,regu=0.000210 train accuracy is : 0.986000 val acc:  0.971800\n",
      "lr=0.000798, std=0.000481, regu=0.022897 train accuracy is : 0.982000 val acc:  0.971900\n",
      " no decay lr=0.000798, std=0.000481,regu=0.022897 train accuracy is : 0.982000 val acc:  0.970800\n",
      "lr=0.000102, std=0.002963, regu=0.053001 train accuracy is : 0.965000 val acc:  0.958700\n",
      " no decay lr=0.000102, std=0.002963,regu=0.053001 train accuracy is : 0.961000 val acc:  0.962300\n",
      "lr=0.000282, std=0.003920, regu=0.088072 train accuracy is : 0.960000 val acc:  0.960600\n",
      " no decay lr=0.000282, std=0.003920,regu=0.088072 train accuracy is : 0.980000 val acc:  0.961300\n",
      "lr=0.000241, std=0.000767, regu=0.003101 train accuracy is : 0.975000 val acc:  0.967100\n",
      " no decay lr=0.000241, std=0.000767,regu=0.003101 train accuracy is : 0.991000 val acc:  0.972800\n",
      "lr=0.000580, std=0.006273, regu=0.002769 train accuracy is : 0.986000 val acc:  0.972000\n",
      " no decay lr=0.000580, std=0.006273,regu=0.002769 train accuracy is : 0.983000 val acc:  0.975900\n",
      "lr=0.000712, std=0.003804, regu=0.000235 train accuracy is : 0.986000 val acc:  0.971500\n",
      " no decay lr=0.000712, std=0.003804,regu=0.000235 train accuracy is : 0.993000 val acc:  0.976800\n",
      "lr=0.000685, std=0.000124, regu=0.000167 train accuracy is : 0.981000 val acc:  0.973300\n",
      " no decay lr=0.000685, std=0.000124,regu=0.000167 train accuracy is : 0.982000 val acc:  0.976800\n",
      "lr=0.000532, std=0.001958, regu=0.000570 train accuracy is : 0.981000 val acc:  0.971600\n",
      " no decay lr=0.000532, std=0.001958,regu=0.000570 train accuracy is : 0.984000 val acc:  0.976900\n",
      "lr=0.000143, std=0.005236, regu=0.001554 train accuracy is : 0.973000 val acc:  0.960100\n",
      " no decay lr=0.000143, std=0.005236,regu=0.001554 train accuracy is : 0.979000 val acc:  0.970100\n",
      "lr=0.000660, std=0.000123, regu=0.007774 train accuracy is : 0.987000 val acc:  0.971800\n",
      " no decay lr=0.000660, std=0.000123,regu=0.007774 train accuracy is : 0.984000 val acc:  0.974900\n",
      "lr=0.000198, std=0.000115, regu=0.005057 train accuracy is : 0.982000 val acc:  0.965400\n",
      " no decay lr=0.000198, std=0.000115,regu=0.005057 train accuracy is : 0.990000 val acc:  0.971100\n",
      "lr=0.000439, std=0.000317, regu=0.039845 train accuracy is : 0.977000 val acc:  0.966700\n",
      " no decay lr=0.000439, std=0.000317,regu=0.039845 train accuracy is : 0.977000 val acc:  0.969100\n",
      "lr=0.000629, std=0.000283, regu=0.023755 train accuracy is : 0.979000 val acc:  0.969600\n",
      " no decay lr=0.000629, std=0.000283,regu=0.023755 train accuracy is : 0.985000 val acc:  0.971400\n",
      "lr=0.000629, std=0.002426, regu=0.001271 train accuracy is : 0.989000 val acc:  0.971700\n",
      " no decay lr=0.000629, std=0.002426,regu=0.001271 train accuracy is : 0.987000 val acc:  0.976800\n",
      "lr=0.000216, std=0.000476, regu=0.000396 train accuracy is : 0.984000 val acc:  0.966700\n",
      " no decay lr=0.000216, std=0.000476,regu=0.000396 train accuracy is : 0.981000 val acc:  0.972200\n",
      "lr=0.000458, std=0.000199, regu=0.001087 train accuracy is : 0.983000 val acc:  0.971700\n",
      " no decay lr=0.000458, std=0.000199,regu=0.001087 train accuracy is : 0.987000 val acc:  0.976600\n",
      "lr=0.000567, std=0.000519, regu=0.001170 train accuracy is : 0.984000 val acc:  0.972200\n",
      " no decay lr=0.000567, std=0.000519,regu=0.001170 train accuracy is : 0.993000 val acc:  0.976700\n",
      "lr=0.000375, std=0.000589, regu=0.005990 train accuracy is : 0.971000 val acc:  0.970600\n",
      " no decay lr=0.000375, std=0.000589,regu=0.005990 train accuracy is : 0.991000 val acc:  0.974500\n",
      "lr=0.000921, std=0.006974, regu=0.000542 train accuracy is : 0.988000 val acc:  0.974200\n",
      " no decay lr=0.000921, std=0.006974,regu=0.000542 train accuracy is : 0.988000 val acc:  0.976800\n",
      "lr=0.000599, std=0.001823, regu=0.024903 train accuracy is : 0.977000 val acc:  0.969800\n",
      " no decay lr=0.000599, std=0.001823,regu=0.024903 train accuracy is : 0.989000 val acc:  0.969900\n",
      "lr=0.000210, std=0.000704, regu=0.000237 train accuracy is : 0.980000 val acc:  0.966700\n",
      " no decay lr=0.000210, std=0.000704,regu=0.000237 train accuracy is : 0.984000 val acc:  0.972100\n",
      "lr=0.000173, std=0.001194, regu=0.000139 train accuracy is : 0.970000 val acc:  0.966300\n",
      " no decay lr=0.000173, std=0.001194,regu=0.000139 train accuracy is : 0.983000 val acc:  0.972400\n",
      "lr=0.000110, std=0.006977, regu=0.001417 train accuracy is : 0.956000 val acc:  0.954300\n",
      " no decay lr=0.000110, std=0.006977,regu=0.001417 train accuracy is : 0.981000 val acc:  0.967400\n",
      "lr=0.000347, std=0.002087, regu=0.000897 train accuracy is : 0.980000 val acc:  0.969400\n",
      " no decay lr=0.000347, std=0.002087,regu=0.000897 train accuracy is : 0.985000 val acc:  0.974100\n",
      "lr=0.000203, std=0.000444, regu=0.013736 train accuracy is : 0.972000 val acc:  0.965900\n",
      " no decay lr=0.000203, std=0.000444,regu=0.013736 train accuracy is : 0.982000 val acc:  0.970900\n",
      "lr=0.000986, std=0.004749, regu=0.000312 train accuracy is : 0.992000 val acc:  0.974000\n",
      " no decay lr=0.000986, std=0.004749,regu=0.000312 train accuracy is : 0.989000 val acc:  0.979100\n",
      "lr=0.000637, std=0.001448, regu=0.000104 train accuracy is : 0.986000 val acc:  0.973800\n",
      " no decay lr=0.000637, std=0.001448,regu=0.000104 train accuracy is : 0.993000 val acc:  0.977900\n",
      "lr=0.000334, std=0.001340, regu=0.003216 train accuracy is : 0.979000 val acc:  0.968600\n",
      " no decay lr=0.000334, std=0.001340,regu=0.003216 train accuracy is : 0.984000 val acc:  0.975300\n",
      "lr=0.000983, std=0.000643, regu=0.082838 train accuracy is : 0.979000 val acc:  0.962700\n",
      " no decay lr=0.000983, std=0.000643,regu=0.082838 train accuracy is : 0.961000 val acc:  0.957900\n",
      "lr=0.000882, std=0.001896, regu=0.001068 train accuracy is : 0.983000 val acc:  0.974800\n",
      " no decay lr=0.000882, std=0.001896,regu=0.001068 train accuracy is : 0.980000 val acc:  0.975600\n",
      "lr=0.000453, std=0.003133, regu=0.000153 train accuracy is : 0.980000 val acc:  0.971700\n"
     ]
    },
    {
     "ename": "KeyboardInterrupt",
     "evalue": "",
     "output_type": "error",
     "traceback": [
      "\u001b[1;31m---------------------------------------------------------------------------\u001b[0m",
      "\u001b[1;31mKeyboardInterrupt\u001b[0m                         Traceback (most recent call last)",
      "\u001b[1;32m<ipython-input-46-f992cc09b794>\u001b[0m in \u001b[0;36m<module>\u001b[1;34m()\u001b[0m\n\u001b[0;32m     43\u001b[0m                 }\n\u001b[0;32m     44\u001b[0m          )\n\u001b[1;32m---> 45\u001b[1;33m     \u001b[0msolver\u001b[0m\u001b[1;33m.\u001b[0m\u001b[0mtrain\u001b[0m\u001b[1;33m(\u001b[0m\u001b[1;33m)\u001b[0m\u001b[1;33m\u001b[0m\u001b[0m\n\u001b[0m\u001b[0;32m     46\u001b[0m     \u001b[1;32mprint\u001b[0m \u001b[1;34m' no decay lr=%f, std=%f,regu=%f train accuracy is : %f val acc:  %f'\u001b[0m \u001b[1;33m%\u001b[0m\u001b[1;33m(\u001b[0m\u001b[0mlearning_rate\u001b[0m\u001b[1;33m,\u001b[0m \u001b[0mweight_scale\u001b[0m\u001b[1;33m,\u001b[0m\u001b[0mregu\u001b[0m\u001b[1;33m,\u001b[0m \u001b[0msolver\u001b[0m\u001b[1;33m.\u001b[0m\u001b[0mtrain_acc_history\u001b[0m\u001b[1;33m[\u001b[0m\u001b[1;33m-\u001b[0m\u001b[1;36m1\u001b[0m\u001b[1;33m]\u001b[0m\u001b[1;33m,\u001b[0m \u001b[0msolver\u001b[0m\u001b[1;33m.\u001b[0m\u001b[0mval_acc_history\u001b[0m\u001b[1;33m[\u001b[0m\u001b[1;33m-\u001b[0m\u001b[1;36m1\u001b[0m\u001b[1;33m]\u001b[0m\u001b[1;33m)\u001b[0m\u001b[1;33m\u001b[0m\u001b[0m\n\u001b[0;32m     47\u001b[0m \u001b[1;33m\u001b[0m\u001b[0m\n",
      "\u001b[1;32m/home/burc/assignment2/cs231n/solver.pyc\u001b[0m in \u001b[0;36mtrain\u001b[1;34m(self)\u001b[0m\n\u001b[0;32m    230\u001b[0m \u001b[1;33m\u001b[0m\u001b[0m\n\u001b[0;32m    231\u001b[0m     \u001b[1;32mfor\u001b[0m \u001b[0mt\u001b[0m \u001b[1;32min\u001b[0m \u001b[0mxrange\u001b[0m\u001b[1;33m(\u001b[0m\u001b[0mnum_iterations\u001b[0m\u001b[1;33m)\u001b[0m\u001b[1;33m:\u001b[0m\u001b[1;33m\u001b[0m\u001b[0m\n\u001b[1;32m--> 232\u001b[1;33m       \u001b[0mself\u001b[0m\u001b[1;33m.\u001b[0m\u001b[0m_step\u001b[0m\u001b[1;33m(\u001b[0m\u001b[1;33m)\u001b[0m\u001b[1;33m\u001b[0m\u001b[0m\n\u001b[0m\u001b[0;32m    233\u001b[0m \u001b[1;33m\u001b[0m\u001b[0m\n\u001b[0;32m    234\u001b[0m       \u001b[1;31m# Maybe print training loss\u001b[0m\u001b[1;33m\u001b[0m\u001b[1;33m\u001b[0m\u001b[0m\n",
      "\u001b[1;32m/home/burc/assignment2/cs231n/solver.pyc\u001b[0m in \u001b[0;36m_step\u001b[1;34m(self)\u001b[0m\n\u001b[0;32m    168\u001b[0m     \u001b[1;31m# Compute loss and gradient\u001b[0m\u001b[1;33m\u001b[0m\u001b[1;33m\u001b[0m\u001b[0m\n\u001b[0;32m    169\u001b[0m \u001b[1;33m\u001b[0m\u001b[0m\n\u001b[1;32m--> 170\u001b[1;33m     \u001b[0mloss\u001b[0m\u001b[1;33m,\u001b[0m \u001b[0mgrads\u001b[0m \u001b[1;33m=\u001b[0m \u001b[0mself\u001b[0m\u001b[1;33m.\u001b[0m\u001b[0mmodel\u001b[0m\u001b[1;33m.\u001b[0m\u001b[0mloss\u001b[0m\u001b[1;33m(\u001b[0m\u001b[0mX_batch\u001b[0m\u001b[1;33m,\u001b[0m \u001b[0my_batch\u001b[0m\u001b[1;33m)\u001b[0m\u001b[1;33m\u001b[0m\u001b[0m\n\u001b[0m\u001b[0;32m    171\u001b[0m     \u001b[0mself\u001b[0m\u001b[1;33m.\u001b[0m\u001b[0mloss_history\u001b[0m\u001b[1;33m.\u001b[0m\u001b[0mappend\u001b[0m\u001b[1;33m(\u001b[0m\u001b[0mloss\u001b[0m\u001b[1;33m)\u001b[0m\u001b[1;33m\u001b[0m\u001b[0m\n\u001b[0;32m    172\u001b[0m \u001b[1;33m\u001b[0m\u001b[0m\n",
      "\u001b[1;32m/home/burc/assignment2/cs231n/classifiers/fc_net_split.py\u001b[0m in \u001b[0;36mloss\u001b[1;34m(self, X, y, noise, noise2, test, parallel_samples_output)\u001b[0m\n\u001b[0;32m    230\u001b[0m       \u001b[0mdx\u001b[0m\u001b[1;33m,\u001b[0m \u001b[0mdW1\u001b[0m\u001b[1;33m,\u001b[0m \u001b[0mdb1\u001b[0m \u001b[1;33m=\u001b[0m \u001b[0maffine_pwlsig_backward\u001b[0m\u001b[1;33m(\u001b[0m\u001b[0mdhidden\u001b[0m\u001b[1;33m,\u001b[0m \u001b[0mhidden_cache\u001b[0m\u001b[1;33m)\u001b[0m   \u001b[1;31m#change to affine_sigmoid later\u001b[0m\u001b[1;33m\u001b[0m\u001b[0m\n\u001b[0;32m    231\u001b[0m     \u001b[1;32mif\u001b[0m \u001b[0mself\u001b[0m\u001b[1;33m.\u001b[0m\u001b[0mactivation\u001b[0m \u001b[1;33m==\u001b[0m\u001b[1;36m3\u001b[0m\u001b[1;33m:\u001b[0m\u001b[1;33m\u001b[0m\u001b[0m\n\u001b[1;32m--> 232\u001b[1;33m       \u001b[0mdx1\u001b[0m\u001b[1;33m,\u001b[0m \u001b[0mdW1_1\u001b[0m\u001b[1;33m,\u001b[0m \u001b[0mdb1_1\u001b[0m \u001b[1;33m=\u001b[0m \u001b[0maffine_tanh_backward\u001b[0m\u001b[1;33m(\u001b[0m\u001b[0mdhidden\u001b[0m\u001b[1;33m[\u001b[0m\u001b[1;33m:\u001b[0m\u001b[1;33m,\u001b[0m\u001b[1;36m0\u001b[0m\u001b[1;33m:\u001b[0m\u001b[1;36m64\u001b[0m\u001b[1;33m]\u001b[0m\u001b[1;33m,\u001b[0m \u001b[0mhidden_cache1\u001b[0m\u001b[1;33m)\u001b[0m   \u001b[1;31m#change to affine_sigmoid later\u001b[0m\u001b[1;33m\u001b[0m\u001b[0m\n\u001b[0m\u001b[0;32m    233\u001b[0m       \u001b[0mdx2\u001b[0m\u001b[1;33m,\u001b[0m \u001b[0mdW1_2\u001b[0m\u001b[1;33m,\u001b[0m \u001b[0mdb1_2\u001b[0m \u001b[1;33m=\u001b[0m \u001b[0maffine_tanh_backward\u001b[0m\u001b[1;33m(\u001b[0m\u001b[0mdhidden\u001b[0m\u001b[1;33m[\u001b[0m\u001b[1;33m:\u001b[0m\u001b[1;33m,\u001b[0m\u001b[1;36m64\u001b[0m\u001b[1;33m:\u001b[0m\u001b[1;36m128\u001b[0m\u001b[1;33m]\u001b[0m\u001b[1;33m,\u001b[0m \u001b[0mhidden_cache2\u001b[0m\u001b[1;33m)\u001b[0m\u001b[1;33m\u001b[0m\u001b[0m\n\u001b[0;32m    234\u001b[0m       \u001b[0mdx3\u001b[0m\u001b[1;33m,\u001b[0m \u001b[0mdW1_3\u001b[0m\u001b[1;33m,\u001b[0m \u001b[0mdb1_3\u001b[0m \u001b[1;33m=\u001b[0m \u001b[0maffine_tanh_backward\u001b[0m\u001b[1;33m(\u001b[0m\u001b[0mdhidden\u001b[0m\u001b[1;33m[\u001b[0m\u001b[1;33m:\u001b[0m\u001b[1;33m,\u001b[0m\u001b[1;36m128\u001b[0m\u001b[1;33m:\u001b[0m\u001b[1;36m192\u001b[0m\u001b[1;33m]\u001b[0m\u001b[1;33m,\u001b[0m \u001b[0mhidden_cache3\u001b[0m\u001b[1;33m)\u001b[0m\u001b[1;33m\u001b[0m\u001b[0m\n",
      "\u001b[1;32m/home/burc/assignment2/cs231n/layer_utils.pyc\u001b[0m in \u001b[0;36maffine_tanh_backward\u001b[1;34m(dout, cache)\u001b[0m\n\u001b[0;32m     55\u001b[0m   \u001b[0mfc_cache\u001b[0m\u001b[1;33m,\u001b[0m \u001b[0msigmoid_cache\u001b[0m \u001b[1;33m=\u001b[0m \u001b[0mcache\u001b[0m\u001b[1;33m\u001b[0m\u001b[0m\n\u001b[0;32m     56\u001b[0m   \u001b[0mda\u001b[0m \u001b[1;33m=\u001b[0m \u001b[0mtanh_backward\u001b[0m\u001b[1;33m(\u001b[0m\u001b[0mdout\u001b[0m\u001b[1;33m,\u001b[0m \u001b[0msigmoid_cache\u001b[0m\u001b[1;33m)\u001b[0m\u001b[1;33m\u001b[0m\u001b[0m\n\u001b[1;32m---> 57\u001b[1;33m   \u001b[0mdx\u001b[0m\u001b[1;33m,\u001b[0m \u001b[0mdw\u001b[0m\u001b[1;33m,\u001b[0m \u001b[0mdb\u001b[0m \u001b[1;33m=\u001b[0m \u001b[0maffine_backward\u001b[0m\u001b[1;33m(\u001b[0m\u001b[0mda\u001b[0m\u001b[1;33m,\u001b[0m \u001b[0mfc_cache\u001b[0m\u001b[1;33m)\u001b[0m\u001b[1;33m\u001b[0m\u001b[0m\n\u001b[0m\u001b[0;32m     58\u001b[0m   \u001b[1;32mreturn\u001b[0m \u001b[0mdx\u001b[0m\u001b[1;33m,\u001b[0m \u001b[0mdw\u001b[0m\u001b[1;33m,\u001b[0m \u001b[0mdb\u001b[0m\u001b[1;33m\u001b[0m\u001b[0m\n\u001b[0;32m     59\u001b[0m \u001b[1;33m\u001b[0m\u001b[0m\n",
      "\u001b[1;32m/home/burc/assignment2/cs231n/layers.pyc\u001b[0m in \u001b[0;36maffine_backward\u001b[1;34m(dout, cache)\u001b[0m\n\u001b[0;32m     60\u001b[0m   \u001b[0mdx\u001b[0m \u001b[1;33m=\u001b[0m \u001b[0mdout\u001b[0m\u001b[1;33m.\u001b[0m\u001b[0mdot\u001b[0m\u001b[1;33m(\u001b[0m\u001b[0mw\u001b[0m\u001b[1;33m.\u001b[0m\u001b[0mT\u001b[0m\u001b[1;33m)\u001b[0m\u001b[1;33m\u001b[0m\u001b[0m\n\u001b[0;32m     61\u001b[0m   \u001b[0mdx\u001b[0m \u001b[1;33m=\u001b[0m \u001b[0mnp\u001b[0m\u001b[1;33m.\u001b[0m\u001b[0mreshape\u001b[0m\u001b[1;33m(\u001b[0m\u001b[0mdx\u001b[0m\u001b[1;33m,\u001b[0m \u001b[0mx\u001b[0m\u001b[1;33m.\u001b[0m\u001b[0mshape\u001b[0m\u001b[1;33m)\u001b[0m\u001b[1;33m\u001b[0m\u001b[0m\n\u001b[1;32m---> 62\u001b[1;33m   \u001b[0mdw\u001b[0m \u001b[1;33m=\u001b[0m \u001b[0mx_reshape\u001b[0m\u001b[1;33m.\u001b[0m\u001b[0mT\u001b[0m\u001b[1;33m.\u001b[0m\u001b[0mdot\u001b[0m\u001b[1;33m(\u001b[0m\u001b[0mdout\u001b[0m\u001b[1;33m)\u001b[0m\u001b[1;33m\u001b[0m\u001b[0m\n\u001b[0m\u001b[0;32m     63\u001b[0m   \u001b[0mdb\u001b[0m \u001b[1;33m=\u001b[0m \u001b[0mnp\u001b[0m\u001b[1;33m.\u001b[0m\u001b[0msum\u001b[0m\u001b[1;33m(\u001b[0m\u001b[0mdout\u001b[0m\u001b[1;33m,\u001b[0m \u001b[0maxis\u001b[0m\u001b[1;33m=\u001b[0m\u001b[1;36m0\u001b[0m\u001b[1;33m)\u001b[0m\u001b[1;33m\u001b[0m\u001b[0m\n\u001b[0;32m     64\u001b[0m   \u001b[1;31m#############################################################################\u001b[0m\u001b[1;33m\u001b[0m\u001b[1;33m\u001b[0m\u001b[0m\n",
      "\u001b[1;31mKeyboardInterrupt\u001b[0m: "
     ]
    }
   ],
   "source": [
    "for i in range(100):\n",
    "    #learning_rate = 0.000830 #10**np.random.uniform(-4,-3)\n",
    "    #weight_scale = 0.003849 #10**np.random.uniform(-3,-1)\n",
    "    #regu = 0.00168276907439#10**np.random.uniform(-3,-1)\n",
    "    regu=10**np.random.uniform(-4,-1)\n",
    "    learning_rate = 10**np.random.uniform(-4,-3)\n",
    "    weight_scale = 10**np.random.uniform(-4,-2)\n",
    "    #regu =0.00329329787291\n",
    "    #print regu\n",
    "    #learning_rate=0.0005\n",
    "    #weight_scale=0.027\n",
    "    #learning_rate = 0.001 #10**np.random.uniform(-5,-1)\n",
    "    #weight_scale = 0.02 #10**np.random.uniform(-3,0)\n",
    "    # no decay lr=0.000292, std=0.004709, train accuracy is : 0.999000 val acc:  0.970500\n",
    "#0.14912609128\n",
    "#0.00669438412009\n",
    "#0.00168276907439\n",
    "# no decay lr=0.000830, std=0.003849, train accuracy is : 0.994000 val acc:  0.967100\n",
    "# no decay lr=0.000508, std=0.027556, train accuracy is : 1.000000 val acc:  0.971500\n",
    "\n",
    "    model = TwoLayerNet(hidden_dim=256,input_dim=28*28,\n",
    "              weight_scale=weight_scale, reg=regu, activation=3, scores_activation=3)\n",
    "    solver = Solver(model,data,\n",
    "                print_every=10, num_epochs=60, batch_size=100,\n",
    "                update_rule='sgd_momentum',lr_decay=0.95,verbose = False,\n",
    "                optim_config={\n",
    "                  'learning_rate': learning_rate\n",
    "                }\n",
    "         )\n",
    "    \n",
    "    solver.train()\n",
    "\n",
    "    print 'lr=%f, std=%f, regu=%f train accuracy is : %f val acc:  %f' %(learning_rate, weight_scale, regu, solver.train_acc_history[-1], solver.val_acc_history[-1])\n",
    " \n",
    "\n",
    "    model = TwoLayerNet(hidden_dim=256,input_dim=28*28,\n",
    "              weight_scale=weight_scale, reg=regu,activation=3, scores_activation=3)\n",
    "    solver = Solver(model,data,\n",
    "                print_every=4000, num_epochs=60, batch_size=100,\n",
    "                update_rule='sgd_momentum',lr_decay=1.0,verbose =False, #lr_decay=0.0,\n",
    "                optim_config={\n",
    "                  'learning_rate': learning_rate\n",
    "                }\n",
    "         )\n",
    "    solver.train()\n",
    "    print ' no decay lr=%f, std=%f,regu=%f train accuracy is : %f val acc:  %f' %(learning_rate, weight_scale,regu, solver.train_acc_history[-1], solver.val_acc_history[-1])\n",
    " \n",
    "\n",
    "\n",
    "#solver.train()\n",
    "\n",
    "plt.plot(solver.loss_history, 'o')\n",
    "plt.title('Training loss history')\n",
    "plt.xlabel('Iteration')\n",
    "plt.ylabel('Training loss')"
   ]
  },
  {
   "cell_type": "code",
   "execution_count": 30,
   "metadata": {
    "collapsed": false
   },
   "outputs": [
    {
     "name": "stdout",
     "output_type": "stream",
     "text": [
      "(7840,)\n",
      "0 1231\n",
      "(10, 28, 28)\n",
      "0 1 784 28\n",
      "(10, 784)\n"
     ]
    }
   ],
   "source": [
    "y= np.array(range(0,28*28*10))\n",
    "print y.shape\n",
    "\n",
    "print y[0], y[1231]\n",
    "y2= np.reshape(y,(10,28,28))\n",
    "print y2.shape\n",
    "print y2[0,0,0], y2[0,0,1], y2[1,0,0], y2[0,1,0]\n",
    "\n",
    "y3 = np.reshape(y2, (y2.shape[0],-1))\n",
    "print y3.shape\n"
   ]
  },
  {
   "cell_type": "code",
   "execution_count": 4,
   "metadata": {
    "collapsed": false
   },
   "outputs": [
    {
     "name": "stderr",
     "output_type": "stream",
     "text": [
      "cs231n/layers.py:237: RuntimeWarning: overflow encountered in exp\n",
      "  return 1/(1+np.exp(-x))\n"
     ]
    },
    {
     "name": "stdout",
     "output_type": "stream",
     "text": [
      " no decay lr=0.000986, std=0.004749,regu=0.000312 train accuracy is : 0.985000 val acc:  0.977300\n"
     ]
    }
   ],
   "source": [
    "##no decay lr=0.000986, std=0.004749,regu=0.000312 train accuracy is : 0.989000 val acc:  0.979100\n",
    "regu=0.000312\n",
    "learning_rate = 0.000986\n",
    "weight_scale = 0.004749\n",
    "\n",
    "\n",
    "model = TwoLayerNet(hidden_dim=256,input_dim=28*28,\n",
    "weight_scale=weight_scale, reg=regu,activation=3, scores_activation=3)\n",
    "solver = Solver(model,data,\n",
    "                print_every=4000, num_epochs=60, batch_size=100,\n",
    "                update_rule='sgd_momentum',lr_decay=1.0,verbose =False, #lr_decay=0.0,\n",
    "                optim_config={\n",
    "                  'learning_rate': learning_rate\n",
    "                }\n",
    "         )\n",
    "solver.train()\n",
    "print ' no decay lr=%f, std=%f,regu=%f train accuracy is : %f val acc:  %f' %(learning_rate, weight_scale,regu, solver.train_acc_history[-1], solver.val_acc_history[-1])\n",
    " "
   ]
  },
  {
   "cell_type": "code",
   "execution_count": 68,
   "metadata": {
    "collapsed": false
   },
   "outputs": [
    {
     "name": "stdout",
     "output_type": "stream",
     "text": [
      "Validation set accuracy:  0.9773\n",
      "Test set accuracy:  0.9733\n",
      "Noisy test set accuracy:  0.9731\n",
      "0.970425\n"
     ]
    }
   ],
   "source": [
    "y_test_pred = np.argmax(model.loss(data['X_test'],noise=0,test=1), axis=1)\n",
    "y_val_pred = np.argmax(model.loss(data['X_val']), axis=1)\n",
    "print 'Validation set accuracy: ', (y_val_pred == data['y_val']).mean()\n",
    "print 'Test set accuracy: ', (y_test_pred == data['y_test']).mean()\n",
    "y_test_pred = np.argmax(model.loss(data['X_test'],noise=1,test=1), axis=1)\n",
    "print 'Noisy test set accuracy: ', (y_test_pred == data['y_test']).mean()\n",
    "\n",
    "par=3\n",
    "aa=0.0\n",
    "for i in range(0,20):\n",
    "  y_test_pred = np.argmax(model.loss(data['X_test'],noise=1,test=1,noise2=1, parallel_samples_output=par), axis=1)\n",
    "  #print 'Noisy test set accuracy: ', (y_test_pred == data['y_test']).mean()\n",
    "  aa=aa+ (y_test_pred == data['y_test']).mean()\n",
    "print aa/20"
   ]
  },
  {
   "cell_type": "code",
   "execution_count": 69,
   "metadata": {
    "collapsed": true
   },
   "outputs": [],
   "source": [
    "np.save('W1_1ext784-256-10-cont', model.params['W1_1'])\n",
    "np.save('b1_1ext784-256-10-cont', model.params['b1_1'])\n",
    "np.save('W1_2ext784-256-10-cont', model.params['W1_2'])\n",
    "np.save('b1_2ext784-256-10-cont', model.params['b1_2'])\n",
    "np.save('W1_3ext784-256-10-cont', model.params['W1_3'])\n",
    "np.save('b1_3ext784-256-10-cont', model.params['b1_3'])\n",
    "np.save('W1_4ext784-256-10-cont', model.params['W1_4'])\n",
    "np.save('b1_4ext784-256-10-cont', model.params['b1_4'])"
   ]
  },
  {
   "cell_type": "code",
   "execution_count": null,
   "metadata": {
    "collapsed": true
   },
   "outputs": [],
   "source": []
  },
  {
   "cell_type": "code",
   "execution_count": null,
   "metadata": {
    "collapsed": true
   },
   "outputs": [],
   "source": []
  }
 ],
 "metadata": {
  "kernelspec": {
   "display_name": "Python [Root]",
   "language": "python",
   "name": "Python [Root]"
  },
  "language_info": {
   "codemirror_mode": {
    "name": "ipython",
    "version": 2
   },
   "file_extension": ".py",
   "mimetype": "text/x-python",
   "name": "python",
   "nbconvert_exporter": "python",
   "pygments_lexer": "ipython2",
   "version": "2.7.12"
  }
 },
 "nbformat": 4,
 "nbformat_minor": 0
}
