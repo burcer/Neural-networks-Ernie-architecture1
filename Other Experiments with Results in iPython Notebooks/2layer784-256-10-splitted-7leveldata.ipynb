{
 "cells": [
  {
   "cell_type": "code",
   "execution_count": 1,
   "metadata": {
    "collapsed": false
   },
   "outputs": [
    {
     "name": "stderr",
     "output_type": "stream",
     "text": [
      "/home/burc/anaconda2/lib/python2.7/site-packages/matplotlib/font_manager.py:273: UserWarning: Matplotlib is building the font cache using fc-list. This may take a moment.\n",
      "  warnings.warn('Matplotlib is building the font cache using fc-list. This may take a moment.')\n"
     ]
    },
    {
     "name": "stdout",
     "output_type": "stream",
     "text": [
      "(60000,)\n",
      "0.0\n",
      "255.0\n",
      "(50000, 28, 28)\n",
      "18.2142857143\n",
      "236.785714286\n",
      "X_val:  (10000, 28, 28)\n",
      "X_train:  (50000, 28, 28)\n",
      "X_test:  (10000, 28, 28)\n",
      "y_val:  (10000,)\n",
      "y_train:  (50000,)\n",
      "y_test:  (10000,)\n"
     ]
    }
   ],
   "source": [
    "import numpy as np\n",
    "import matplotlib.pyplot as plt\n",
    "from nn.classifiers.fc_net_split import *\n",
    "from nn.data_utils import get_CIFAR10_data\n",
    "from nn.data_utils_mnist import *\n",
    "from nn.gradient_check import eval_numerical_gradient, eval_numerical_gradient_array\n",
    "from nn.solver import Solver\n",
    "%matplotlib inline\n",
    "plt.rcParams['figure.figsize'] = (10.0, 8.0) # set default size of plots\n",
    "plt.rcParams['image.interpolation'] = 'nearest'\n",
    "plt.rcParams['image.cmap'] = 'gray'\n",
    "\n",
    "# for auto-reloading external modules\n",
    "# see http://stackoverflow.com/questions/1907993/autoreload-of-modules-in-ipython\n",
    "%load_ext autoreload\n",
    "%autoreload 2\n",
    "data = get_MNIST_data(test_trinary=1,train_trinary=1,val_trinary=1,noise_amplitude=0.0,no_of_levels=7)\n",
    "for k, v in data.iteritems():\n",
    "  print '%s: ' % k, v.shape\n",
    "\n"
   ]
  },
  {
   "cell_type": "code",
   "execution_count": 15,
   "metadata": {
    "collapsed": true
   },
   "outputs": [],
   "source": [
    "X=data['X_train']"
   ]
  },
  {
   "cell_type": "code",
   "execution_count": 16,
   "metadata": {
    "collapsed": false
   },
   "outputs": [
    {
     "name": "stdout",
     "output_type": "stream",
     "text": [
      "(50000, 28, 28)\n"
     ]
    }
   ],
   "source": [
    "print X.shape"
   ]
  },
  {
   "cell_type": "code",
   "execution_count": 2,
   "metadata": {
    "collapsed": false
   },
   "outputs": [
    {
     "name": "stdout",
     "output_type": "stream",
     "text": [
      "lr=0.000371, std=0.000974, regu=0.005416 train accuracy is : 0.985000 val acc:  0.968700\n",
      " no decay lr=0.000371, std=0.000974,regu=0.005416 train accuracy is : 0.992000 val acc:  0.974000\n",
      "lr=0.000453, std=0.000100, regu=0.000110 train accuracy is : 0.987000 val acc:  0.970300\n",
      " no decay lr=0.000453, std=0.000100,regu=0.000110 train accuracy is : 0.988000 val acc:  0.976200\n",
      "lr=0.000600, std=0.005047, regu=0.000154 train accuracy is : 0.987000 val acc:  0.970400\n",
      " no decay lr=0.000600, std=0.005047,regu=0.000154 train accuracy is : 0.993000 val acc:  0.976400\n",
      "lr=0.000878, std=0.004035, regu=0.027070 train accuracy is : 0.983000 val acc:  0.970300\n"
     ]
    },
    {
     "name": "stderr",
     "output_type": "stream",
     "text": [
      "cs231n/layers.py:237: RuntimeWarning: overflow encountered in exp\n",
      "  return 1/(1+np.exp(-x))\n"
     ]
    },
    {
     "name": "stdout",
     "output_type": "stream",
     "text": [
      " no decay lr=0.000878, std=0.004035,regu=0.027070 train accuracy is : 0.978000 val acc:  0.968500\n",
      "lr=0.000701, std=0.000661, regu=0.011088 train accuracy is : 0.986000 val acc:  0.972300\n",
      " no decay lr=0.000701, std=0.000661,regu=0.011088 train accuracy is : 0.977000 val acc:  0.972700\n",
      "lr=0.000169, std=0.000330, regu=0.008601 train accuracy is : 0.976000 val acc:  0.962700\n",
      " no decay lr=0.000169, std=0.000330,regu=0.008601 train accuracy is : 0.982000 val acc:  0.970100\n",
      "lr=0.000248, std=0.009257, regu=0.007585 train accuracy is : 0.967000 val acc:  0.960600\n",
      " no decay lr=0.000248, std=0.009257,regu=0.007585 train accuracy is : 0.984000 val acc:  0.970700\n",
      "lr=0.000604, std=0.002393, regu=0.008550 train accuracy is : 0.981000 val acc:  0.971700\n",
      " no decay lr=0.000604, std=0.002393,regu=0.008550 train accuracy is : 0.983000 val acc:  0.974400\n",
      "lr=0.000133, std=0.001579, regu=0.035198 train accuracy is : 0.968000 val acc:  0.963400\n",
      " no decay lr=0.000133, std=0.001579,regu=0.035198 train accuracy is : 0.974000 val acc:  0.965900\n",
      "lr=0.000372, std=0.000498, regu=0.059415 train accuracy is : 0.971000 val acc:  0.963700\n",
      " no decay lr=0.000372, std=0.000498,regu=0.059415 train accuracy is : 0.981000 val acc:  0.965200\n",
      "lr=0.000104, std=0.000478, regu=0.001723 train accuracy is : 0.967000 val acc:  0.961200\n",
      " no decay lr=0.000104, std=0.000478,regu=0.001723 train accuracy is : 0.974000 val acc:  0.968500\n",
      "lr=0.000117, std=0.001836, regu=0.076938 train accuracy is : 0.967000 val acc:  0.958500\n",
      " no decay lr=0.000117, std=0.001836,regu=0.076938 train accuracy is : 0.975000 val acc:  0.962600\n",
      "lr=0.000923, std=0.000143, regu=0.087889 train accuracy is : 0.969000 val acc:  0.962300\n",
      " no decay lr=0.000923, std=0.000143,regu=0.087889 train accuracy is : 0.955000 val acc:  0.956700\n",
      "lr=0.000121, std=0.000436, regu=0.004835 train accuracy is : 0.978000 val acc:  0.961800\n",
      " no decay lr=0.000121, std=0.000436,regu=0.004835 train accuracy is : 0.986000 val acc:  0.969400\n",
      "lr=0.000461, std=0.004881, regu=0.000192 train accuracy is : 0.983000 val acc:  0.969800\n",
      " no decay lr=0.000461, std=0.004881,regu=0.000192 train accuracy is : 0.992000 val acc:  0.976300\n",
      "lr=0.000184, std=0.005223, regu=0.083845 train accuracy is : 0.960000 val acc:  0.958100\n",
      " no decay lr=0.000184, std=0.005223,regu=0.083845 train accuracy is : 0.972000 val acc:  0.962300\n",
      "lr=0.000169, std=0.000303, regu=0.007490 train accuracy is : 0.983000 val acc:  0.964700\n",
      " no decay lr=0.000169, std=0.000303,regu=0.007490 train accuracy is : 0.986000 val acc:  0.971900\n",
      "lr=0.000316, std=0.001864, regu=0.000366 train accuracy is : 0.981000 val acc:  0.968900\n",
      " no decay lr=0.000316, std=0.001864,regu=0.000366 train accuracy is : 0.987000 val acc:  0.975100\n",
      "lr=0.000289, std=0.003761, regu=0.001054 train accuracy is : 0.979000 val acc:  0.967500\n",
      " no decay lr=0.000289, std=0.003761,regu=0.001054 train accuracy is : 0.987000 val acc:  0.974200\n",
      "lr=0.000987, std=0.000199, regu=0.044699 train accuracy is : 0.976000 val acc:  0.967300\n",
      " no decay lr=0.000987, std=0.000199,regu=0.044699 train accuracy is : 0.974000 val acc:  0.962900\n",
      "lr=0.000756, std=0.000141, regu=0.000114 train accuracy is : 0.984000 val acc:  0.973500\n",
      " no decay lr=0.000756, std=0.000141,regu=0.000114 train accuracy is : 0.983000 val acc:  0.975900\n",
      "lr=0.000578, std=0.000393, regu=0.000187 train accuracy is : 0.988000 val acc:  0.971900\n",
      " no decay lr=0.000578, std=0.000393,regu=0.000187 train accuracy is : 0.989000 val acc:  0.977400\n",
      "lr=0.000315, std=0.001443, regu=0.001565 train accuracy is : 0.982000 val acc:  0.969600\n",
      " no decay lr=0.000315, std=0.001443,regu=0.001565 train accuracy is : 0.985000 val acc:  0.973400\n",
      "lr=0.000503, std=0.001722, regu=0.000117 train accuracy is : 0.985000 val acc:  0.971600\n",
      " no decay lr=0.000503, std=0.001722,regu=0.000117 train accuracy is : 0.991000 val acc:  0.976300\n",
      "lr=0.000204, std=0.000841, regu=0.003815 train accuracy is : 0.974000 val acc:  0.967400\n",
      " no decay lr=0.000204, std=0.000841,regu=0.003815 train accuracy is : 0.988000 val acc:  0.972900\n",
      "lr=0.000248, std=0.000857, regu=0.027611 train accuracy is : 0.976000 val acc:  0.967900\n",
      " no decay lr=0.000248, std=0.000857,regu=0.027611 train accuracy is : 0.985000 val acc:  0.968600\n",
      "lr=0.000346, std=0.000596, regu=0.000285 train accuracy is : 0.984000 val acc:  0.969400\n",
      " no decay lr=0.000346, std=0.000596,regu=0.000285 train accuracy is : 0.992000 val acc:  0.973700\n",
      "lr=0.000727, std=0.000354, regu=0.009864 train accuracy is : 0.981000 val acc:  0.972300\n",
      " no decay lr=0.000727, std=0.000354,regu=0.009864 train accuracy is : 0.992000 val acc:  0.974500\n",
      "lr=0.000436, std=0.001756, regu=0.001823 train accuracy is : 0.985000 val acc:  0.970800\n",
      " no decay lr=0.000436, std=0.001756,regu=0.001823 train accuracy is : 0.992000 val acc:  0.975500\n",
      "lr=0.000271, std=0.000340, regu=0.001134 train accuracy is : 0.987000 val acc:  0.968200\n",
      " no decay lr=0.000271, std=0.000340,regu=0.001134 train accuracy is : 0.991000 val acc:  0.974000\n",
      "lr=0.000866, std=0.000153, regu=0.000956 train accuracy is : 0.986000 val acc:  0.972400\n",
      " no decay lr=0.000866, std=0.000153,regu=0.000956 train accuracy is : 0.981000 val acc:  0.976600\n",
      "lr=0.000645, std=0.003728, regu=0.000222 train accuracy is : 0.980000 val acc:  0.972200\n",
      " no decay lr=0.000645, std=0.003728,regu=0.000222 train accuracy is : 0.992000 val acc:  0.975300\n",
      "lr=0.000681, std=0.001279, regu=0.000202 train accuracy is : 0.988000 val acc:  0.971900\n",
      " no decay lr=0.000681, std=0.001279,regu=0.000202 train accuracy is : 0.984000 val acc:  0.976200\n",
      "lr=0.000189, std=0.000919, regu=0.050635 train accuracy is : 0.968000 val acc:  0.963700\n",
      " no decay lr=0.000189, std=0.000919,regu=0.050635 train accuracy is : 0.968000 val acc:  0.965600\n",
      "lr=0.000240, std=0.006718, regu=0.003940 train accuracy is : 0.962000 val acc:  0.963200\n",
      " no decay lr=0.000240, std=0.006718,regu=0.003940 train accuracy is : 0.987000 val acc:  0.971200\n",
      "lr=0.000272, std=0.000342, regu=0.000159 train accuracy is : 0.979000 val acc:  0.967500\n",
      " no decay lr=0.000272, std=0.000342,regu=0.000159 train accuracy is : 0.991000 val acc:  0.973600\n",
      "lr=0.000264, std=0.000161, regu=0.000295 train accuracy is : 0.977000 val acc:  0.967700\n",
      " no decay lr=0.000264, std=0.000161,regu=0.000295 train accuracy is : 0.989000 val acc:  0.973600\n"
     ]
    },
    {
     "ename": "KeyboardInterrupt",
     "evalue": "",
     "output_type": "error",
     "traceback": [
      "\u001b[1;31m---------------------------------------------------------------------------\u001b[0m",
      "\u001b[1;31mKeyboardInterrupt\u001b[0m                         Traceback (most recent call last)",
      "\u001b[1;32m<ipython-input-2-f992cc09b794>\u001b[0m in \u001b[0;36m<module>\u001b[1;34m()\u001b[0m\n\u001b[0;32m     29\u001b[0m          )\n\u001b[0;32m     30\u001b[0m \u001b[1;33m\u001b[0m\u001b[0m\n\u001b[1;32m---> 31\u001b[1;33m     \u001b[0msolver\u001b[0m\u001b[1;33m.\u001b[0m\u001b[0mtrain\u001b[0m\u001b[1;33m(\u001b[0m\u001b[1;33m)\u001b[0m\u001b[1;33m\u001b[0m\u001b[0m\n\u001b[0m\u001b[0;32m     32\u001b[0m \u001b[1;33m\u001b[0m\u001b[0m\n\u001b[0;32m     33\u001b[0m     \u001b[1;32mprint\u001b[0m \u001b[1;34m'lr=%f, std=%f, regu=%f train accuracy is : %f val acc:  %f'\u001b[0m \u001b[1;33m%\u001b[0m\u001b[1;33m(\u001b[0m\u001b[0mlearning_rate\u001b[0m\u001b[1;33m,\u001b[0m \u001b[0mweight_scale\u001b[0m\u001b[1;33m,\u001b[0m \u001b[0mregu\u001b[0m\u001b[1;33m,\u001b[0m \u001b[0msolver\u001b[0m\u001b[1;33m.\u001b[0m\u001b[0mtrain_acc_history\u001b[0m\u001b[1;33m[\u001b[0m\u001b[1;33m-\u001b[0m\u001b[1;36m1\u001b[0m\u001b[1;33m]\u001b[0m\u001b[1;33m,\u001b[0m \u001b[0msolver\u001b[0m\u001b[1;33m.\u001b[0m\u001b[0mval_acc_history\u001b[0m\u001b[1;33m[\u001b[0m\u001b[1;33m-\u001b[0m\u001b[1;36m1\u001b[0m\u001b[1;33m]\u001b[0m\u001b[1;33m)\u001b[0m\u001b[1;33m\u001b[0m\u001b[0m\n",
      "\u001b[1;32m/home/burc/assignment2/cs231n/solver.pyc\u001b[0m in \u001b[0;36mtrain\u001b[1;34m(self)\u001b[0m\n\u001b[0;32m    230\u001b[0m \u001b[1;33m\u001b[0m\u001b[0m\n\u001b[0;32m    231\u001b[0m     \u001b[1;32mfor\u001b[0m \u001b[0mt\u001b[0m \u001b[1;32min\u001b[0m \u001b[0mxrange\u001b[0m\u001b[1;33m(\u001b[0m\u001b[0mnum_iterations\u001b[0m\u001b[1;33m)\u001b[0m\u001b[1;33m:\u001b[0m\u001b[1;33m\u001b[0m\u001b[0m\n\u001b[1;32m--> 232\u001b[1;33m       \u001b[0mself\u001b[0m\u001b[1;33m.\u001b[0m\u001b[0m_step\u001b[0m\u001b[1;33m(\u001b[0m\u001b[1;33m)\u001b[0m\u001b[1;33m\u001b[0m\u001b[0m\n\u001b[0m\u001b[0;32m    233\u001b[0m \u001b[1;33m\u001b[0m\u001b[0m\n\u001b[0;32m    234\u001b[0m       \u001b[1;31m# Maybe print training loss\u001b[0m\u001b[1;33m\u001b[0m\u001b[1;33m\u001b[0m\u001b[0m\n",
      "\u001b[1;32m/home/burc/assignment2/cs231n/solver.pyc\u001b[0m in \u001b[0;36m_step\u001b[1;34m(self)\u001b[0m\n\u001b[0;32m    168\u001b[0m     \u001b[1;31m# Compute loss and gradient\u001b[0m\u001b[1;33m\u001b[0m\u001b[1;33m\u001b[0m\u001b[0m\n\u001b[0;32m    169\u001b[0m \u001b[1;33m\u001b[0m\u001b[0m\n\u001b[1;32m--> 170\u001b[1;33m     \u001b[0mloss\u001b[0m\u001b[1;33m,\u001b[0m \u001b[0mgrads\u001b[0m \u001b[1;33m=\u001b[0m \u001b[0mself\u001b[0m\u001b[1;33m.\u001b[0m\u001b[0mmodel\u001b[0m\u001b[1;33m.\u001b[0m\u001b[0mloss\u001b[0m\u001b[1;33m(\u001b[0m\u001b[0mX_batch\u001b[0m\u001b[1;33m,\u001b[0m \u001b[0my_batch\u001b[0m\u001b[1;33m)\u001b[0m\u001b[1;33m\u001b[0m\u001b[0m\n\u001b[0m\u001b[0;32m    171\u001b[0m     \u001b[0mself\u001b[0m\u001b[1;33m.\u001b[0m\u001b[0mloss_history\u001b[0m\u001b[1;33m.\u001b[0m\u001b[0mappend\u001b[0m\u001b[1;33m(\u001b[0m\u001b[0mloss\u001b[0m\u001b[1;33m)\u001b[0m\u001b[1;33m\u001b[0m\u001b[0m\n\u001b[0;32m    172\u001b[0m \u001b[1;33m\u001b[0m\u001b[0m\n",
      "\u001b[1;32m/home/burc/assignment2/cs231n/classifiers/fc_net_split.pyc\u001b[0m in \u001b[0;36mloss\u001b[1;34m(self, X, y, noise, noise2, test, parallel_samples_output)\u001b[0m\n\u001b[0;32m    222\u001b[0m         \u001b[0mdscores\u001b[0m \u001b[1;33m=\u001b[0m \u001b[0mtanh_backward\u001b[0m\u001b[1;33m(\u001b[0m\u001b[0mdscores\u001b[0m\u001b[1;33m,\u001b[0m \u001b[0mscore_cache2\u001b[0m\u001b[1;33m)\u001b[0m \u001b[1;31m#changed\u001b[0m\u001b[1;33m\u001b[0m\u001b[0m\n\u001b[0;32m    223\u001b[0m \u001b[1;33m\u001b[0m\u001b[0m\n\u001b[1;32m--> 224\u001b[1;33m     \u001b[0mdhidden\u001b[0m\u001b[1;33m,\u001b[0m \u001b[0mdW2\u001b[0m\u001b[1;33m,\u001b[0m \u001b[0mdb2\u001b[0m \u001b[1;33m=\u001b[0m \u001b[0maffine_backward\u001b[0m\u001b[1;33m(\u001b[0m\u001b[0mdscores\u001b[0m\u001b[1;33m,\u001b[0m \u001b[0mscore_cache\u001b[0m\u001b[1;33m)\u001b[0m\u001b[1;33m\u001b[0m\u001b[0m\n\u001b[0m\u001b[0;32m    225\u001b[0m \u001b[1;33m\u001b[0m\u001b[0m\n\u001b[0;32m    226\u001b[0m \u001b[1;33m\u001b[0m\u001b[0m\n",
      "\u001b[1;32m/home/burc/assignment2/cs231n/layers.pyc\u001b[0m in \u001b[0;36maffine_backward\u001b[1;34m(dout, cache)\u001b[0m\n\u001b[0;32m     58\u001b[0m   \u001b[1;31m#############################################################################\u001b[0m\u001b[1;33m\u001b[0m\u001b[1;33m\u001b[0m\u001b[0m\n\u001b[0;32m     59\u001b[0m   \u001b[0mx_reshape\u001b[0m \u001b[1;33m=\u001b[0m \u001b[0mnp\u001b[0m\u001b[1;33m.\u001b[0m\u001b[0mreshape\u001b[0m\u001b[1;33m(\u001b[0m\u001b[0mx\u001b[0m\u001b[1;33m,\u001b[0m \u001b[1;33m(\u001b[0m\u001b[0mx\u001b[0m\u001b[1;33m.\u001b[0m\u001b[0mshape\u001b[0m\u001b[1;33m[\u001b[0m\u001b[1;36m0\u001b[0m\u001b[1;33m]\u001b[0m\u001b[1;33m,\u001b[0m \u001b[1;33m-\u001b[0m\u001b[1;36m1\u001b[0m\u001b[1;33m)\u001b[0m\u001b[1;33m)\u001b[0m\u001b[1;33m\u001b[0m\u001b[0m\n\u001b[1;32m---> 60\u001b[1;33m   \u001b[0mdx\u001b[0m \u001b[1;33m=\u001b[0m \u001b[0mdout\u001b[0m\u001b[1;33m.\u001b[0m\u001b[0mdot\u001b[0m\u001b[1;33m(\u001b[0m\u001b[0mw\u001b[0m\u001b[1;33m.\u001b[0m\u001b[0mT\u001b[0m\u001b[1;33m)\u001b[0m\u001b[1;33m\u001b[0m\u001b[0m\n\u001b[0m\u001b[0;32m     61\u001b[0m   \u001b[0mdx\u001b[0m \u001b[1;33m=\u001b[0m \u001b[0mnp\u001b[0m\u001b[1;33m.\u001b[0m\u001b[0mreshape\u001b[0m\u001b[1;33m(\u001b[0m\u001b[0mdx\u001b[0m\u001b[1;33m,\u001b[0m \u001b[0mx\u001b[0m\u001b[1;33m.\u001b[0m\u001b[0mshape\u001b[0m\u001b[1;33m)\u001b[0m\u001b[1;33m\u001b[0m\u001b[0m\n\u001b[0;32m     62\u001b[0m   \u001b[0mdw\u001b[0m \u001b[1;33m=\u001b[0m \u001b[0mx_reshape\u001b[0m\u001b[1;33m.\u001b[0m\u001b[0mT\u001b[0m\u001b[1;33m.\u001b[0m\u001b[0mdot\u001b[0m\u001b[1;33m(\u001b[0m\u001b[0mdout\u001b[0m\u001b[1;33m)\u001b[0m\u001b[1;33m\u001b[0m\u001b[0m\n",
      "\u001b[1;31mKeyboardInterrupt\u001b[0m: "
     ]
    }
   ],
   "source": [
    "for i in range(100):\n",
    "    #learning_rate = 0.000830 #10**np.random.uniform(-4,-3)\n",
    "    #weight_scale = 0.003849 #10**np.random.uniform(-3,-1)\n",
    "    #regu = 0.00168276907439#10**np.random.uniform(-3,-1)\n",
    "    regu=10**np.random.uniform(-4,-1)\n",
    "    learning_rate = 10**np.random.uniform(-4,-3)\n",
    "    weight_scale = 10**np.random.uniform(-4,-2)\n",
    "    #regu =0.00329329787291\n",
    "    #print regu\n",
    "    #learning_rate=0.0005\n",
    "    #weight_scale=0.027\n",
    "    #learning_rate = 0.001 #10**np.random.uniform(-5,-1)\n",
    "    #weight_scale = 0.02 #10**np.random.uniform(-3,0)\n",
    "    # no decay lr=0.000292, std=0.004709, train accuracy is : 0.999000 val acc:  0.970500\n",
    "#0.14912609128\n",
    "#0.00669438412009\n",
    "#0.00168276907439\n",
    "# no decay lr=0.000830, std=0.003849, train accuracy is : 0.994000 val acc:  0.967100\n",
    "# no decay lr=0.000508, std=0.027556, train accuracy is : 1.000000 val acc:  0.971500\n",
    "\n",
    "    model = TwoLayerNet(hidden_dim=256,input_dim=28*28,\n",
    "              weight_scale=weight_scale, reg=regu, activation=3, scores_activation=3)\n",
    "    solver = Solver(model,data,\n",
    "                print_every=10, num_epochs=60, batch_size=100,\n",
    "                update_rule='sgd_momentum',lr_decay=0.95,verbose = False,\n",
    "                optim_config={\n",
    "                  'learning_rate': learning_rate\n",
    "                }\n",
    "         )\n",
    "    \n",
    "    solver.train()\n",
    "\n",
    "    print 'lr=%f, std=%f, regu=%f train accuracy is : %f val acc:  %f' %(learning_rate, weight_scale, regu, solver.train_acc_history[-1], solver.val_acc_history[-1])\n",
    " \n",
    "\n",
    "    model = TwoLayerNet(hidden_dim=256,input_dim=28*28,\n",
    "              weight_scale=weight_scale, reg=regu,activation=3, scores_activation=3)\n",
    "    solver = Solver(model,data,\n",
    "                print_every=4000, num_epochs=60, batch_size=100,\n",
    "                update_rule='sgd_momentum',lr_decay=1.0,verbose =False, #lr_decay=0.0,\n",
    "                optim_config={\n",
    "                  'learning_rate': learning_rate\n",
    "                }\n",
    "         )\n",
    "    solver.train()\n",
    "    print ' no decay lr=%f, std=%f,regu=%f train accuracy is : %f val acc:  %f' %(learning_rate, weight_scale,regu, solver.train_acc_history[-1], solver.val_acc_history[-1])\n",
    " \n",
    "\n",
    "\n",
    "#solver.train()\n",
    "\n",
    "plt.plot(solver.loss_history, 'o')\n",
    "plt.title('Training loss history')\n",
    "plt.xlabel('Iteration')\n",
    "plt.ylabel('Training loss')"
   ]
  },
  {
   "cell_type": "code",
   "execution_count": 30,
   "metadata": {
    "collapsed": false
   },
   "outputs": [
    {
     "name": "stdout",
     "output_type": "stream",
     "text": [
      "(7840,)\n",
      "0 1231\n",
      "(10, 28, 28)\n",
      "0 1 784 28\n",
      "(10, 784)\n"
     ]
    }
   ],
   "source": [
    "y= np.array(range(0,28*28*10))\n",
    "print y.shape\n",
    "\n",
    "print y[0], y[1231]\n",
    "y2= np.reshape(y,(10,28,28))\n",
    "print y2.shape\n",
    "print y2[0,0,0], y2[0,0,1], y2[1,0,0], y2[0,1,0]\n",
    "\n",
    "y3 = np.reshape(y2, (y2.shape[0],-1))\n",
    "print y3.shape\n"
   ]
  },
  {
   "cell_type": "code",
   "execution_count": 3,
   "metadata": {
    "collapsed": false
   },
   "outputs": [
    {
     "name": "stdout",
     "output_type": "stream",
     "text": [
      " no decay lr=0.000578, std=0.000393,regu=0.000187 train accuracy is : 0.989000 val acc:  0.977300\n"
     ]
    }
   ],
   "source": [
    "##no decay lr=0.000986, std=0.004749,regu=0.000312 train accuracy is : 0.989000 val acc:  0.979100\n",
    "##no decay lr=0.000578, std=0.000393,regu=0.000187 train accuracy is : 0.989000 val acc:  0.977400\n",
    "regu=0.000187\n",
    "learning_rate = 0.000578\n",
    "weight_scale = 0.000393\n",
    "\n",
    "\n",
    "model = TwoLayerNet(hidden_dim=256,input_dim=28*28,\n",
    "weight_scale=weight_scale, reg=regu,activation=3, scores_activation=3)\n",
    "solver = Solver(model,data,\n",
    "                print_every=4000, num_epochs=60, batch_size=100,\n",
    "                update_rule='sgd_momentum',lr_decay=1.0,verbose =False, #lr_decay=0.0,\n",
    "                optim_config={\n",
    "                  'learning_rate': learning_rate\n",
    "                }\n",
    "         )\n",
    "solver.train()\n",
    "print ' no decay lr=%f, std=%f,regu=%f train accuracy is : %f val acc:  %f' %(learning_rate, weight_scale,regu, solver.train_acc_history[-1], solver.val_acc_history[-1])\n",
    " "
   ]
  },
  {
   "cell_type": "code",
   "execution_count": 7,
   "metadata": {
    "collapsed": false
   },
   "outputs": [
    {
     "name": "stdout",
     "output_type": "stream",
     "text": [
      "Validation set accuracy:  0.9775\n",
      "Test set accuracy:  0.9731\n",
      "Noisy test set accuracy:  0.9735\n",
      "0.972035\n",
      "0.972535\n",
      "0.97251\n",
      "0.97271\n",
      "0.97269\n",
      "0.97271\n",
      "0.97286\n"
     ]
    }
   ],
   "source": [
    "y_test_pred = np.argmax(model.loss(data['X_test'],noise=0,test=1), axis=1)\n",
    "y_val_pred = np.argmax(model.loss(data['X_val']), axis=1)\n",
    "print 'Validation set accuracy: ', (y_val_pred == data['y_val']).mean()\n",
    "print 'Test set accuracy: ', (y_test_pred == data['y_test']).mean()\n",
    "y_test_pred = np.argmax(model.loss(data['X_test'],noise=1,test=1), axis=1)\n",
    "print 'Noisy test set accuracy: ', (y_test_pred == data['y_test']).mean()\n",
    "\n",
    "#y_test_pred = np.argmax(model.loss(data['X_test'],noise=1,test=1,noise2=1, parallel_samples_output=32), axis=1)\n",
    "#print 'Noisy test set accuracy: ', (y_test_pred == data['y_test']).mean()\n",
    "\n",
    "\n",
    "par=1\n",
    "aa=0.0\n",
    "for i in range(0,20):\n",
    "  y_test_pred = np.argmax(model.loss(data['X_test'],noise=1,test=1,noise2=1, parallel_samples_output=par), axis=1)\n",
    "  #print 'Noisy test set accuracy: ', (y_test_pred == data['y_test']).mean()\n",
    "  aa=aa+ (y_test_pred == data['y_test']).mean()\n",
    "print aa/20\n",
    "\n",
    "par=2\n",
    "aa=0.0\n",
    "for i in range(0,20):\n",
    "  y_test_pred = np.argmax(model.loss(data['X_test'],noise=1,test=1,noise2=1, parallel_samples_output=par), axis=1)\n",
    "  #print 'Noisy test set accuracy: ', (y_test_pred == data['y_test']).mean()\n",
    "  aa=aa+ (y_test_pred == data['y_test']).mean()\n",
    "print aa/20\n",
    "\n",
    "\n",
    "par=3\n",
    "aa=0.0\n",
    "for i in range(0,20):\n",
    "  y_test_pred = np.argmax(model.loss(data['X_test'],noise=1,test=1,noise2=1, parallel_samples_output=par), axis=1)\n",
    "  #print 'Noisy test set accuracy: ', (y_test_pred == data['y_test']).mean()\n",
    "  aa=aa+ (y_test_pred == data['y_test']).mean()\n",
    "print aa/20\n",
    "\n",
    "par=4\n",
    "aa=0.0\n",
    "for i in range(0,20):\n",
    "  y_test_pred = np.argmax(model.loss(data['X_test'],noise=1,test=1,noise2=1, parallel_samples_output=par), axis=1)\n",
    "  #print 'Noisy test set accuracy: ', (y_test_pred == data['y_test']).mean()\n",
    "  aa=aa+ (y_test_pred == data['y_test']).mean()\n",
    "print aa/20\n",
    "\n",
    "par=8\n",
    "aa=0.0\n",
    "for i in range(0,20):\n",
    "  y_test_pred = np.argmax(model.loss(data['X_test'],noise=1,test=1,noise2=1, parallel_samples_output=par), axis=1)\n",
    "  #print 'Noisy test set accuracy: ', (y_test_pred == data['y_test']).mean()\n",
    "  aa=aa+ (y_test_pred == data['y_test']).mean()\n",
    "print aa/20\n",
    "\n",
    "par=16\n",
    "aa=0.0\n",
    "for i in range(0,20):\n",
    "  y_test_pred = np.argmax(model.loss(data['X_test'],noise=1,test=1,noise2=1, parallel_samples_output=par), axis=1)\n",
    "  #print 'Noisy test set accuracy: ', (y_test_pred == data['y_test']).mean()\n",
    "  aa=aa+ (y_test_pred == data['y_test']).mean()\n",
    "print aa/20\n",
    "\n",
    "par=24\n",
    "aa=0.0\n",
    "for i in range(0,20):\n",
    "  y_test_pred = np.argmax(model.loss(data['X_test'],noise=1,test=1,noise2=1, parallel_samples_output=par), axis=1)\n",
    "  #print 'Noisy test set accuracy: ', (y_test_pred == data['y_test']).mean()\n",
    "  aa=aa+ (y_test_pred == data['y_test']).mean()\n",
    "print aa/20"
   ]
  },
  {
   "cell_type": "code",
   "execution_count": null,
   "metadata": {
    "collapsed": true
   },
   "outputs": [],
   "source": [
    "Test set accuracy:  0.9731\n",
    "\n",
    "0.97198\n",
    "0.97243\n",
    "0.972575\n",
    "0.97253\n",
    "0.972785\n",
    "0.97279\n",
    "0.9727\n",
    "\n",
    "Test set accuracy:  0.9731\n",
    "0.972035\n",
    "0.972535\n",
    "0.97251\n",
    "0.97271\n",
    "0.97269\n",
    "0.97271\n",
    "0.97286"
   ]
  },
  {
   "cell_type": "code",
   "execution_count": 8,
   "metadata": {
    "collapsed": true
   },
   "outputs": [],
   "source": [
    "np.save('W1_1ext784-256-10-7level', model.params['W1_1'])\n",
    "np.save('b1_1ext784-256-10-7level', model.params['b1_1'])\n",
    "np.save('W1_2ext784-256-10-7level', model.params['W1_2'])\n",
    "np.save('b1_2ext784-256-10-7level', model.params['b1_2'])\n",
    "np.save('W1_3ext784-256-10-7level', model.params['W1_3'])\n",
    "np.save('b1_3ext784-256-10-7level', model.params['b1_3'])\n",
    "np.save('W1_4ext784-256-10-7level', model.params['W1_4'])\n",
    "np.save('b1_4ext784-256-10-7level', model.params['b1_4'])"
   ]
  },
  {
   "cell_type": "code",
   "execution_count": null,
   "metadata": {
    "collapsed": true
   },
   "outputs": [],
   "source": []
  }
 ],
 "metadata": {
  "kernelspec": {
   "display_name": "Python [Root]",
   "language": "python",
   "name": "Python [Root]"
  },
  "language_info": {
   "codemirror_mode": {
    "name": "ipython",
    "version": 2
   },
   "file_extension": ".py",
   "mimetype": "text/x-python",
   "name": "python",
   "nbconvert_exporter": "python",
   "pygments_lexer": "ipython2",
   "version": "2.7.12"
  }
 },
 "nbformat": 4,
 "nbformat_minor": 0
}
