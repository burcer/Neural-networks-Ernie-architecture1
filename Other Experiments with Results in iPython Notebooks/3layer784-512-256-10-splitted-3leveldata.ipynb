{
 "cells": [
  {
   "cell_type": "code",
   "execution_count": 12,
   "metadata": {
    "collapsed": false
   },
   "outputs": [
    {
     "name": "stdout",
     "output_type": "stream",
     "text": [
      "The autoreload extension is already loaded. To reload it, use:\n",
      "  %reload_ext autoreload\n",
      "(60000,)\n",
      "0.0\n",
      "255.0\n",
      "(50000, 28, 28)\n",
      "42.5\n",
      "212.5\n",
      "X_val:  (10000, 28, 28)\n",
      "X_train:  (50000, 28, 28)\n",
      "X_test:  (10000, 28, 28)\n",
      "y_val:  (10000,)\n",
      "y_train:  (50000,)\n",
      "y_test:  (10000,)\n"
     ]
    }
   ],
   "source": [
    "import numpy as np\n",
    "import matplotlib.pyplot as plt\n",
    "from nn.classifiers.fc_net_split3 import *\n",
    "from nn.data_utils import get_CIFAR10_data\n",
    "from nn.data_utils_mnist import *\n",
    "from nn.gradient_check import eval_numerical_gradient, eval_numerical_gradient_array\n",
    "from nn.solver import Solver\n",
    "%matplotlib inline\n",
    "plt.rcParams['figure.figsize'] = (10.0, 8.0) # set default size of plots\n",
    "plt.rcParams['image.interpolation'] = 'nearest'\n",
    "plt.rcParams['image.cmap'] = 'gray'\n",
    "\n",
    "# for auto-reloading external modules\n",
    "# see http://stackoverflow.com/questions/1907993/autoreload-of-modules-in-ipython\n",
    "%load_ext autoreload\n",
    "%autoreload 2\n",
    "data = get_MNIST_data(test_trinary=1,train_trinary=1,val_trinary=1,noise_amplitude=0.0,no_of_levels=3)\n",
    "for k, v in data.iteritems():\n",
    "  print '%s: ' % k, v.shape\n",
    "\n"
   ]
  },
  {
   "cell_type": "code",
   "execution_count": 15,
   "metadata": {
    "collapsed": true
   },
   "outputs": [],
   "source": [
    "X=data['X_train']"
   ]
  },
  {
   "cell_type": "code",
   "execution_count": 16,
   "metadata": {
    "collapsed": false
   },
   "outputs": [
    {
     "name": "stdout",
     "output_type": "stream",
     "text": [
      "(50000, 28, 28)\n"
     ]
    }
   ],
   "source": [
    "print X.shape"
   ]
  },
  {
   "cell_type": "code",
   "execution_count": 27,
   "metadata": {
    "collapsed": false,
    "scrolled": true
   },
   "outputs": [
    {
     "name": "stdout",
     "output_type": "stream",
     "text": [
      "lr=0.006070, std=0.074413, regu=0.001089,dec=0.919171 train accuracy is : 0.946000 val acc:  0.944700\n",
      " no decay lr=0.006070, std=0.074413,regu=0.001089 train accuracy is : 0.892000 val acc:  0.900500\n",
      "lr=0.001387, std=0.042673, regu=0.070630,dec=0.999498 train accuracy is : 0.937000 val acc:  0.932600\n",
      " no decay lr=0.001387, std=0.042673,regu=0.070630 train accuracy is : 0.911000 val acc:  0.929200\n",
      "lr=0.001535, std=0.007383, regu=0.071577,dec=0.961870 train accuracy is : 0.957000 val acc:  0.945800\n",
      " no decay lr=0.001535, std=0.007383,regu=0.071577 train accuracy is : 0.932000 val acc:  0.941700\n",
      "lr=0.000418, std=0.061839, regu=0.068874,dec=0.914372 train accuracy is : 0.921000 val acc:  0.912300\n",
      " no decay lr=0.000418, std=0.061839,regu=0.068874 train accuracy is : 0.927000 val acc:  0.930700\n",
      "lr=0.004357, std=0.078824, regu=0.014961,dec=0.994528 train accuracy is : 0.957000 val acc:  0.959100\n",
      " no decay lr=0.004357, std=0.078824,regu=0.014961 train accuracy is : 0.958000 val acc:  0.955800\n",
      "lr=0.008218, std=0.022240, regu=0.008384,dec=0.984070 train accuracy is : 0.931000 val acc:  0.932500\n",
      " no decay lr=0.008218, std=0.022240,regu=0.008384 train accuracy is : 0.892000 val acc:  0.911800\n",
      "lr=0.004717, std=0.030242, regu=0.005913,dec=0.901818 train accuracy is : 0.974000 val acc:  0.958800\n",
      " no decay lr=0.004717, std=0.030242,regu=0.005913 train accuracy is : 0.921000 val acc:  0.927900\n",
      "lr=0.006787, std=0.003193, regu=0.011119,dec=0.996227 train accuracy is : 0.943000 val acc:  0.938000\n",
      " no decay lr=0.006787, std=0.003193,regu=0.011119 train accuracy is : 0.932000 val acc:  0.930300\n",
      "lr=0.000475, std=0.022470, regu=0.000111,dec=0.933030 train accuracy is : 0.963000 val acc:  0.948100\n",
      " no decay lr=0.000475, std=0.022470,regu=0.000111 train accuracy is : 0.987000 val acc:  0.971500\n",
      "lr=0.001961, std=0.012162, regu=0.011231,dec=0.926743 train accuracy is : 0.977000 val acc:  0.967200\n",
      " no decay lr=0.001961, std=0.012162,regu=0.011231 train accuracy is : 0.962000 val acc:  0.965600\n",
      "lr=0.001719, std=0.080016, regu=0.001183,dec=0.913777 train accuracy is : 0.960000 val acc:  0.946700\n",
      " no decay lr=0.001719, std=0.080016,regu=0.001183 train accuracy is : 0.974000 val acc:  0.962500\n",
      "lr=0.004968, std=0.006451, regu=0.001620,dec=0.982804 train accuracy is : 0.828000 val acc:  0.856800\n",
      " no decay lr=0.004968, std=0.006451,regu=0.001620 train accuracy is : 0.799000 val acc:  0.816900\n",
      "lr=0.000360, std=0.004462, regu=0.041908,dec=0.904268 train accuracy is : 0.880000 val acc:  0.874100\n",
      " no decay lr=0.000360, std=0.004462,regu=0.041908 train accuracy is : 0.958000 val acc:  0.955300\n",
      "lr=0.001259, std=0.007043, regu=0.001891,dec=0.902816 train accuracy is : 0.880000 val acc:  0.882700\n",
      " no decay lr=0.001259, std=0.007043,regu=0.001891 train accuracy is : 0.969000 val acc:  0.958600\n",
      "lr=0.001163, std=0.005129, regu=0.000191,dec=0.987312 train accuracy is : 0.973000 val acc:  0.964700\n",
      " no decay lr=0.001163, std=0.005129,regu=0.000191 train accuracy is : 0.928000 val acc:  0.939600\n",
      "lr=0.000141, std=0.006662, regu=0.001083,dec=0.976695 train accuracy is : 0.859000 val acc:  0.864900\n",
      " no decay lr=0.000141, std=0.006662,regu=0.001083 train accuracy is : 0.905000 val acc:  0.894900\n",
      "lr=0.000124, std=0.019704, regu=0.000264,dec=0.926337 train accuracy is : 0.898000 val acc:  0.902800\n",
      " no decay lr=0.000124, std=0.019704,regu=0.000264 train accuracy is : 0.976000 val acc:  0.951200\n",
      "lr=0.002614, std=0.018880, regu=0.013461,dec=0.964713 train accuracy is : 0.982000 val acc:  0.967200\n",
      " no decay lr=0.002614, std=0.018880,regu=0.013461 train accuracy is : 0.969000 val acc:  0.965300\n",
      "lr=0.000686, std=0.040200, regu=0.084660,dec=0.939120 train accuracy is : 0.928000 val acc:  0.927800\n",
      " no decay lr=0.000686, std=0.040200,regu=0.084660 train accuracy is : 0.932000 val acc:  0.930600\n",
      "lr=0.000586, std=0.013812, regu=0.016269,dec=0.953205 train accuracy is : 0.968000 val acc:  0.957800\n",
      " no decay lr=0.000586, std=0.013812,regu=0.016269 train accuracy is : 0.979000 val acc:  0.965700\n",
      "lr=0.000199, std=0.086993, regu=0.000289,dec=0.925362 train accuracy is : 0.888000 val acc:  0.884900\n",
      " no decay lr=0.000199, std=0.086993,regu=0.000289 train accuracy is : 0.934000 val acc:  0.930100\n",
      "lr=0.000238, std=0.017656, regu=0.000159,dec=0.974725 train accuracy is : 0.954000 val acc:  0.951000\n",
      " no decay lr=0.000238, std=0.017656,regu=0.000159 train accuracy is : 0.974000 val acc:  0.963100\n",
      "lr=0.000573, std=0.004184, regu=0.039578,dec=0.959643 train accuracy is : 0.877000 val acc:  0.870500\n",
      " no decay lr=0.000573, std=0.004184,regu=0.039578 train accuracy is : 0.961000 val acc:  0.956200\n",
      "lr=0.005917, std=0.004598, regu=0.025409,dec=0.941380 train accuracy is : 0.954000 val acc:  0.951600\n",
      " no decay lr=0.005917, std=0.004598,regu=0.025409 train accuracy is : 0.947000 val acc:  0.950000\n",
      "lr=0.007461, std=0.006955, regu=0.003135,dec=0.945750 train accuracy is : 0.920000 val acc:  0.918000\n",
      " no decay lr=0.007461, std=0.006955,regu=0.003135 train accuracy is : 0.795000 val acc:  0.795100\n",
      "lr=0.001749, std=0.019737, regu=0.010940,dec=0.971713 train accuracy is : 0.987000 val acc:  0.971000\n",
      " no decay lr=0.001749, std=0.019737,regu=0.010940 train accuracy is : 0.984000 val acc:  0.968100\n",
      "lr=0.002232, std=0.007426, regu=0.065074,dec=0.955332 train accuracy is : 0.950000 val acc:  0.951500\n",
      " no decay lr=0.002232, std=0.007426,regu=0.065074 train accuracy is : 0.931000 val acc:  0.939500\n",
      "lr=0.000185, std=0.028910, regu=0.034985,dec=0.908686 train accuracy is : 0.889000 val acc:  0.904000\n",
      " no decay lr=0.000185, std=0.028910,regu=0.034985 train accuracy is : 0.948000 val acc:  0.945000\n",
      "lr=0.000342, std=0.005702, regu=0.001434,dec=0.916828 train accuracy is : 0.895000 val acc:  0.886400\n",
      " no decay lr=0.000342, std=0.005702,regu=0.001434 train accuracy is : 0.948000 val acc:  0.934700\n",
      "lr=0.006965, std=0.003727, regu=0.001122,dec=0.917631 train accuracy is : 0.839000 val acc:  0.850200\n",
      " no decay lr=0.006965, std=0.003727,regu=0.001122 train accuracy is : 0.786000 val acc:  0.805900\n",
      "lr=0.001305, std=0.009239, regu=0.000236,dec=0.922713 train accuracy is : 0.985000 val acc:  0.970100\n",
      " no decay lr=0.001305, std=0.009239,regu=0.000236 train accuracy is : 0.921000 val acc:  0.939800\n",
      "lr=0.000477, std=0.006665, regu=0.062537,dec=0.935972 train accuracy is : 0.872000 val acc:  0.855500\n",
      " no decay lr=0.000477, std=0.006665,regu=0.062537 train accuracy is : 0.958000 val acc:  0.948200\n",
      "lr=0.000438, std=0.010961, regu=0.057497,dec=0.902930 train accuracy is : 0.940000 val acc:  0.929400\n",
      " no decay lr=0.000438, std=0.010961,regu=0.057497 train accuracy is : 0.954000 val acc:  0.949300\n",
      "lr=0.000294, std=0.055002, regu=0.007012,dec=0.993450 train accuracy is : 0.946000 val acc:  0.947700\n",
      " no decay lr=0.000294, std=0.055002,regu=0.007012 train accuracy is : 0.958000 val acc:  0.950100\n",
      "lr=0.001841, std=0.007731, regu=0.050712,dec=0.965981 train accuracy is : 0.964000 val acc:  0.954100\n",
      " no decay lr=0.001841, std=0.007731,regu=0.050712 train accuracy is : 0.966000 val acc:  0.949000\n"
     ]
    },
    {
     "ename": "KeyboardInterrupt",
     "evalue": "",
     "output_type": "error",
     "traceback": [
      "\u001b[1;31m---------------------------------------------------------------------------\u001b[0m",
      "\u001b[1;31mKeyboardInterrupt\u001b[0m                         Traceback (most recent call last)",
      "\u001b[1;32m<ipython-input-27-c104379d6bd6>\u001b[0m in \u001b[0;36m<module>\u001b[1;34m()\u001b[0m\n\u001b[0;32m     33\u001b[0m          )\n\u001b[0;32m     34\u001b[0m \u001b[1;33m\u001b[0m\u001b[0m\n\u001b[1;32m---> 35\u001b[1;33m     \u001b[0msolver\u001b[0m\u001b[1;33m.\u001b[0m\u001b[0mtrain\u001b[0m\u001b[1;33m(\u001b[0m\u001b[1;33m)\u001b[0m\u001b[1;33m\u001b[0m\u001b[0m\n\u001b[0m\u001b[0;32m     36\u001b[0m \u001b[1;33m\u001b[0m\u001b[0m\n\u001b[0;32m     37\u001b[0m     \u001b[1;32mprint\u001b[0m \u001b[1;34m'lr=%f, std=%f, regu=%f,dec=%f train accuracy is : %f val acc:  %f'\u001b[0m \u001b[1;33m%\u001b[0m\u001b[1;33m(\u001b[0m\u001b[0mlearning_rate\u001b[0m\u001b[1;33m,\u001b[0m \u001b[0mweight_scale\u001b[0m\u001b[1;33m,\u001b[0m \u001b[0mregu\u001b[0m\u001b[1;33m,\u001b[0m \u001b[0mdec\u001b[0m\u001b[1;33m,\u001b[0m\u001b[0msolver\u001b[0m\u001b[1;33m.\u001b[0m\u001b[0mtrain_acc_history\u001b[0m\u001b[1;33m[\u001b[0m\u001b[1;33m-\u001b[0m\u001b[1;36m1\u001b[0m\u001b[1;33m]\u001b[0m\u001b[1;33m,\u001b[0m \u001b[0msolver\u001b[0m\u001b[1;33m.\u001b[0m\u001b[0mval_acc_history\u001b[0m\u001b[1;33m[\u001b[0m\u001b[1;33m-\u001b[0m\u001b[1;36m1\u001b[0m\u001b[1;33m]\u001b[0m\u001b[1;33m)\u001b[0m\u001b[1;33m\u001b[0m\u001b[0m\n",
      "\u001b[1;32m/home/burc/assignment2/cs231n/solver.pyc\u001b[0m in \u001b[0;36mtrain\u001b[1;34m(self)\u001b[0m\n\u001b[0;32m    230\u001b[0m \u001b[1;33m\u001b[0m\u001b[0m\n\u001b[0;32m    231\u001b[0m     \u001b[1;32mfor\u001b[0m \u001b[0mt\u001b[0m \u001b[1;32min\u001b[0m \u001b[0mxrange\u001b[0m\u001b[1;33m(\u001b[0m\u001b[0mnum_iterations\u001b[0m\u001b[1;33m)\u001b[0m\u001b[1;33m:\u001b[0m\u001b[1;33m\u001b[0m\u001b[0m\n\u001b[1;32m--> 232\u001b[1;33m       \u001b[0mself\u001b[0m\u001b[1;33m.\u001b[0m\u001b[0m_step\u001b[0m\u001b[1;33m(\u001b[0m\u001b[1;33m)\u001b[0m\u001b[1;33m\u001b[0m\u001b[0m\n\u001b[0m\u001b[0;32m    233\u001b[0m \u001b[1;33m\u001b[0m\u001b[0m\n\u001b[0;32m    234\u001b[0m       \u001b[1;31m# Maybe print training loss\u001b[0m\u001b[1;33m\u001b[0m\u001b[1;33m\u001b[0m\u001b[0m\n",
      "\u001b[1;32m/home/burc/assignment2/cs231n/solver.pyc\u001b[0m in \u001b[0;36m_step\u001b[1;34m(self)\u001b[0m\n\u001b[0;32m    168\u001b[0m     \u001b[1;31m# Compute loss and gradient\u001b[0m\u001b[1;33m\u001b[0m\u001b[1;33m\u001b[0m\u001b[0m\n\u001b[0;32m    169\u001b[0m \u001b[1;33m\u001b[0m\u001b[0m\n\u001b[1;32m--> 170\u001b[1;33m     \u001b[0mloss\u001b[0m\u001b[1;33m,\u001b[0m \u001b[0mgrads\u001b[0m \u001b[1;33m=\u001b[0m \u001b[0mself\u001b[0m\u001b[1;33m.\u001b[0m\u001b[0mmodel\u001b[0m\u001b[1;33m.\u001b[0m\u001b[0mloss\u001b[0m\u001b[1;33m(\u001b[0m\u001b[0mX_batch\u001b[0m\u001b[1;33m,\u001b[0m \u001b[0my_batch\u001b[0m\u001b[1;33m)\u001b[0m\u001b[1;33m\u001b[0m\u001b[0m\n\u001b[0m\u001b[0;32m    171\u001b[0m     \u001b[0mself\u001b[0m\u001b[1;33m.\u001b[0m\u001b[0mloss_history\u001b[0m\u001b[1;33m.\u001b[0m\u001b[0mappend\u001b[0m\u001b[1;33m(\u001b[0m\u001b[0mloss\u001b[0m\u001b[1;33m)\u001b[0m\u001b[1;33m\u001b[0m\u001b[0m\n\u001b[0;32m    172\u001b[0m \u001b[1;33m\u001b[0m\u001b[0m\n",
      "\u001b[1;32m/home/burc/assignment2/cs231n/classifiers/fc_net_split3.py\u001b[0m in \u001b[0;36mloss\u001b[1;34m(self, X, y, noise, noise2, test, parallel_samples_output)\u001b[0m\n\u001b[0;32m    170\u001b[0m     \u001b[0mhidden_cache2_1\u001b[0m \u001b[1;33m=\u001b[0m \u001b[1;33m[\u001b[0m\u001b[1;33m]\u001b[0m\u001b[1;33m\u001b[0m\u001b[0m\n\u001b[0;32m    171\u001b[0m     \u001b[0mhidden_cache2_2\u001b[0m \u001b[1;33m=\u001b[0m \u001b[1;33m[\u001b[0m\u001b[1;33m]\u001b[0m\u001b[1;33m\u001b[0m\u001b[0m\n\u001b[1;32m--> 172\u001b[1;33m     \u001b[0mout1\u001b[0m\u001b[1;33m,\u001b[0m \u001b[0mtmp1\u001b[0m \u001b[1;33m=\u001b[0m \u001b[0maffine_forward\u001b[0m\u001b[1;33m(\u001b[0m\u001b[0mnp\u001b[0m\u001b[1;33m.\u001b[0m\u001b[0mhstack\u001b[0m\u001b[1;33m(\u001b[0m\u001b[1;33m[\u001b[0m\u001b[0mhidden1\u001b[0m\u001b[1;33m,\u001b[0m\u001b[0mhidden2\u001b[0m\u001b[1;33m]\u001b[0m\u001b[1;33m)\u001b[0m\u001b[1;33m,\u001b[0m \u001b[0mself\u001b[0m\u001b[1;33m.\u001b[0m\u001b[0mparams\u001b[0m\u001b[1;33m[\u001b[0m\u001b[1;34m'W2_1'\u001b[0m\u001b[1;33m]\u001b[0m\u001b[1;33m,\u001b[0m \u001b[0mself\u001b[0m\u001b[1;33m.\u001b[0m\u001b[0mparams\u001b[0m\u001b[1;33m[\u001b[0m\u001b[1;34m'b2_1'\u001b[0m\u001b[1;33m]\u001b[0m\u001b[1;33m)\u001b[0m\u001b[1;33m\u001b[0m\u001b[0m\n\u001b[0m\u001b[0;32m    173\u001b[0m     \u001b[0mout2\u001b[0m\u001b[1;33m,\u001b[0m \u001b[0mtmp2\u001b[0m \u001b[1;33m=\u001b[0m \u001b[0maffine_forward\u001b[0m\u001b[1;33m(\u001b[0m\u001b[0mnp\u001b[0m\u001b[1;33m.\u001b[0m\u001b[0mhstack\u001b[0m\u001b[1;33m(\u001b[0m\u001b[1;33m[\u001b[0m\u001b[0mhidden3\u001b[0m\u001b[1;33m,\u001b[0m\u001b[0mhidden4\u001b[0m\u001b[1;33m]\u001b[0m\u001b[1;33m)\u001b[0m\u001b[1;33m,\u001b[0m \u001b[0mself\u001b[0m\u001b[1;33m.\u001b[0m\u001b[0mparams\u001b[0m\u001b[1;33m[\u001b[0m\u001b[1;34m'W2_2'\u001b[0m\u001b[1;33m]\u001b[0m\u001b[1;33m,\u001b[0m \u001b[0mself\u001b[0m\u001b[1;33m.\u001b[0m\u001b[0mparams\u001b[0m\u001b[1;33m[\u001b[0m\u001b[1;34m'b2_2'\u001b[0m\u001b[1;33m]\u001b[0m\u001b[1;33m)\u001b[0m\u001b[1;33m\u001b[0m\u001b[0m\n\u001b[0;32m    174\u001b[0m \u001b[1;33m\u001b[0m\u001b[0m\n",
      "\u001b[1;32m/home/burc/assignment2/cs231n/layers.pyc\u001b[0m in \u001b[0;36maffine_forward\u001b[1;34m(x, w, b)\u001b[0m\n\u001b[0;32m     29\u001b[0m   \u001b[1;31m#############################################################################\u001b[0m\u001b[1;33m\u001b[0m\u001b[1;33m\u001b[0m\u001b[0m\n\u001b[0;32m     30\u001b[0m   \u001b[0mx_reshape\u001b[0m \u001b[1;33m=\u001b[0m \u001b[0mnp\u001b[0m\u001b[1;33m.\u001b[0m\u001b[0mreshape\u001b[0m\u001b[1;33m(\u001b[0m\u001b[0mx\u001b[0m\u001b[1;33m,\u001b[0m \u001b[1;33m(\u001b[0m\u001b[0mx\u001b[0m\u001b[1;33m.\u001b[0m\u001b[0mshape\u001b[0m\u001b[1;33m[\u001b[0m\u001b[1;36m0\u001b[0m\u001b[1;33m]\u001b[0m\u001b[1;33m,\u001b[0m\u001b[1;33m-\u001b[0m\u001b[1;36m1\u001b[0m\u001b[1;33m)\u001b[0m\u001b[1;33m)\u001b[0m\u001b[1;33m\u001b[0m\u001b[0m\n\u001b[1;32m---> 31\u001b[1;33m   \u001b[0mout\u001b[0m \u001b[1;33m=\u001b[0m \u001b[0mx_reshape\u001b[0m\u001b[1;33m.\u001b[0m\u001b[0mdot\u001b[0m\u001b[1;33m(\u001b[0m\u001b[0mw\u001b[0m\u001b[1;33m)\u001b[0m \u001b[1;33m+\u001b[0m \u001b[0mb\u001b[0m\u001b[1;33m\u001b[0m\u001b[0m\n\u001b[0m\u001b[0;32m     32\u001b[0m   \u001b[1;31m#############################################################################\u001b[0m\u001b[1;33m\u001b[0m\u001b[1;33m\u001b[0m\u001b[0m\n\u001b[0;32m     33\u001b[0m   \u001b[1;31m#                             END OF YOUR CODE                              #\u001b[0m\u001b[1;33m\u001b[0m\u001b[1;33m\u001b[0m\u001b[0m\n",
      "\u001b[1;31mKeyboardInterrupt\u001b[0m: "
     ]
    }
   ],
   "source": [
    "#lr=0.001603, std=0.009006, regu=0.000000 train accuracy is : 0.975000 val acc:  0.969200\n",
    "#no decay lr=0.000790, std=0.028887,regu=0.001429 train accuracy is : 0.993000 val acc:  0.973100\n",
    "for i in range(100):\n",
    "    #learning_rate = 0.000830 #10**np.random.uniform(-4,-3)\n",
    "    #weight_scale = 0.003849 #10**np.random.uniform(-3,-1)\n",
    "    #regu = 0.00168276907439#10**np.random.uniform(-3,-1)\n",
    "    regu=10**np.random.uniform(-4,-1)\n",
    "    #regu=0\n",
    "    learning_rate = 10**np.random.uniform(-4,-2)\n",
    "    weight_scale = 10**np.random.uniform(-2.5,-1)\n",
    "    dec = np.random.uniform(0.9,1)\n",
    "    #regu =0.00329329787291\n",
    "    #print regu\n",
    "    #learning_rate=0.0005\n",
    "    #weight_scale=0.027\n",
    "    #learning_rate = 0.001 #10**np.random.uniform(-5,-1)\n",
    "    #weight_scale = 0.02 #10**np.random.uniform(-3,0)\n",
    "    # no decay lr=0.000292, std=0.004709, train accuracy is : 0.999000 val acc:  0.970500\n",
    "#0.14912609128\n",
    "#0.00669438412009\n",
    "#0.00168276907439\n",
    "# no decay lr=0.000830, std=0.003849, train accuracy is : 0.994000 val acc:  0.967100\n",
    "# no decay lr=0.000508, std=0.027556, train accuracy is : 1.000000 val acc:  0.971500\n",
    "\n",
    "    model = ThreeLayerNet(input_dim=28*28, ##hidden_dim=256,\n",
    "              weight_scale=weight_scale, reg=regu, activation=3, scores_activation=3)\n",
    "    solver = Solver(model,data,\n",
    "                print_every=10, num_epochs=60, batch_size=100,\n",
    "                update_rule='sgd_momentum',lr_decay=dec,verbose = False,\n",
    "                optim_config={\n",
    "                  'learning_rate': learning_rate\n",
    "                }\n",
    "         )\n",
    "    \n",
    "    solver.train()\n",
    "\n",
    "    print 'lr=%f, std=%f, regu=%f,dec=%f train accuracy is : %f val acc:  %f' %(learning_rate, weight_scale, regu, dec,solver.train_acc_history[-1], solver.val_acc_history[-1])\n",
    " \n",
    "\n",
    "    model = ThreeLayerNet(input_dim=28*28,  ##hidden_dim=256,\n",
    "              weight_scale=weight_scale, reg=regu,activation=3, scores_activation=3)\n",
    "    solver = Solver(model,data,\n",
    "                print_every=4000, num_epochs=60, batch_size=100, \n",
    "                update_rule='sgd_momentum',lr_decay=1.0,verbose =False, #lr_decay=0.0,\n",
    "                optim_config={\n",
    "                  'learning_rate': learning_rate\n",
    "                }\n",
    "         )\n",
    "    solver.train()\n",
    "    print ' no decay lr=%f, std=%f,regu=%f train accuracy is : %f val acc:  %f' %(learning_rate, weight_scale,regu, solver.train_acc_history[-1], solver.val_acc_history[-1])\n",
    " \n",
    "\n",
    "\n",
    "#solver.train()\n",
    "\n",
    "plt.plot(solver.loss_history, 'o')\n",
    "plt.title('Training loss history')\n",
    "plt.xlabel('Iteration')\n",
    "plt.ylabel('Training loss')"
   ]
  },
  {
   "cell_type": "code",
   "execution_count": 28,
   "metadata": {
    "collapsed": false
   },
   "outputs": [
    {
     "name": "stdout",
     "output_type": "stream",
     "text": [
      " no decay lr=0.000475, std=0.022470,regu=0.000111 train accuracy is : 0.989000 val acc:  0.970900\n"
     ]
    }
   ],
   "source": [
    "##no decay lr=0.000475, std=0.022470,regu=0.000111 train accuracy is : 0.987000 val acc:  0.971500\n",
    "\n",
    "regu=0.000111\n",
    "learning_rate = 0.000475\n",
    "weight_scale = 0.022470\n",
    "\n",
    "model = ThreeLayerNet(input_dim=28*28,  ##hidden_dim=256,\n",
    "              weight_scale=weight_scale, reg=regu,activation=3, scores_activation=3)\n",
    "solver = Solver(model,data,\n",
    "                print_every=4000, num_epochs=60, batch_size=100, \n",
    "                update_rule='sgd_momentum',lr_decay=1.0,verbose =False, #lr_decay=0.0,\n",
    "                optim_config={\n",
    "                  'learning_rate': learning_rate\n",
    "                }\n",
    "         )\n",
    "solver.train()\n",
    "print ' no decay lr=%f, std=%f,regu=%f train accuracy is : %f val acc:  %f' %(learning_rate, weight_scale,regu, solver.train_acc_history[-1], solver.val_acc_history[-1])\n",
    " "
   ]
  },
  {
   "cell_type": "code",
   "execution_count": 30,
   "metadata": {
    "collapsed": false
   },
   "outputs": [
    {
     "name": "stdout",
     "output_type": "stream",
     "text": [
      "Validation set accuracy:  0.9713\n",
      "Test set accuracy:  0.9671\n",
      "Noisy test set accuracy:  0.9646\n",
      "0.94987\n",
      "0.954705\n",
      "0.95715\n"
     ]
    },
    {
     "ename": "KeyboardInterrupt",
     "evalue": "",
     "output_type": "error",
     "traceback": [
      "\u001b[1;31m---------------------------------------------------------------------------\u001b[0m",
      "\u001b[1;31mKeyboardInterrupt\u001b[0m                         Traceback (most recent call last)",
      "\u001b[1;32m<ipython-input-30-9375dadb78b3>\u001b[0m in \u001b[0;36m<module>\u001b[1;34m()\u001b[0m\n\u001b[0;32m     34\u001b[0m \u001b[0maa\u001b[0m\u001b[1;33m=\u001b[0m\u001b[1;36m0.0\u001b[0m\u001b[1;33m\u001b[0m\u001b[0m\n\u001b[0;32m     35\u001b[0m \u001b[1;32mfor\u001b[0m \u001b[0mi\u001b[0m \u001b[1;32min\u001b[0m \u001b[0mrange\u001b[0m\u001b[1;33m(\u001b[0m\u001b[1;36m0\u001b[0m\u001b[1;33m,\u001b[0m\u001b[1;36m20\u001b[0m\u001b[1;33m)\u001b[0m\u001b[1;33m:\u001b[0m\u001b[1;33m\u001b[0m\u001b[0m\n\u001b[1;32m---> 36\u001b[1;33m   \u001b[0my_test_pred\u001b[0m \u001b[1;33m=\u001b[0m \u001b[0mnp\u001b[0m\u001b[1;33m.\u001b[0m\u001b[0margmax\u001b[0m\u001b[1;33m(\u001b[0m\u001b[0mmodel\u001b[0m\u001b[1;33m.\u001b[0m\u001b[0mloss\u001b[0m\u001b[1;33m(\u001b[0m\u001b[0mdata\u001b[0m\u001b[1;33m[\u001b[0m\u001b[1;34m'X_test'\u001b[0m\u001b[1;33m]\u001b[0m\u001b[1;33m,\u001b[0m\u001b[0mnoise\u001b[0m\u001b[1;33m=\u001b[0m\u001b[1;36m1\u001b[0m\u001b[1;33m,\u001b[0m\u001b[0mtest\u001b[0m\u001b[1;33m=\u001b[0m\u001b[1;36m1\u001b[0m\u001b[1;33m,\u001b[0m\u001b[0mnoise2\u001b[0m\u001b[1;33m=\u001b[0m\u001b[1;36m1\u001b[0m\u001b[1;33m,\u001b[0m \u001b[0mparallel_samples_output\u001b[0m\u001b[1;33m=\u001b[0m\u001b[0mpar\u001b[0m\u001b[1;33m)\u001b[0m\u001b[1;33m,\u001b[0m \u001b[0maxis\u001b[0m\u001b[1;33m=\u001b[0m\u001b[1;36m1\u001b[0m\u001b[1;33m)\u001b[0m\u001b[1;33m\u001b[0m\u001b[0m\n\u001b[0m\u001b[0;32m     37\u001b[0m   \u001b[1;31m#print 'Noisy test set accuracy: ', (y_test_pred == data['y_test']).mean()\u001b[0m\u001b[1;33m\u001b[0m\u001b[1;33m\u001b[0m\u001b[0m\n\u001b[0;32m     38\u001b[0m   \u001b[0maa\u001b[0m\u001b[1;33m=\u001b[0m\u001b[0maa\u001b[0m\u001b[1;33m+\u001b[0m \u001b[1;33m(\u001b[0m\u001b[0my_test_pred\u001b[0m \u001b[1;33m==\u001b[0m \u001b[0mdata\u001b[0m\u001b[1;33m[\u001b[0m\u001b[1;34m'y_test'\u001b[0m\u001b[1;33m]\u001b[0m\u001b[1;33m)\u001b[0m\u001b[1;33m.\u001b[0m\u001b[0mmean\u001b[0m\u001b[1;33m(\u001b[0m\u001b[1;33m)\u001b[0m\u001b[1;33m\u001b[0m\u001b[0m\n",
      "\u001b[1;32m/home/burc/assignment2/cs231n/classifiers/fc_net_split3.py\u001b[0m in \u001b[0;36mloss\u001b[1;34m(self, X, y, noise, noise2, test, parallel_samples_output)\u001b[0m\n\u001b[0;32m    162\u001b[0m       \u001b[0mrandsel\u001b[0m\u001b[1;33m=\u001b[0m\u001b[1;36m10000\u001b[0m\u001b[1;33m*\u001b[0m\u001b[0mnp\u001b[0m\u001b[1;33m.\u001b[0m\u001b[0mrandom\u001b[0m\u001b[1;33m.\u001b[0m\u001b[0mrand\u001b[0m\u001b[1;33m(\u001b[0m\u001b[1;36m10000\u001b[0m\u001b[1;33m,\u001b[0m\u001b[1;36m512\u001b[0m\u001b[1;33m)\u001b[0m\u001b[1;33m+\u001b[0m\u001b[1;36m1\u001b[0m\u001b[1;33m\u001b[0m\u001b[0m\n\u001b[0;32m    163\u001b[0m       \u001b[0mrandint\u001b[0m\u001b[1;33m=\u001b[0m\u001b[0mnp\u001b[0m\u001b[1;33m.\u001b[0m\u001b[0marray\u001b[0m\u001b[1;33m(\u001b[0m\u001b[0mnp\u001b[0m\u001b[1;33m.\u001b[0m\u001b[0mfloor\u001b[0m\u001b[1;33m(\u001b[0m\u001b[0mrandsel\u001b[0m\u001b[1;33m)\u001b[0m\u001b[1;33m)\u001b[0m\u001b[1;33m-\u001b[0m\u001b[1;36m1\u001b[0m\u001b[1;33m\u001b[0m\u001b[0m\n\u001b[1;32m--> 164\u001b[1;33m       \u001b[0mhidden\u001b[0m \u001b[1;33m=\u001b[0m \u001b[0mdata\u001b[0m\u001b[1;33m[\u001b[0m\u001b[0mindices\u001b[0m\u001b[1;33m.\u001b[0m\u001b[0mastype\u001b[0m\u001b[1;33m(\u001b[0m\u001b[0mint\u001b[0m\u001b[1;33m)\u001b[0m\u001b[1;33m,\u001b[0m\u001b[0mrandint\u001b[0m\u001b[1;33m.\u001b[0m\u001b[0mastype\u001b[0m\u001b[1;33m(\u001b[0m\u001b[0mint\u001b[0m\u001b[1;33m)\u001b[0m\u001b[1;33m]\u001b[0m\u001b[1;33m\u001b[0m\u001b[0m\n\u001b[0m\u001b[0;32m    165\u001b[0m       \u001b[0mhidden1\u001b[0m \u001b[1;33m=\u001b[0m \u001b[0mhidden\u001b[0m\u001b[1;33m[\u001b[0m\u001b[1;33m:\u001b[0m\u001b[1;33m,\u001b[0m\u001b[1;36m0\u001b[0m\u001b[1;33m:\u001b[0m\u001b[1;36m128\u001b[0m\u001b[1;33m]\u001b[0m\u001b[1;33m\u001b[0m\u001b[0m\n\u001b[0;32m    166\u001b[0m       \u001b[0mhidden2\u001b[0m \u001b[1;33m=\u001b[0m \u001b[0mhidden\u001b[0m\u001b[1;33m[\u001b[0m\u001b[1;33m:\u001b[0m\u001b[1;33m,\u001b[0m\u001b[1;36m128\u001b[0m\u001b[1;33m:\u001b[0m\u001b[1;36m256\u001b[0m\u001b[1;33m]\u001b[0m\u001b[1;33m\u001b[0m\u001b[0m\n",
      "\u001b[1;31mKeyboardInterrupt\u001b[0m: "
     ]
    }
   ],
   "source": [
    "y_test_pred = np.argmax(model.loss(data['X_test'],noise=0,test=1), axis=1)\n",
    "y_val_pred = np.argmax(model.loss(data['X_val']), axis=1)\n",
    "print 'Validation set accuracy: ', (y_val_pred == data['y_val']).mean()\n",
    "print 'Test set accuracy: ', (y_test_pred == data['y_test']).mean()\n",
    "y_test_pred = np.argmax(model.loss(data['X_test'],noise=1,test=1), axis=1)\n",
    "print 'Noisy test set accuracy: ', (y_test_pred == data['y_test']).mean()\n",
    "\n",
    "par=1\n",
    "aa=0.0\n",
    "for i in range(0,20):\n",
    "  y_test_pred = np.argmax(model.loss(data['X_test'],noise=1,test=1,noise2=1, parallel_samples_output=par), axis=1)\n",
    "  #print 'Noisy test set accuracy: ', (y_test_pred == data['y_test']).mean()\n",
    "  aa=aa+ (y_test_pred == data['y_test']).mean()\n",
    "print aa/20\n",
    "\n",
    "par=2\n",
    "aa=0.0\n",
    "for i in range(0,20):\n",
    "  y_test_pred = np.argmax(model.loss(data['X_test'],noise=1,test=1,noise2=1, parallel_samples_output=par), axis=1)\n",
    "  #print 'Noisy test set accuracy: ', (y_test_pred == data['y_test']).mean()\n",
    "  aa=aa+ (y_test_pred == data['y_test']).mean()\n",
    "print aa/20\n",
    "\n",
    "\n",
    "par=3\n",
    "aa=0.0\n",
    "for i in range(0,20):\n",
    "  y_test_pred = np.argmax(model.loss(data['X_test'],noise=1,test=1,noise2=1, parallel_samples_output=par), axis=1)\n",
    "  #print 'Noisy test set accuracy: ', (y_test_pred == data['y_test']).mean()\n",
    "  aa=aa+ (y_test_pred == data['y_test']).mean()\n",
    "print aa/20\n",
    "\n",
    "par=4\n",
    "aa=0.0\n",
    "for i in range(0,20):\n",
    "  y_test_pred = np.argmax(model.loss(data['X_test'],noise=1,test=1,noise2=1, parallel_samples_output=par), axis=1)\n",
    "  #print 'Noisy test set accuracy: ', (y_test_pred == data['y_test']).mean()\n",
    "  aa=aa+ (y_test_pred == data['y_test']).mean()\n",
    "print aa/20\n",
    "\n",
    "par=8\n",
    "aa=0.0\n",
    "for i in range(0,20):\n",
    "  y_test_pred = np.argmax(model.loss(data['X_test'],noise=1,test=1,noise2=1, parallel_samples_output=par), axis=1)\n",
    "  #print 'Noisy test set accuracy: ', (y_test_pred == data['y_test']).mean()\n",
    "  aa=aa+ (y_test_pred == data['y_test']).mean()\n",
    "print aa/20\n",
    "\n",
    "par=16\n",
    "aa=0.0\n",
    "for i in range(0,20):\n",
    "  y_test_pred = np.argmax(model.loss(data['X_test'],noise=1,test=1,noise2=1, parallel_samples_output=par), axis=1)\n",
    "  #print 'Noisy test set accuracy: ', (y_test_pred == data['y_test']).mean()\n",
    "  aa=aa+ (y_test_pred == data['y_test']).mean()\n",
    "print aa/20\n",
    "\n",
    "par=24\n",
    "aa=0.0\n",
    "for i in range(0,20):\n",
    "  y_test_pred = np.argmax(model.loss(data['X_test'],noise=1,test=1,noise2=1, parallel_samples_output=par), axis=1)\n",
    "  #print 'Noisy test set accuracy: ', (y_test_pred == data['y_test']).mean()\n",
    "  aa=aa+ (y_test_pred == data['y_test']).mean()\n",
    "print aa/20"
   ]
  },
  {
   "cell_type": "code",
   "execution_count": 30,
   "metadata": {
    "collapsed": false
   },
   "outputs": [
    {
     "name": "stdout",
     "output_type": "stream",
     "text": [
      "(7840,)\n",
      "0 1231\n",
      "(10, 28, 28)\n",
      "0 1 784 28\n",
      "(10, 784)\n"
     ]
    }
   ],
   "source": [
    "y= np.array(range(0,28*28*10))\n",
    "print y.shape\n",
    "\n",
    "print y[0], y[1231]\n",
    "y2= np.reshape(y,(10,28,28))\n",
    "print y2.shape\n",
    "print y2[0,0,0], y2[0,0,1], y2[1,0,0], y2[0,1,0]\n",
    "\n",
    "y3 = np.reshape(y2, (y2.shape[0],-1))\n",
    "print y3.shape\n"
   ]
  },
  {
   "cell_type": "code",
   "execution_count": 31,
   "metadata": {
    "collapsed": false
   },
   "outputs": [
    {
     "name": "stdout",
     "output_type": "stream",
     "text": [
      " no decay lr=0.000790, std=0.028887,regu=0.001429 train accuracy is : 0.988000 val acc:  0.972700\n"
     ]
    }
   ],
   "source": [
    "##no decay lr=0.000986, std=0.004749,regu=0.000312 train accuracy is : 0.989000 val acc:  0.979100\n",
    "#no decay lr=0.000790, std=0.028887,regu=0.001429 train accuracy is : 0.993000 val acc:  0.973100\n",
    "\n",
    "regu=0.001429\n",
    "    #regu=0\n",
    "learning_rate = 0.000790\n",
    "weight_scale = 0.028887\n",
    "\n",
    "model = ThreeLayerNet(input_dim=28*28,  ##hidden_dim=256,\n",
    "              weight_scale=weight_scale, reg=regu,activation=3, scores_activation=3)\n",
    "solver = Solver(model,data,\n",
    "                print_every=4000, num_epochs=60, batch_size=100, \n",
    "                update_rule='sgd_momentum',lr_decay=1.0,verbose =False, #lr_decay=0.0,\n",
    "                optim_config={\n",
    "                  'learning_rate': learning_rate\n",
    "                }\n",
    "         )\n",
    "solver.train()\n",
    "print ' no decay lr=%f, std=%f,regu=%f train accuracy is : %f val acc:  %f' %(learning_rate, weight_scale,regu, solver.train_acc_history[-1], solver.val_acc_history[-1])\n",
    " \n"
   ]
  },
  {
   "cell_type": "code",
   "execution_count": 33,
   "metadata": {
    "collapsed": false
   },
   "outputs": [
    {
     "name": "stdout",
     "output_type": "stream",
     "text": [
      "Validation set accuracy:  0.974\n",
      "Test set accuracy:  0.9718\n",
      "Noisy test set accuracy:  0.9676\n",
      "0.9552\n",
      "0.9552\n",
      "0.9552\n"
     ]
    },
    {
     "ename": "KeyboardInterrupt",
     "evalue": "",
     "output_type": "error",
     "traceback": [
      "\u001b[1;31m---------------------------------------------------------------------------\u001b[0m",
      "\u001b[1;31mKeyboardInterrupt\u001b[0m                         Traceback (most recent call last)",
      "\u001b[1;32m<ipython-input-33-9375dadb78b3>\u001b[0m in \u001b[0;36m<module>\u001b[1;34m()\u001b[0m\n\u001b[0;32m     34\u001b[0m \u001b[0maa\u001b[0m\u001b[1;33m=\u001b[0m\u001b[1;36m0.0\u001b[0m\u001b[1;33m\u001b[0m\u001b[0m\n\u001b[0;32m     35\u001b[0m \u001b[1;32mfor\u001b[0m \u001b[0mi\u001b[0m \u001b[1;32min\u001b[0m \u001b[0mrange\u001b[0m\u001b[1;33m(\u001b[0m\u001b[1;36m0\u001b[0m\u001b[1;33m,\u001b[0m\u001b[1;36m20\u001b[0m\u001b[1;33m)\u001b[0m\u001b[1;33m:\u001b[0m\u001b[1;33m\u001b[0m\u001b[0m\n\u001b[1;32m---> 36\u001b[1;33m   \u001b[0my_test_pred\u001b[0m \u001b[1;33m=\u001b[0m \u001b[0mnp\u001b[0m\u001b[1;33m.\u001b[0m\u001b[0margmax\u001b[0m\u001b[1;33m(\u001b[0m\u001b[0mmodel\u001b[0m\u001b[1;33m.\u001b[0m\u001b[0mloss\u001b[0m\u001b[1;33m(\u001b[0m\u001b[0mdata\u001b[0m\u001b[1;33m[\u001b[0m\u001b[1;34m'X_test'\u001b[0m\u001b[1;33m]\u001b[0m\u001b[1;33m,\u001b[0m\u001b[0mnoise\u001b[0m\u001b[1;33m=\u001b[0m\u001b[1;36m1\u001b[0m\u001b[1;33m,\u001b[0m\u001b[0mtest\u001b[0m\u001b[1;33m=\u001b[0m\u001b[1;36m1\u001b[0m\u001b[1;33m,\u001b[0m\u001b[0mnoise2\u001b[0m\u001b[1;33m=\u001b[0m\u001b[1;36m1\u001b[0m\u001b[1;33m,\u001b[0m \u001b[0mparallel_samples_output\u001b[0m\u001b[1;33m=\u001b[0m\u001b[0mpar\u001b[0m\u001b[1;33m)\u001b[0m\u001b[1;33m,\u001b[0m \u001b[0maxis\u001b[0m\u001b[1;33m=\u001b[0m\u001b[1;36m1\u001b[0m\u001b[1;33m)\u001b[0m\u001b[1;33m\u001b[0m\u001b[0m\n\u001b[0m\u001b[0;32m     37\u001b[0m   \u001b[1;31m#print 'Noisy test set accuracy: ', (y_test_pred == data['y_test']).mean()\u001b[0m\u001b[1;33m\u001b[0m\u001b[1;33m\u001b[0m\u001b[0m\n\u001b[0;32m     38\u001b[0m   \u001b[0maa\u001b[0m\u001b[1;33m=\u001b[0m\u001b[0maa\u001b[0m\u001b[1;33m+\u001b[0m \u001b[1;33m(\u001b[0m\u001b[0my_test_pred\u001b[0m \u001b[1;33m==\u001b[0m \u001b[0mdata\u001b[0m\u001b[1;33m[\u001b[0m\u001b[1;34m'y_test'\u001b[0m\u001b[1;33m]\u001b[0m\u001b[1;33m)\u001b[0m\u001b[1;33m.\u001b[0m\u001b[0mmean\u001b[0m\u001b[1;33m(\u001b[0m\u001b[1;33m)\u001b[0m\u001b[1;33m\u001b[0m\u001b[0m\n",
      "\u001b[1;32m/home/burc/assignment2/cs231n/classifiers/fc_net_split3.py\u001b[0m in \u001b[0;36mloss\u001b[1;34m(self, X, y, noise, noise2, test, parallel_samples_output)\u001b[0m\n\u001b[0;32m    215\u001b[0m       \u001b[0mindices\u001b[0m\u001b[1;33m=\u001b[0m\u001b[0mnp\u001b[0m\u001b[1;33m.\u001b[0m\u001b[0marray\u001b[0m\u001b[1;33m(\u001b[0m\u001b[0mnp\u001b[0m\u001b[1;33m.\u001b[0m\u001b[0mclip\u001b[0m\u001b[1;33m(\u001b[0m\u001b[0mnp\u001b[0m\u001b[1;33m.\u001b[0m\u001b[0mround\u001b[0m\u001b[1;33m(\u001b[0m\u001b[1;36m50\u001b[0m\u001b[1;33m*\u001b[0m\u001b[0mout\u001b[0m\u001b[1;33m)\u001b[0m\u001b[1;33m+\u001b[0m\u001b[1;36m250\u001b[0m\u001b[1;33m,\u001b[0m\u001b[1;36m1\u001b[0m\u001b[1;33m,\u001b[0m\u001b[1;36m500\u001b[0m\u001b[1;33m)\u001b[0m\u001b[1;33m)\u001b[0m\u001b[1;33m-\u001b[0m\u001b[1;36m1\u001b[0m\u001b[1;33m\u001b[0m\u001b[0m\n\u001b[0;32m    216\u001b[0m       \u001b[0mrandsel\u001b[0m\u001b[1;33m=\u001b[0m\u001b[1;36m10000\u001b[0m\u001b[1;33m*\u001b[0m\u001b[0mnp\u001b[0m\u001b[1;33m.\u001b[0m\u001b[0mrandom\u001b[0m\u001b[1;33m.\u001b[0m\u001b[0mrand\u001b[0m\u001b[1;33m(\u001b[0m\u001b[1;36m10000\u001b[0m\u001b[1;33m,\u001b[0m\u001b[1;36m256\u001b[0m\u001b[1;33m)\u001b[0m\u001b[1;33m+\u001b[0m\u001b[1;36m1\u001b[0m\u001b[1;33m\u001b[0m\u001b[0m\n\u001b[1;32m--> 217\u001b[1;33m       \u001b[0mrandint\u001b[0m\u001b[1;33m=\u001b[0m\u001b[0mnp\u001b[0m\u001b[1;33m.\u001b[0m\u001b[0marray\u001b[0m\u001b[1;33m(\u001b[0m\u001b[0mnp\u001b[0m\u001b[1;33m.\u001b[0m\u001b[0mfloor\u001b[0m\u001b[1;33m(\u001b[0m\u001b[0mrandsel\u001b[0m\u001b[1;33m)\u001b[0m\u001b[1;33m)\u001b[0m\u001b[1;33m-\u001b[0m\u001b[1;36m1\u001b[0m\u001b[1;33m\u001b[0m\u001b[0m\n\u001b[0m\u001b[0;32m    218\u001b[0m       \u001b[1;31m#print data.shape\u001b[0m\u001b[1;33m\u001b[0m\u001b[1;33m\u001b[0m\u001b[0m\n\u001b[0;32m    219\u001b[0m       \u001b[1;31m#print indices.astype(int).shape\u001b[0m\u001b[1;33m\u001b[0m\u001b[1;33m\u001b[0m\u001b[0m\n",
      "\u001b[1;31mKeyboardInterrupt\u001b[0m: "
     ]
    }
   ],
   "source": [
    "y_test_pred = np.argmax(model.loss(data['X_test'],noise=0,test=1), axis=1)\n",
    "y_val_pred = np.argmax(model.loss(data['X_val']), axis=1)\n",
    "print 'Validation set accuracy: ', (y_val_pred == data['y_val']).mean()\n",
    "print 'Test set accuracy: ', (y_test_pred == data['y_test']).mean()\n",
    "y_test_pred = np.argmax(model.loss(data['X_test'],noise=1,test=1), axis=1)\n",
    "print 'Noisy test set accuracy: ', (y_test_pred == data['y_test']).mean()\n",
    "\n",
    "par=1\n",
    "aa=0.0\n",
    "for i in range(0,20):\n",
    "  y_test_pred = np.argmax(model.loss(data['X_test'],noise=1,test=1,noise2=1, parallel_samples_output=par), axis=1)\n",
    "  #print 'Noisy test set accuracy: ', (y_test_pred == data['y_test']).mean()\n",
    "  aa=aa+ (y_test_pred == data['y_test']).mean()\n",
    "print aa/20\n",
    "\n",
    "par=2\n",
    "aa=0.0\n",
    "for i in range(0,20):\n",
    "  y_test_pred = np.argmax(model.loss(data['X_test'],noise=1,test=1,noise2=1, parallel_samples_output=par), axis=1)\n",
    "  #print 'Noisy test set accuracy: ', (y_test_pred == data['y_test']).mean()\n",
    "  aa=aa+ (y_test_pred == data['y_test']).mean()\n",
    "print aa/20\n",
    "\n",
    "\n",
    "par=3\n",
    "aa=0.0\n",
    "for i in range(0,20):\n",
    "  y_test_pred = np.argmax(model.loss(data['X_test'],noise=1,test=1,noise2=1, parallel_samples_output=par), axis=1)\n",
    "  #print 'Noisy test set accuracy: ', (y_test_pred == data['y_test']).mean()\n",
    "  aa=aa+ (y_test_pred == data['y_test']).mean()\n",
    "print aa/20\n",
    "\n",
    "par=4\n",
    "aa=0.0\n",
    "for i in range(0,20):\n",
    "  y_test_pred = np.argmax(model.loss(data['X_test'],noise=1,test=1,noise2=1, parallel_samples_output=par), axis=1)\n",
    "  #print 'Noisy test set accuracy: ', (y_test_pred == data['y_test']).mean()\n",
    "  aa=aa+ (y_test_pred == data['y_test']).mean()\n",
    "print aa/20\n",
    "\n",
    "par=8\n",
    "aa=0.0\n",
    "for i in range(0,20):\n",
    "  y_test_pred = np.argmax(model.loss(data['X_test'],noise=1,test=1,noise2=1, parallel_samples_output=par), axis=1)\n",
    "  #print 'Noisy test set accuracy: ', (y_test_pred == data['y_test']).mean()\n",
    "  aa=aa+ (y_test_pred == data['y_test']).mean()\n",
    "print aa/20\n",
    "\n",
    "par=16\n",
    "aa=0.0\n",
    "for i in range(0,20):\n",
    "  y_test_pred = np.argmax(model.loss(data['X_test'],noise=1,test=1,noise2=1, parallel_samples_output=par), axis=1)\n",
    "  #print 'Noisy test set accuracy: ', (y_test_pred == data['y_test']).mean()\n",
    "  aa=aa+ (y_test_pred == data['y_test']).mean()\n",
    "print aa/20\n",
    "\n",
    "par=24\n",
    "aa=0.0\n",
    "for i in range(0,20):\n",
    "  y_test_pred = np.argmax(model.loss(data['X_test'],noise=1,test=1,noise2=1, parallel_samples_output=par), axis=1)\n",
    "  #print 'Noisy test set accuracy: ', (y_test_pred == data['y_test']).mean()\n",
    "  aa=aa+ (y_test_pred == data['y_test']).mean()\n",
    "print aa/20"
   ]
  },
  {
   "cell_type": "code",
   "execution_count": null,
   "metadata": {
    "collapsed": true
   },
   "outputs": [],
   "source": [
    "noisy:\n",
    "\n",
    "\n",
    "Test set accuracy:  0.9718\n",
    "Noisy test set accuracy:  0.9676\n",
    "0.953135\n",
    "0.95766\n",
    "0.95958\n",
    "0.96048\n",
    "0.961115\n",
    "0.96138\n",
    "0.96117"
   ]
  },
  {
   "cell_type": "code",
   "execution_count": null,
   "metadata": {
    "collapsed": true
   },
   "outputs": [],
   "source": []
  },
  {
   "cell_type": "code",
   "execution_count": null,
   "metadata": {
    "collapsed": true
   },
   "outputs": [],
   "source": []
  }
 ],
 "metadata": {
  "kernelspec": {
   "display_name": "Python [Root]",
   "language": "python",
   "name": "Python [Root]"
  },
  "language_info": {
   "codemirror_mode": {
    "name": "ipython",
    "version": 2
   },
   "file_extension": ".py",
   "mimetype": "text/x-python",
   "name": "python",
   "nbconvert_exporter": "python",
   "pygments_lexer": "ipython2",
   "version": "2.7.12"
  }
 },
 "nbformat": 4,
 "nbformat_minor": 0
}
