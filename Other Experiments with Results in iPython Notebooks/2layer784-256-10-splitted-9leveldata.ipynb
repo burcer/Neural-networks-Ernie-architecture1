{
 "cells": [
  {
   "cell_type": "code",
   "execution_count": 1,
   "metadata": {
    "collapsed": false
   },
   "outputs": [
    {
     "name": "stderr",
     "output_type": "stream",
     "text": [
      "/home/burc/anaconda2/lib/python2.7/site-packages/matplotlib/font_manager.py:273: UserWarning: Matplotlib is building the font cache using fc-list. This may take a moment.\n",
      "  warnings.warn('Matplotlib is building the font cache using fc-list. This may take a moment.')\n"
     ]
    },
    {
     "name": "stdout",
     "output_type": "stream",
     "text": [
      "(60000,)\n",
      "0.0\n",
      "255.0\n",
      "(50000, 28, 28)\n",
      "14.1666666667\n",
      "240.833333333\n",
      "X_val:  (10000, 28, 28)\n",
      "X_train:  (50000, 28, 28)\n",
      "X_test:  (10000, 28, 28)\n",
      "y_val:  (10000,)\n",
      "y_train:  (50000,)\n",
      "y_test:  (10000,)\n"
     ]
    }
   ],
   "source": [
    "import numpy as np\n",
    "import matplotlib.pyplot as plt\n",
    "from nn.classifiers.fc_net_split import *\n",
    "from nn.data_utils import get_CIFAR10_data\n",
    "from nn.data_utils_mnist import *\n",
    "from nn.gradient_check import eval_numerical_gradient, eval_numerical_gradient_array\n",
    "from nn.solver import Solver\n",
    "%matplotlib inline\n",
    "plt.rcParams['figure.figsize'] = (10.0, 8.0) # set default size of plots\n",
    "plt.rcParams['image.interpolation'] = 'nearest'\n",
    "plt.rcParams['image.cmap'] = 'gray'\n",
    "\n",
    "# for auto-reloading external modules\n",
    "# see http://stackoverflow.com/questions/1907993/autoreload-of-modules-in-ipython\n",
    "%load_ext autoreload\n",
    "%autoreload 2\n",
    "data = get_MNIST_data(test_trinary=1,train_trinary=1,val_trinary=1,noise_amplitude=0.0,no_of_levels=9)\n",
    "for k, v in data.iteritems():\n",
    "  print '%s: ' % k, v.shape\n",
    "\n"
   ]
  },
  {
   "cell_type": "code",
   "execution_count": 15,
   "metadata": {
    "collapsed": true
   },
   "outputs": [],
   "source": [
    "X=data['X_train']"
   ]
  },
  {
   "cell_type": "code",
   "execution_count": 16,
   "metadata": {
    "collapsed": false
   },
   "outputs": [
    {
     "name": "stdout",
     "output_type": "stream",
     "text": [
      "(50000, 28, 28)\n"
     ]
    }
   ],
   "source": [
    "print X.shape"
   ]
  },
  {
   "cell_type": "code",
   "execution_count": 2,
   "metadata": {
    "collapsed": false
   },
   "outputs": [
    {
     "name": "stdout",
     "output_type": "stream",
     "text": [
      "lr=0.000310, std=0.009833, regu=0.000954 train accuracy is : 0.970000 val acc:  0.964400\n",
      " no decay lr=0.000310, std=0.009833,regu=0.000954 train accuracy is : 0.984000 val acc:  0.974900\n",
      "lr=0.000109, std=0.000126, regu=0.000221 train accuracy is : 0.977000 val acc:  0.960700\n",
      " no decay lr=0.000109, std=0.000126,regu=0.000221 train accuracy is : 0.983000 val acc:  0.969500\n",
      "lr=0.000974, std=0.001864, regu=0.001949 train accuracy is : 0.992000 val acc:  0.972600\n"
     ]
    },
    {
     "name": "stderr",
     "output_type": "stream",
     "text": [
      "cs231n/layers.py:237: RuntimeWarning: overflow encountered in exp\n",
      "  return 1/(1+np.exp(-x))\n"
     ]
    },
    {
     "name": "stdout",
     "output_type": "stream",
     "text": [
      " no decay lr=0.000974, std=0.001864,regu=0.001949 train accuracy is : 0.989000 val acc:  0.976700\n",
      "lr=0.000876, std=0.000954, regu=0.006823 train accuracy is : 0.987000 val acc:  0.972900\n",
      " no decay lr=0.000876, std=0.000954,regu=0.006823 train accuracy is : 0.992000 val acc:  0.974600\n",
      "lr=0.000510, std=0.000136, regu=0.000769 train accuracy is : 0.987000 val acc:  0.970600\n",
      " no decay lr=0.000510, std=0.000136,regu=0.000769 train accuracy is : 0.987000 val acc:  0.976600\n",
      "lr=0.000529, std=0.001530, regu=0.000334 train accuracy is : 0.981000 val acc:  0.971400\n",
      " no decay lr=0.000529, std=0.001530,regu=0.000334 train accuracy is : 0.989000 val acc:  0.976500\n",
      "lr=0.000436, std=0.001899, regu=0.062346 train accuracy is : 0.974000 val acc:  0.964700\n",
      " no decay lr=0.000436, std=0.001899,regu=0.062346 train accuracy is : 0.965000 val acc:  0.964200\n",
      "lr=0.000185, std=0.003240, regu=0.000840 train accuracy is : 0.976000 val acc:  0.966400\n",
      " no decay lr=0.000185, std=0.003240,regu=0.000840 train accuracy is : 0.991000 val acc:  0.970700\n",
      "lr=0.000575, std=0.000254, regu=0.058077 train accuracy is : 0.976000 val acc:  0.964400\n",
      " no decay lr=0.000575, std=0.000254,regu=0.058077 train accuracy is : 0.965000 val acc:  0.967000\n",
      "lr=0.000245, std=0.000119, regu=0.001925 train accuracy is : 0.973000 val acc:  0.966800\n",
      " no decay lr=0.000245, std=0.000119,regu=0.001925 train accuracy is : 0.990000 val acc:  0.972100\n",
      "lr=0.000670, std=0.000425, regu=0.000797 train accuracy is : 0.986000 val acc:  0.972600\n",
      " no decay lr=0.000670, std=0.000425,regu=0.000797 train accuracy is : 0.973000 val acc:  0.974600\n",
      "lr=0.000174, std=0.000372, regu=0.000767 train accuracy is : 0.982000 val acc:  0.965000\n",
      " no decay lr=0.000174, std=0.000372,regu=0.000767 train accuracy is : 0.987000 val acc:  0.970800\n",
      "lr=0.000973, std=0.000259, regu=0.051569 train accuracy is : 0.977000 val acc:  0.965500\n",
      " no decay lr=0.000973, std=0.000259,regu=0.051569 train accuracy is : 0.975000 val acc:  0.964900\n",
      "lr=0.000537, std=0.009175, regu=0.003779 train accuracy is : 0.982000 val acc:  0.969300\n",
      " no decay lr=0.000537, std=0.009175,regu=0.003779 train accuracy is : 0.985000 val acc:  0.974800\n",
      "lr=0.000905, std=0.003173, regu=0.001248 train accuracy is : 0.985000 val acc:  0.971700\n",
      " no decay lr=0.000905, std=0.003173,regu=0.001248 train accuracy is : 0.989000 val acc:  0.977600\n",
      "lr=0.000318, std=0.004086, regu=0.000612 train accuracy is : 0.982000 val acc:  0.967800\n",
      " no decay lr=0.000318, std=0.004086,regu=0.000612 train accuracy is : 0.987000 val acc:  0.974700\n",
      "lr=0.000319, std=0.000215, regu=0.001964 train accuracy is : 0.978000 val acc:  0.969400\n",
      " no decay lr=0.000319, std=0.000215,regu=0.001964 train accuracy is : 0.988000 val acc:  0.973100\n",
      "lr=0.000550, std=0.009869, regu=0.000169 train accuracy is : 0.985000 val acc:  0.970300\n",
      " no decay lr=0.000550, std=0.009869,regu=0.000169 train accuracy is : 0.981000 val acc:  0.974100\n",
      "lr=0.000182, std=0.000179, regu=0.000968 train accuracy is : 0.972000 val acc:  0.965400\n",
      " no decay lr=0.000182, std=0.000179,regu=0.000968 train accuracy is : 0.987000 val acc:  0.972100\n",
      "lr=0.000307, std=0.007615, regu=0.000417 train accuracy is : 0.978000 val acc:  0.966400\n",
      " no decay lr=0.000307, std=0.007615,regu=0.000417 train accuracy is : 0.989000 val acc:  0.972000\n",
      "lr=0.000104, std=0.000208, regu=0.009808 train accuracy is : 0.957000 val acc:  0.961200\n",
      " no decay lr=0.000104, std=0.000208,regu=0.009808 train accuracy is : 0.979000 val acc:  0.967600\n",
      "lr=0.000184, std=0.002963, regu=0.000547 train accuracy is : 0.975000 val acc:  0.964600\n",
      " no decay lr=0.000184, std=0.002963,regu=0.000547 train accuracy is : 0.989000 val acc:  0.972500\n",
      "lr=0.000108, std=0.002038, regu=0.052981 train accuracy is : 0.954000 val acc:  0.958300\n",
      " no decay lr=0.000108, std=0.002038,regu=0.052981 train accuracy is : 0.969000 val acc:  0.964400\n",
      "lr=0.000166, std=0.000103, regu=0.002200 train accuracy is : 0.968000 val acc:  0.962800\n",
      " no decay lr=0.000166, std=0.000103,regu=0.002200 train accuracy is : 0.985000 val acc:  0.969300\n",
      "lr=0.000992, std=0.000191, regu=0.000309 train accuracy is : 0.988000 val acc:  0.973700\n",
      " no decay lr=0.000992, std=0.000191,regu=0.000309 train accuracy is : 0.977000 val acc:  0.975100\n",
      "lr=0.000364, std=0.000520, regu=0.000608 train accuracy is : 0.985000 val acc:  0.969900\n",
      " no decay lr=0.000364, std=0.000520,regu=0.000608 train accuracy is : 0.991000 val acc:  0.974800\n",
      "lr=0.000129, std=0.000655, regu=0.002399 train accuracy is : 0.975000 val acc:  0.963200\n",
      " no decay lr=0.000129, std=0.000655,regu=0.002399 train accuracy is : 0.981000 val acc:  0.970000\n",
      "lr=0.000309, std=0.002776, regu=0.012468 train accuracy is : 0.984000 val acc:  0.966700\n",
      " no decay lr=0.000309, std=0.002776,regu=0.012468 train accuracy is : 0.991000 val acc:  0.972300\n",
      "lr=0.000106, std=0.002021, regu=0.027936 train accuracy is : 0.969000 val acc:  0.959600\n",
      " no decay lr=0.000106, std=0.002021,regu=0.027936 train accuracy is : 0.979000 val acc:  0.967400\n",
      "lr=0.000747, std=0.000484, regu=0.000268 train accuracy is : 0.991000 val acc:  0.973300\n",
      " no decay lr=0.000747, std=0.000484,regu=0.000268 train accuracy is : 0.986000 val acc:  0.975500\n",
      "lr=0.000313, std=0.000197, regu=0.000270 train accuracy is : 0.982000 val acc:  0.969500\n",
      " no decay lr=0.000313, std=0.000197,regu=0.000270 train accuracy is : 0.981000 val acc:  0.972900\n",
      "lr=0.000292, std=0.000299, regu=0.001387 train accuracy is : 0.984000 val acc:  0.968500\n",
      " no decay lr=0.000292, std=0.000299,regu=0.001387 train accuracy is : 0.990000 val acc:  0.973400\n",
      "lr=0.000306, std=0.002798, regu=0.000246 train accuracy is : 0.988000 val acc:  0.969200\n",
      " no decay lr=0.000306, std=0.002798,regu=0.000246 train accuracy is : 0.987000 val acc:  0.974100\n",
      "lr=0.000707, std=0.001164, regu=0.000400 train accuracy is : 0.989000 val acc:  0.973700\n",
      " no decay lr=0.000707, std=0.001164,regu=0.000400 train accuracy is : 0.984000 val acc:  0.975700\n",
      "lr=0.000277, std=0.000425, regu=0.000169 train accuracy is : 0.980000 val acc:  0.968700\n",
      " no decay lr=0.000277, std=0.000425,regu=0.000169 train accuracy is : 0.996000 val acc:  0.973600\n",
      "lr=0.000138, std=0.000425, regu=0.000720 train accuracy is : 0.976000 val acc:  0.961900\n",
      " no decay lr=0.000138, std=0.000425,regu=0.000720 train accuracy is : 0.986000 val acc:  0.970400\n",
      "lr=0.000244, std=0.004238, regu=0.092138 train accuracy is : 0.969000 val acc:  0.961400\n",
      " no decay lr=0.000244, std=0.004238,regu=0.092138 train accuracy is : 0.968000 val acc:  0.961300\n"
     ]
    },
    {
     "ename": "KeyboardInterrupt",
     "evalue": "",
     "output_type": "error",
     "traceback": [
      "\u001b[1;31m---------------------------------------------------------------------------\u001b[0m",
      "\u001b[1;31mKeyboardInterrupt\u001b[0m                         Traceback (most recent call last)",
      "\u001b[1;32m<ipython-input-2-f992cc09b794>\u001b[0m in \u001b[0;36m<module>\u001b[1;34m()\u001b[0m\n\u001b[0;32m     29\u001b[0m          )\n\u001b[0;32m     30\u001b[0m \u001b[1;33m\u001b[0m\u001b[0m\n\u001b[1;32m---> 31\u001b[1;33m     \u001b[0msolver\u001b[0m\u001b[1;33m.\u001b[0m\u001b[0mtrain\u001b[0m\u001b[1;33m(\u001b[0m\u001b[1;33m)\u001b[0m\u001b[1;33m\u001b[0m\u001b[0m\n\u001b[0m\u001b[0;32m     32\u001b[0m \u001b[1;33m\u001b[0m\u001b[0m\n\u001b[0;32m     33\u001b[0m     \u001b[1;32mprint\u001b[0m \u001b[1;34m'lr=%f, std=%f, regu=%f train accuracy is : %f val acc:  %f'\u001b[0m \u001b[1;33m%\u001b[0m\u001b[1;33m(\u001b[0m\u001b[0mlearning_rate\u001b[0m\u001b[1;33m,\u001b[0m \u001b[0mweight_scale\u001b[0m\u001b[1;33m,\u001b[0m \u001b[0mregu\u001b[0m\u001b[1;33m,\u001b[0m \u001b[0msolver\u001b[0m\u001b[1;33m.\u001b[0m\u001b[0mtrain_acc_history\u001b[0m\u001b[1;33m[\u001b[0m\u001b[1;33m-\u001b[0m\u001b[1;36m1\u001b[0m\u001b[1;33m]\u001b[0m\u001b[1;33m,\u001b[0m \u001b[0msolver\u001b[0m\u001b[1;33m.\u001b[0m\u001b[0mval_acc_history\u001b[0m\u001b[1;33m[\u001b[0m\u001b[1;33m-\u001b[0m\u001b[1;36m1\u001b[0m\u001b[1;33m]\u001b[0m\u001b[1;33m)\u001b[0m\u001b[1;33m\u001b[0m\u001b[0m\n",
      "\u001b[1;32m/home/burc/assignment2/cs231n/solver.pyc\u001b[0m in \u001b[0;36mtrain\u001b[1;34m(self)\u001b[0m\n\u001b[0;32m    230\u001b[0m \u001b[1;33m\u001b[0m\u001b[0m\n\u001b[0;32m    231\u001b[0m     \u001b[1;32mfor\u001b[0m \u001b[0mt\u001b[0m \u001b[1;32min\u001b[0m \u001b[0mxrange\u001b[0m\u001b[1;33m(\u001b[0m\u001b[0mnum_iterations\u001b[0m\u001b[1;33m)\u001b[0m\u001b[1;33m:\u001b[0m\u001b[1;33m\u001b[0m\u001b[0m\n\u001b[1;32m--> 232\u001b[1;33m       \u001b[0mself\u001b[0m\u001b[1;33m.\u001b[0m\u001b[0m_step\u001b[0m\u001b[1;33m(\u001b[0m\u001b[1;33m)\u001b[0m\u001b[1;33m\u001b[0m\u001b[0m\n\u001b[0m\u001b[0;32m    233\u001b[0m \u001b[1;33m\u001b[0m\u001b[0m\n\u001b[0;32m    234\u001b[0m       \u001b[1;31m# Maybe print training loss\u001b[0m\u001b[1;33m\u001b[0m\u001b[1;33m\u001b[0m\u001b[0m\n",
      "\u001b[1;32m/home/burc/assignment2/cs231n/solver.pyc\u001b[0m in \u001b[0;36m_step\u001b[1;34m(self)\u001b[0m\n\u001b[0;32m    168\u001b[0m     \u001b[1;31m# Compute loss and gradient\u001b[0m\u001b[1;33m\u001b[0m\u001b[1;33m\u001b[0m\u001b[0m\n\u001b[0;32m    169\u001b[0m \u001b[1;33m\u001b[0m\u001b[0m\n\u001b[1;32m--> 170\u001b[1;33m     \u001b[0mloss\u001b[0m\u001b[1;33m,\u001b[0m \u001b[0mgrads\u001b[0m \u001b[1;33m=\u001b[0m \u001b[0mself\u001b[0m\u001b[1;33m.\u001b[0m\u001b[0mmodel\u001b[0m\u001b[1;33m.\u001b[0m\u001b[0mloss\u001b[0m\u001b[1;33m(\u001b[0m\u001b[0mX_batch\u001b[0m\u001b[1;33m,\u001b[0m \u001b[0my_batch\u001b[0m\u001b[1;33m)\u001b[0m\u001b[1;33m\u001b[0m\u001b[0m\n\u001b[0m\u001b[0;32m    171\u001b[0m     \u001b[0mself\u001b[0m\u001b[1;33m.\u001b[0m\u001b[0mloss_history\u001b[0m\u001b[1;33m.\u001b[0m\u001b[0mappend\u001b[0m\u001b[1;33m(\u001b[0m\u001b[0mloss\u001b[0m\u001b[1;33m)\u001b[0m\u001b[1;33m\u001b[0m\u001b[0m\n\u001b[0;32m    172\u001b[0m \u001b[1;33m\u001b[0m\u001b[0m\n",
      "\u001b[1;32m/home/burc/assignment2/cs231n/classifiers/fc_net_split.pyc\u001b[0m in \u001b[0;36mloss\u001b[1;34m(self, X, y, noise, noise2, test, parallel_samples_output)\u001b[0m\n\u001b[0;32m    232\u001b[0m       \u001b[0mdx\u001b[0m\u001b[1;33m,\u001b[0m \u001b[0mdW1\u001b[0m\u001b[1;33m,\u001b[0m \u001b[0mdb1\u001b[0m \u001b[1;33m=\u001b[0m \u001b[0maffine_pwlsig_backward\u001b[0m\u001b[1;33m(\u001b[0m\u001b[0mdhidden\u001b[0m\u001b[1;33m,\u001b[0m \u001b[0mhidden_cache\u001b[0m\u001b[1;33m)\u001b[0m   \u001b[1;31m#change to affine_sigmoid later\u001b[0m\u001b[1;33m\u001b[0m\u001b[0m\n\u001b[0;32m    233\u001b[0m     \u001b[1;32mif\u001b[0m \u001b[0mself\u001b[0m\u001b[1;33m.\u001b[0m\u001b[0mactivation\u001b[0m \u001b[1;33m==\u001b[0m\u001b[1;36m3\u001b[0m\u001b[1;33m:\u001b[0m\u001b[1;33m\u001b[0m\u001b[0m\n\u001b[1;32m--> 234\u001b[1;33m       \u001b[0mdx1\u001b[0m\u001b[1;33m,\u001b[0m \u001b[0mdW1_1\u001b[0m\u001b[1;33m,\u001b[0m \u001b[0mdb1_1\u001b[0m \u001b[1;33m=\u001b[0m \u001b[0maffine_tanh_backward\u001b[0m\u001b[1;33m(\u001b[0m\u001b[0mdhidden\u001b[0m\u001b[1;33m[\u001b[0m\u001b[1;33m:\u001b[0m\u001b[1;33m,\u001b[0m\u001b[1;36m0\u001b[0m\u001b[1;33m:\u001b[0m\u001b[1;36m64\u001b[0m\u001b[1;33m]\u001b[0m\u001b[1;33m,\u001b[0m \u001b[0mhidden_cache1\u001b[0m\u001b[1;33m)\u001b[0m   \u001b[1;31m#change to affine_sigmoid later\u001b[0m\u001b[1;33m\u001b[0m\u001b[0m\n\u001b[0m\u001b[0;32m    235\u001b[0m       \u001b[0mdx2\u001b[0m\u001b[1;33m,\u001b[0m \u001b[0mdW1_2\u001b[0m\u001b[1;33m,\u001b[0m \u001b[0mdb1_2\u001b[0m \u001b[1;33m=\u001b[0m \u001b[0maffine_tanh_backward\u001b[0m\u001b[1;33m(\u001b[0m\u001b[0mdhidden\u001b[0m\u001b[1;33m[\u001b[0m\u001b[1;33m:\u001b[0m\u001b[1;33m,\u001b[0m\u001b[1;36m64\u001b[0m\u001b[1;33m:\u001b[0m\u001b[1;36m128\u001b[0m\u001b[1;33m]\u001b[0m\u001b[1;33m,\u001b[0m \u001b[0mhidden_cache2\u001b[0m\u001b[1;33m)\u001b[0m\u001b[1;33m\u001b[0m\u001b[0m\n\u001b[0;32m    236\u001b[0m       \u001b[0mdx3\u001b[0m\u001b[1;33m,\u001b[0m \u001b[0mdW1_3\u001b[0m\u001b[1;33m,\u001b[0m \u001b[0mdb1_3\u001b[0m \u001b[1;33m=\u001b[0m \u001b[0maffine_tanh_backward\u001b[0m\u001b[1;33m(\u001b[0m\u001b[0mdhidden\u001b[0m\u001b[1;33m[\u001b[0m\u001b[1;33m:\u001b[0m\u001b[1;33m,\u001b[0m\u001b[1;36m128\u001b[0m\u001b[1;33m:\u001b[0m\u001b[1;36m192\u001b[0m\u001b[1;33m]\u001b[0m\u001b[1;33m,\u001b[0m \u001b[0mhidden_cache3\u001b[0m\u001b[1;33m)\u001b[0m\u001b[1;33m\u001b[0m\u001b[0m\n",
      "\u001b[1;32m/home/burc/assignment2/cs231n/layer_utils.pyc\u001b[0m in \u001b[0;36maffine_tanh_backward\u001b[1;34m(dout, cache)\u001b[0m\n\u001b[0;32m     55\u001b[0m   \u001b[0mfc_cache\u001b[0m\u001b[1;33m,\u001b[0m \u001b[0msigmoid_cache\u001b[0m \u001b[1;33m=\u001b[0m \u001b[0mcache\u001b[0m\u001b[1;33m\u001b[0m\u001b[0m\n\u001b[0;32m     56\u001b[0m   \u001b[0mda\u001b[0m \u001b[1;33m=\u001b[0m \u001b[0mtanh_backward\u001b[0m\u001b[1;33m(\u001b[0m\u001b[0mdout\u001b[0m\u001b[1;33m,\u001b[0m \u001b[0msigmoid_cache\u001b[0m\u001b[1;33m)\u001b[0m\u001b[1;33m\u001b[0m\u001b[0m\n\u001b[1;32m---> 57\u001b[1;33m   \u001b[0mdx\u001b[0m\u001b[1;33m,\u001b[0m \u001b[0mdw\u001b[0m\u001b[1;33m,\u001b[0m \u001b[0mdb\u001b[0m \u001b[1;33m=\u001b[0m \u001b[0maffine_backward\u001b[0m\u001b[1;33m(\u001b[0m\u001b[0mda\u001b[0m\u001b[1;33m,\u001b[0m \u001b[0mfc_cache\u001b[0m\u001b[1;33m)\u001b[0m\u001b[1;33m\u001b[0m\u001b[0m\n\u001b[0m\u001b[0;32m     58\u001b[0m   \u001b[1;32mreturn\u001b[0m \u001b[0mdx\u001b[0m\u001b[1;33m,\u001b[0m \u001b[0mdw\u001b[0m\u001b[1;33m,\u001b[0m \u001b[0mdb\u001b[0m\u001b[1;33m\u001b[0m\u001b[0m\n\u001b[0;32m     59\u001b[0m \u001b[1;33m\u001b[0m\u001b[0m\n",
      "\u001b[1;32m/home/burc/assignment2/cs231n/layers.pyc\u001b[0m in \u001b[0;36maffine_backward\u001b[1;34m(dout, cache)\u001b[0m\n\u001b[0;32m     58\u001b[0m   \u001b[1;31m#############################################################################\u001b[0m\u001b[1;33m\u001b[0m\u001b[1;33m\u001b[0m\u001b[0m\n\u001b[0;32m     59\u001b[0m   \u001b[0mx_reshape\u001b[0m \u001b[1;33m=\u001b[0m \u001b[0mnp\u001b[0m\u001b[1;33m.\u001b[0m\u001b[0mreshape\u001b[0m\u001b[1;33m(\u001b[0m\u001b[0mx\u001b[0m\u001b[1;33m,\u001b[0m \u001b[1;33m(\u001b[0m\u001b[0mx\u001b[0m\u001b[1;33m.\u001b[0m\u001b[0mshape\u001b[0m\u001b[1;33m[\u001b[0m\u001b[1;36m0\u001b[0m\u001b[1;33m]\u001b[0m\u001b[1;33m,\u001b[0m \u001b[1;33m-\u001b[0m\u001b[1;36m1\u001b[0m\u001b[1;33m)\u001b[0m\u001b[1;33m)\u001b[0m\u001b[1;33m\u001b[0m\u001b[0m\n\u001b[1;32m---> 60\u001b[1;33m   \u001b[0mdx\u001b[0m \u001b[1;33m=\u001b[0m \u001b[0mdout\u001b[0m\u001b[1;33m.\u001b[0m\u001b[0mdot\u001b[0m\u001b[1;33m(\u001b[0m\u001b[0mw\u001b[0m\u001b[1;33m.\u001b[0m\u001b[0mT\u001b[0m\u001b[1;33m)\u001b[0m\u001b[1;33m\u001b[0m\u001b[0m\n\u001b[0m\u001b[0;32m     61\u001b[0m   \u001b[0mdx\u001b[0m \u001b[1;33m=\u001b[0m \u001b[0mnp\u001b[0m\u001b[1;33m.\u001b[0m\u001b[0mreshape\u001b[0m\u001b[1;33m(\u001b[0m\u001b[0mdx\u001b[0m\u001b[1;33m,\u001b[0m \u001b[0mx\u001b[0m\u001b[1;33m.\u001b[0m\u001b[0mshape\u001b[0m\u001b[1;33m)\u001b[0m\u001b[1;33m\u001b[0m\u001b[0m\n\u001b[0;32m     62\u001b[0m   \u001b[0mdw\u001b[0m \u001b[1;33m=\u001b[0m \u001b[0mx_reshape\u001b[0m\u001b[1;33m.\u001b[0m\u001b[0mT\u001b[0m\u001b[1;33m.\u001b[0m\u001b[0mdot\u001b[0m\u001b[1;33m(\u001b[0m\u001b[0mdout\u001b[0m\u001b[1;33m)\u001b[0m\u001b[1;33m\u001b[0m\u001b[0m\n",
      "\u001b[1;31mKeyboardInterrupt\u001b[0m: "
     ]
    }
   ],
   "source": [
    "for i in range(100):\n",
    "    #learning_rate = 0.000830 #10**np.random.uniform(-4,-3)\n",
    "    #weight_scale = 0.003849 #10**np.random.uniform(-3,-1)\n",
    "    #regu = 0.00168276907439#10**np.random.uniform(-3,-1)\n",
    "    regu=10**np.random.uniform(-4,-1)\n",
    "    learning_rate = 10**np.random.uniform(-4,-3)\n",
    "    weight_scale = 10**np.random.uniform(-4,-2)\n",
    "    #regu =0.00329329787291\n",
    "    #print regu\n",
    "    #learning_rate=0.0005\n",
    "    #weight_scale=0.027\n",
    "    #learning_rate = 0.001 #10**np.random.uniform(-5,-1)\n",
    "    #weight_scale = 0.02 #10**np.random.uniform(-3,0)\n",
    "    # no decay lr=0.000292, std=0.004709, train accuracy is : 0.999000 val acc:  0.970500\n",
    "#0.14912609128\n",
    "#0.00669438412009\n",
    "#0.00168276907439\n",
    "# no decay lr=0.000830, std=0.003849, train accuracy is : 0.994000 val acc:  0.967100\n",
    "# no decay lr=0.000508, std=0.027556, train accuracy is : 1.000000 val acc:  0.971500\n",
    "\n",
    "    model = TwoLayerNet(hidden_dim=256,input_dim=28*28,\n",
    "              weight_scale=weight_scale, reg=regu, activation=3, scores_activation=3)\n",
    "    solver = Solver(model,data,\n",
    "                print_every=10, num_epochs=60, batch_size=100,\n",
    "                update_rule='sgd_momentum',lr_decay=0.95,verbose = False,\n",
    "                optim_config={\n",
    "                  'learning_rate': learning_rate\n",
    "                }\n",
    "         )\n",
    "    \n",
    "    solver.train()\n",
    "\n",
    "    print 'lr=%f, std=%f, regu=%f train accuracy is : %f val acc:  %f' %(learning_rate, weight_scale, regu, solver.train_acc_history[-1], solver.val_acc_history[-1])\n",
    " \n",
    "\n",
    "    model = TwoLayerNet(hidden_dim=256,input_dim=28*28,\n",
    "              weight_scale=weight_scale, reg=regu,activation=3, scores_activation=3)\n",
    "    solver = Solver(model,data,\n",
    "                print_every=4000, num_epochs=60, batch_size=100,\n",
    "                update_rule='sgd_momentum',lr_decay=1.0,verbose =False, #lr_decay=0.0,\n",
    "                optim_config={\n",
    "                  'learning_rate': learning_rate\n",
    "                }\n",
    "         )\n",
    "    solver.train()\n",
    "    print ' no decay lr=%f, std=%f,regu=%f train accuracy is : %f val acc:  %f' %(learning_rate, weight_scale,regu, solver.train_acc_history[-1], solver.val_acc_history[-1])\n",
    " \n",
    "\n",
    "\n",
    "#solver.train()\n",
    "\n",
    "plt.plot(solver.loss_history, 'o')\n",
    "plt.title('Training loss history')\n",
    "plt.xlabel('Iteration')\n",
    "plt.ylabel('Training loss')"
   ]
  },
  {
   "cell_type": "code",
   "execution_count": 30,
   "metadata": {
    "collapsed": false
   },
   "outputs": [
    {
     "name": "stdout",
     "output_type": "stream",
     "text": [
      "(7840,)\n",
      "0 1231\n",
      "(10, 28, 28)\n",
      "0 1 784 28\n",
      "(10, 784)\n"
     ]
    }
   ],
   "source": [
    "y= np.array(range(0,28*28*10))\n",
    "print y.shape\n",
    "\n",
    "print y[0], y[1231]\n",
    "y2= np.reshape(y,(10,28,28))\n",
    "print y2.shape\n",
    "print y2[0,0,0], y2[0,0,1], y2[1,0,0], y2[0,1,0]\n",
    "\n",
    "y3 = np.reshape(y2, (y2.shape[0],-1))\n",
    "print y3.shape\n"
   ]
  },
  {
   "cell_type": "code",
   "execution_count": 3,
   "metadata": {
    "collapsed": false
   },
   "outputs": [
    {
     "name": "stdout",
     "output_type": "stream",
     "text": [
      " no decay lr=0.000905, std=0.003173,regu=0.001248 train accuracy is : 0.989000 val acc:  0.977700\n"
     ]
    }
   ],
   "source": [
    "##no decay lr=0.000986, std=0.004749,regu=0.000312 train accuracy is : 0.989000 val acc:  0.979100\n",
    "## no decay lr=0.000905, std=0.003173,regu=0.001248 train accuracy is : 0.989000 val acc:  0.977600\n",
    "regu=0.001248\n",
    "learning_rate = 0.000905\n",
    "weight_scale = 0.003173\n",
    "\n",
    "\n",
    "model = TwoLayerNet(hidden_dim=256,input_dim=28*28,\n",
    "weight_scale=weight_scale, reg=regu,activation=3, scores_activation=3)\n",
    "solver = Solver(model,data,\n",
    "                print_every=4000, num_epochs=60, batch_size=100,\n",
    "                update_rule='sgd_momentum',lr_decay=1.0,verbose =False, #lr_decay=0.0,\n",
    "                optim_config={\n",
    "                  'learning_rate': learning_rate\n",
    "                }\n",
    "         )\n",
    "solver.train()\n",
    "print ' no decay lr=%f, std=%f,regu=%f train accuracy is : %f val acc:  %f' %(learning_rate, weight_scale,regu, solver.train_acc_history[-1], solver.val_acc_history[-1])\n",
    " "
   ]
  },
  {
   "cell_type": "code",
   "execution_count": 6,
   "metadata": {
    "collapsed": false
   },
   "outputs": [
    {
     "name": "stdout",
     "output_type": "stream",
     "text": [
      "Validation set accuracy:  0.9777\n",
      "Test set accuracy:  0.9734\n",
      "Noisy test set accuracy:  0.9734\n",
      "0.972285\n",
      "0.972685\n",
      "0.972865\n",
      "0.97285\n",
      "0.97291\n",
      "0.972855\n",
      "0.972935\n"
     ]
    }
   ],
   "source": [
    "y_test_pred = np.argmax(model.loss(data['X_test'],noise=0,test=1), axis=1)\n",
    "y_val_pred = np.argmax(model.loss(data['X_val']), axis=1)\n",
    "print 'Validation set accuracy: ', (y_val_pred == data['y_val']).mean()\n",
    "print 'Test set accuracy: ', (y_test_pred == data['y_test']).mean()\n",
    "y_test_pred = np.argmax(model.loss(data['X_test'],noise=1,test=1), axis=1)\n",
    "print 'Noisy test set accuracy: ', (y_test_pred == data['y_test']).mean()\n",
    "\n",
    "#y_test_pred = np.argmax(model.loss(data['X_test'],noise=1,test=1,noise2=1, parallel_samples_output=32), axis=1)\n",
    "#print 'Noisy test set accuracy: ', (y_test_pred == data['y_test']).mean()\n",
    "\n",
    "\n",
    "par=1\n",
    "aa=0.0\n",
    "for i in range(0,20):\n",
    "  y_test_pred = np.argmax(model.loss(data['X_test'],noise=1,test=1,noise2=1, parallel_samples_output=par), axis=1)\n",
    "  #print 'Noisy test set accuracy: ', (y_test_pred == data['y_test']).mean()\n",
    "  aa=aa+ (y_test_pred == data['y_test']).mean()\n",
    "print aa/20\n",
    "\n",
    "par=2\n",
    "aa=0.0\n",
    "for i in range(0,20):\n",
    "  y_test_pred = np.argmax(model.loss(data['X_test'],noise=1,test=1,noise2=1, parallel_samples_output=par), axis=1)\n",
    "  #print 'Noisy test set accuracy: ', (y_test_pred == data['y_test']).mean()\n",
    "  aa=aa+ (y_test_pred == data['y_test']).mean()\n",
    "print aa/20\n",
    "\n",
    "\n",
    "par=3\n",
    "aa=0.0\n",
    "for i in range(0,20):\n",
    "  y_test_pred = np.argmax(model.loss(data['X_test'],noise=1,test=1,noise2=1, parallel_samples_output=par), axis=1)\n",
    "  #print 'Noisy test set accuracy: ', (y_test_pred == data['y_test']).mean()\n",
    "  aa=aa+ (y_test_pred == data['y_test']).mean()\n",
    "print aa/20\n",
    "\n",
    "par=4\n",
    "aa=0.0\n",
    "for i in range(0,20):\n",
    "  y_test_pred = np.argmax(model.loss(data['X_test'],noise=1,test=1,noise2=1, parallel_samples_output=par), axis=1)\n",
    "  #print 'Noisy test set accuracy: ', (y_test_pred == data['y_test']).mean()\n",
    "  aa=aa+ (y_test_pred == data['y_test']).mean()\n",
    "print aa/20\n",
    "\n",
    "par=8\n",
    "aa=0.0\n",
    "for i in range(0,20):\n",
    "  y_test_pred = np.argmax(model.loss(data['X_test'],noise=1,test=1,noise2=1, parallel_samples_output=par), axis=1)\n",
    "  #print 'Noisy test set accuracy: ', (y_test_pred == data['y_test']).mean()\n",
    "  aa=aa+ (y_test_pred == data['y_test']).mean()\n",
    "print aa/20\n",
    "\n",
    "par=16\n",
    "aa=0.0\n",
    "for i in range(0,20):\n",
    "  y_test_pred = np.argmax(model.loss(data['X_test'],noise=1,test=1,noise2=1, parallel_samples_output=par), axis=1)\n",
    "  #print 'Noisy test set accuracy: ', (y_test_pred == data['y_test']).mean()\n",
    "  aa=aa+ (y_test_pred == data['y_test']).mean()\n",
    "print aa/20\n",
    "\n",
    "par=24\n",
    "aa=0.0\n",
    "for i in range(0,20):\n",
    "  y_test_pred = np.argmax(model.loss(data['X_test'],noise=1,test=1,noise2=1, parallel_samples_output=par), axis=1)\n",
    "  #print 'Noisy test set accuracy: ', (y_test_pred == data['y_test']).mean()\n",
    "  aa=aa+ (y_test_pred == data['y_test']).mean()\n",
    "print aa/20"
   ]
  },
  {
   "cell_type": "code",
   "execution_count": null,
   "metadata": {
    "collapsed": true
   },
   "outputs": [],
   "source": [
    "Test set accuracy:  0.9734\n",
    "0.972285\n",
    "0.972685\n",
    "0.972865\n",
    "0.97285\n",
    "0.97291\n",
    "0.972855\n",
    "\n",
    "\n",
    "Test set accuracy:  0.9734\n",
    "\n",
    "0.97229\n",
    "0.972595\n",
    "0.972905\n",
    "0.972735\n",
    "0.97281\n",
    "0.97294\n",
    "0.97297"
   ]
  },
  {
   "cell_type": "code",
   "execution_count": 7,
   "metadata": {
    "collapsed": true
   },
   "outputs": [],
   "source": []
  },
  {
   "cell_type": "code",
   "execution_count": null,
   "metadata": {
    "collapsed": true
   },
   "outputs": [],
   "source": []
  }
 ],
 "metadata": {
  "kernelspec": {
   "display_name": "Python [Root]",
   "language": "python",
   "name": "Python [Root]"
  },
  "language_info": {
   "codemirror_mode": {
    "name": "ipython",
    "version": 2
   },
   "file_extension": ".py",
   "mimetype": "text/x-python",
   "name": "python",
   "nbconvert_exporter": "python",
   "pygments_lexer": "ipython2",
   "version": "2.7.12"
  }
 },
 "nbformat": 4,
 "nbformat_minor": 0
}
