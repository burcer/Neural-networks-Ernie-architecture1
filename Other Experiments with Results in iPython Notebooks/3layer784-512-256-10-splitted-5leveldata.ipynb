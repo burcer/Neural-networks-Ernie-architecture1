{
 "cells": [
  {
   "cell_type": "code",
   "execution_count": 1,
   "metadata": {
    "collapsed": false
   },
   "outputs": [
    {
     "name": "stderr",
     "output_type": "stream",
     "text": [
      "/home/burc/anaconda2/lib/python2.7/site-packages/matplotlib/font_manager.py:273: UserWarning: Matplotlib is building the font cache using fc-list. This may take a moment.\n",
      "  warnings.warn('Matplotlib is building the font cache using fc-list. This may take a moment.')\n"
     ]
    },
    {
     "name": "stdout",
     "output_type": "stream",
     "text": [
      "(60000,)\n",
      "0.0\n",
      "255.0\n",
      "(50000, 28, 28)\n",
      "25.5\n",
      "229.5\n",
      "X_val:  (10000, 28, 28)\n",
      "X_train:  (50000, 28, 28)\n",
      "X_test:  (10000, 28, 28)\n",
      "y_val:  (10000,)\n",
      "y_train:  (50000,)\n",
      "y_test:  (10000,)\n"
     ]
    }
   ],
   "source": [
    "import numpy as np\n",
    "import matplotlib.pyplot as plt\n",
    "from nn.classifiers.fc_net_split3 import *\n",
    "from nn.data_utils import get_CIFAR10_data\n",
    "from nn.data_utils_mnist import *\n",
    "from nn.gradient_check import eval_numerical_gradient, eval_numerical_gradient_array\n",
    "from nn.solver import Solver\n",
    "%matplotlib inline\n",
    "plt.rcParams['figure.figsize'] = (10.0, 8.0) # set default size of plots\n",
    "plt.rcParams['image.interpolation'] = 'nearest'\n",
    "plt.rcParams['image.cmap'] = 'gray'\n",
    "\n",
    "# for auto-reloading external modules\n",
    "# see http://stackoverflow.com/questions/1907993/autoreload-of-modules-in-ipython\n",
    "%load_ext autoreload\n",
    "%autoreload 2\n",
    "data = get_MNIST_data(test_trinary=1,train_trinary=1,val_trinary=1,noise_amplitude=0.0,no_of_levels=5)\n",
    "for k, v in data.iteritems():\n",
    "  print '%s: ' % k, v.shape\n",
    "\n"
   ]
  },
  {
   "cell_type": "code",
   "execution_count": 15,
   "metadata": {
    "collapsed": true
   },
   "outputs": [],
   "source": [
    "X=data['X_train']"
   ]
  },
  {
   "cell_type": "code",
   "execution_count": 16,
   "metadata": {
    "collapsed": false
   },
   "outputs": [
    {
     "name": "stdout",
     "output_type": "stream",
     "text": [
      "(50000, 28, 28)\n"
     ]
    }
   ],
   "source": [
    "print X.shape"
   ]
  },
  {
   "cell_type": "code",
   "execution_count": 10,
   "metadata": {
    "collapsed": false,
    "scrolled": true
   },
   "outputs": [
    {
     "name": "stdout",
     "output_type": "stream",
     "text": [
      "lr=0.000243, std=0.059009, regu=0.000403, dec=0.930167 train accuracy is : 0.909000 val acc:  0.913800\n",
      " no decay lr=0.000243, std=0.059009,regu=0.000403 train accuracy is : 0.954000 val acc:  0.944900\n",
      "lr=0.001417, std=0.020019, regu=0.000245, dec=0.951408 train accuracy is : 0.982000 val acc:  0.972800\n",
      " no decay lr=0.001417, std=0.020019,regu=0.000245 train accuracy is : 0.981000 val acc:  0.974600\n",
      "lr=0.003370, std=0.014895, regu=0.000718, dec=0.961128 train accuracy is : 0.983000 val acc:  0.972300\n",
      " no decay lr=0.003370, std=0.014895,regu=0.000718 train accuracy is : 0.953000 val acc:  0.952600\n",
      "lr=0.000327, std=0.011627, regu=0.010039, dec=0.987257 train accuracy is : 0.974000 val acc:  0.965300\n",
      " no decay lr=0.000327, std=0.011627,regu=0.010039 train accuracy is : 0.979000 val acc:  0.967200\n",
      "lr=0.000140, std=0.006565, regu=0.009739, dec=0.986225 train accuracy is : 0.885000 val acc:  0.875300\n",
      " no decay lr=0.000140, std=0.006565,regu=0.009739 train accuracy is : 0.874000 val acc:  0.875600\n",
      "lr=0.003497, std=0.004006, regu=0.010550, dec=0.937971 train accuracy is : 0.980000 val acc:  0.966800\n",
      " no decay lr=0.003497, std=0.004006,regu=0.010550 train accuracy is : 0.969000 val acc:  0.962400\n",
      "lr=0.001322, std=0.055696, regu=0.069105, dec=0.931171 train accuracy is : 0.931000 val acc:  0.935300\n",
      " no decay lr=0.001322, std=0.055696,regu=0.069105 train accuracy is : 0.925000 val acc:  0.932100\n",
      "lr=0.006023, std=0.007198, regu=0.000160, dec=0.964341 train accuracy is : 0.927000 val acc:  0.936200\n",
      " no decay lr=0.006023, std=0.007198,regu=0.000160 train accuracy is : 0.876000 val acc:  0.897000\n",
      "lr=0.002560, std=0.086195, regu=0.000246, dec=0.933433 train accuracy is : 0.975000 val acc:  0.957300\n",
      " no decay lr=0.002560, std=0.086195,regu=0.000246 train accuracy is : 0.966000 val acc:  0.967300\n",
      "lr=0.003090, std=0.049716, regu=0.014043, dec=0.930524 train accuracy is : 0.974000 val acc:  0.966000\n",
      " no decay lr=0.003090, std=0.049716,regu=0.014043 train accuracy is : 0.966000 val acc:  0.965600\n",
      "lr=0.000868, std=0.006000, regu=0.000358, dec=0.949804 train accuracy is : 0.983000 val acc:  0.970500\n",
      " no decay lr=0.000868, std=0.006000,regu=0.000358 train accuracy is : 0.990000 val acc:  0.976300\n",
      "lr=0.000358, std=0.018292, regu=0.000163, dec=0.997046 train accuracy is : 0.983000 val acc:  0.968400\n",
      " no decay lr=0.000358, std=0.018292,regu=0.000163 train accuracy is : 0.980000 val acc:  0.971400\n",
      "lr=0.000670, std=0.022008, regu=0.000470, dec=0.930781 train accuracy is : 0.972000 val acc:  0.956400\n",
      " no decay lr=0.000670, std=0.022008,regu=0.000470 train accuracy is : 0.991000 val acc:  0.977100\n",
      "lr=0.003064, std=0.035577, regu=0.048885, dec=0.906887 train accuracy is : 0.958000 val acc:  0.949100\n",
      " no decay lr=0.003064, std=0.035577,regu=0.048885 train accuracy is : 0.945000 val acc:  0.946400\n",
      "lr=0.000254, std=0.004854, regu=0.000594, dec=0.949126 train accuracy is : 0.897000 val acc:  0.885000\n",
      " no decay lr=0.000254, std=0.004854,regu=0.000594 train accuracy is : 0.930000 val acc:  0.911400\n",
      "lr=0.000255, std=0.005245, regu=0.016604, dec=0.941024 train accuracy is : 0.873000 val acc:  0.867600\n",
      " no decay lr=0.000255, std=0.005245,regu=0.016604 train accuracy is : 0.898000 val acc:  0.885800\n",
      "lr=0.006776, std=0.074223, regu=0.001441, dec=0.990421 train accuracy is : 0.969000 val acc:  0.962600\n",
      " no decay lr=0.006776, std=0.074223,regu=0.001441 train accuracy is : 0.960000 val acc:  0.959400\n",
      "lr=0.004090, std=0.003168, regu=0.000487, dec=0.985934 train accuracy is : 0.941000 val acc:  0.944800\n",
      " no decay lr=0.004090, std=0.003168,regu=0.000487 train accuracy is : 0.908000 val acc:  0.925300\n",
      "lr=0.000217, std=0.007376, regu=0.077734, dec=0.963441 train accuracy is : 0.887000 val acc:  0.872400\n",
      " no decay lr=0.000217, std=0.007376,regu=0.077734 train accuracy is : 0.940000 val acc:  0.942800\n",
      "lr=0.003429, std=0.040398, regu=0.037509, dec=0.971161 train accuracy is : 0.961000 val acc:  0.955900\n",
      " no decay lr=0.003429, std=0.040398,regu=0.037509 train accuracy is : 0.953000 val acc:  0.952700\n",
      "lr=0.000952, std=0.015492, regu=0.066514, dec=0.909091 train accuracy is : 0.954000 val acc:  0.943800\n",
      " no decay lr=0.000952, std=0.015492,regu=0.066514 train accuracy is : 0.948000 val acc:  0.949400\n",
      "lr=0.001213, std=0.027582, regu=0.000630, dec=0.956561 train accuracy is : 0.985000 val acc:  0.971000\n",
      " no decay lr=0.001213, std=0.027582,regu=0.000630 train accuracy is : 0.990000 val acc:  0.975800\n",
      "lr=0.002639, std=0.005871, regu=0.008894, dec=0.930083 train accuracy is : 0.982000 val acc:  0.969800\n",
      " no decay lr=0.002639, std=0.005871,regu=0.008894 train accuracy is : 0.977000 val acc:  0.970700\n",
      "lr=0.001249, std=0.005833, regu=0.049455, dec=0.940675 train accuracy is : 0.955000 val acc:  0.954600\n",
      " no decay lr=0.001249, std=0.005833,regu=0.049455 train accuracy is : 0.962000 val acc:  0.954700\n",
      "lr=0.007878, std=0.007893, regu=0.006941, dec=0.952312 train accuracy is : 0.980000 val acc:  0.962500\n",
      " no decay lr=0.007878, std=0.007893,regu=0.006941 train accuracy is : 0.961000 val acc:  0.952800\n",
      "lr=0.001735, std=0.004975, regu=0.007485, dec=0.959213 train accuracy is : 0.994000 val acc:  0.974100\n",
      " no decay lr=0.001735, std=0.004975,regu=0.007485 train accuracy is : 0.977000 val acc:  0.973100\n",
      "lr=0.000105, std=0.008095, regu=0.034773, dec=0.976924 train accuracy is : 0.852000 val acc:  0.853400\n",
      " no decay lr=0.000105, std=0.008095,regu=0.034773 train accuracy is : 0.868000 val acc:  0.866400\n",
      "lr=0.000723, std=0.092463, regu=0.008146, dec=0.946422 train accuracy is : 0.952000 val acc:  0.937900\n",
      " no decay lr=0.000723, std=0.092463,regu=0.008146 train accuracy is : 0.960000 val acc:  0.957600\n",
      "lr=0.008706, std=0.012536, regu=0.024722, dec=0.929493 train accuracy is : 0.967000 val acc:  0.963500\n",
      " no decay lr=0.008706, std=0.012536,regu=0.024722 train accuracy is : 0.964000 val acc:  0.957100\n",
      "lr=0.001848, std=0.016107, regu=0.040630, dec=0.929627 train accuracy is : 0.962000 val acc:  0.957700\n",
      " no decay lr=0.001848, std=0.016107,regu=0.040630 train accuracy is : 0.960000 val acc:  0.959600\n",
      "lr=0.007810, std=0.009540, regu=0.000117, dec=0.933391 train accuracy is : 0.943000 val acc:  0.935600\n",
      " no decay lr=0.007810, std=0.009540,regu=0.000117 train accuracy is : 0.880000 val acc:  0.888300\n",
      "lr=0.000104, std=0.003204, regu=0.000138, dec=0.905085 train accuracy is : 0.664000 val acc:  0.682900\n",
      " no decay lr=0.000104, std=0.003204,regu=0.000138 train accuracy is : 0.867000 val acc:  0.876200\n",
      "lr=0.000589, std=0.090203, regu=0.002456, dec=0.990403 train accuracy is : 0.960000 val acc:  0.947200\n",
      " no decay lr=0.000589, std=0.090203,regu=0.002456 train accuracy is : 0.968000 val acc:  0.957200\n",
      "lr=0.001186, std=0.013123, regu=0.000318, dec=0.954935 train accuracy is : 0.999000 val acc:  0.976200\n",
      " no decay lr=0.001186, std=0.013123,regu=0.000318 train accuracy is : 0.978000 val acc:  0.974000\n",
      "lr=0.005241, std=0.057667, regu=0.000377, dec=0.902360 train accuracy is : 0.980000 val acc:  0.965200\n",
      " no decay lr=0.005241, std=0.057667,regu=0.000377 train accuracy is : 0.956000 val acc:  0.954600\n",
      "lr=0.008461, std=0.010315, regu=0.001233, dec=0.945652 train accuracy is : 0.949000 val acc:  0.953200\n",
      " no decay lr=0.008461, std=0.010315,regu=0.001233 train accuracy is : 0.946000 val acc:  0.929300\n",
      "lr=0.000985, std=0.033294, regu=0.000553, dec=0.952332 train accuracy is : 0.976000 val acc:  0.964400\n",
      " no decay lr=0.000985, std=0.033294,regu=0.000553 train accuracy is : 0.988000 val acc:  0.975800\n",
      "lr=0.000598, std=0.041361, regu=0.054407, dec=0.905785 train accuracy is : 0.927000 val acc:  0.927900\n",
      " no decay lr=0.000598, std=0.041361,regu=0.054407 train accuracy is : 0.942000 val acc:  0.945600\n",
      "lr=0.000194, std=0.025632, regu=0.024568, dec=0.911214 train accuracy is : 0.912000 val acc:  0.915600\n",
      " no decay lr=0.000194, std=0.025632,regu=0.024568 train accuracy is : 0.951000 val acc:  0.953400\n",
      "lr=0.000978, std=0.064847, regu=0.058492, dec=0.972338 train accuracy is : 0.940000 val acc:  0.939900\n",
      " no decay lr=0.000978, std=0.064847,regu=0.058492 train accuracy is : 0.936000 val acc:  0.939700\n",
      "lr=0.000516, std=0.036272, regu=0.004444, dec=0.903715 train accuracy is : 0.946000 val acc:  0.937000\n",
      " no decay lr=0.000516, std=0.036272,regu=0.004444 train accuracy is : 0.985000 val acc:  0.966200\n",
      "lr=0.005065, std=0.037939, regu=0.073437, dec=0.986570 train accuracy is : 0.930000 val acc:  0.931300\n",
      " no decay lr=0.005065, std=0.037939,regu=0.073437 train accuracy is : 0.928000 val acc:  0.928000\n",
      "lr=0.000210, std=0.065493, regu=0.085540, dec=0.914843 train accuracy is : 0.882000 val acc:  0.898800\n"
     ]
    },
    {
     "ename": "KeyboardInterrupt",
     "evalue": "",
     "output_type": "error",
     "traceback": [
      "\u001b[1;31m---------------------------------------------------------------------------\u001b[0m",
      "\u001b[1;31mKeyboardInterrupt\u001b[0m                         Traceback (most recent call last)",
      "\u001b[1;32m<ipython-input-10-04cfd60d53be>\u001b[0m in \u001b[0;36m<module>\u001b[1;34m()\u001b[0m\n\u001b[0;32m     48\u001b[0m                 }\n\u001b[0;32m     49\u001b[0m          )\n\u001b[1;32m---> 50\u001b[1;33m     \u001b[0msolver\u001b[0m\u001b[1;33m.\u001b[0m\u001b[0mtrain\u001b[0m\u001b[1;33m(\u001b[0m\u001b[1;33m)\u001b[0m\u001b[1;33m\u001b[0m\u001b[0m\n\u001b[0m\u001b[0;32m     51\u001b[0m     \u001b[1;32mprint\u001b[0m \u001b[1;34m' no decay lr=%f, std=%f,regu=%f train accuracy is : %f val acc:  %f'\u001b[0m \u001b[1;33m%\u001b[0m\u001b[1;33m(\u001b[0m\u001b[0mlearning_rate\u001b[0m\u001b[1;33m,\u001b[0m \u001b[0mweight_scale\u001b[0m\u001b[1;33m,\u001b[0m\u001b[0mregu\u001b[0m\u001b[1;33m,\u001b[0m \u001b[0msolver\u001b[0m\u001b[1;33m.\u001b[0m\u001b[0mtrain_acc_history\u001b[0m\u001b[1;33m[\u001b[0m\u001b[1;33m-\u001b[0m\u001b[1;36m1\u001b[0m\u001b[1;33m]\u001b[0m\u001b[1;33m,\u001b[0m \u001b[0msolver\u001b[0m\u001b[1;33m.\u001b[0m\u001b[0mval_acc_history\u001b[0m\u001b[1;33m[\u001b[0m\u001b[1;33m-\u001b[0m\u001b[1;36m1\u001b[0m\u001b[1;33m]\u001b[0m\u001b[1;33m)\u001b[0m\u001b[1;33m\u001b[0m\u001b[0m\n\u001b[0;32m     52\u001b[0m \u001b[1;33m\u001b[0m\u001b[0m\n",
      "\u001b[1;32m/home/burc/assignment2/cs231n/solver.pyc\u001b[0m in \u001b[0;36mtrain\u001b[1;34m(self)\u001b[0m\n\u001b[0;32m    230\u001b[0m \u001b[1;33m\u001b[0m\u001b[0m\n\u001b[0;32m    231\u001b[0m     \u001b[1;32mfor\u001b[0m \u001b[0mt\u001b[0m \u001b[1;32min\u001b[0m \u001b[0mxrange\u001b[0m\u001b[1;33m(\u001b[0m\u001b[0mnum_iterations\u001b[0m\u001b[1;33m)\u001b[0m\u001b[1;33m:\u001b[0m\u001b[1;33m\u001b[0m\u001b[0m\n\u001b[1;32m--> 232\u001b[1;33m       \u001b[0mself\u001b[0m\u001b[1;33m.\u001b[0m\u001b[0m_step\u001b[0m\u001b[1;33m(\u001b[0m\u001b[1;33m)\u001b[0m\u001b[1;33m\u001b[0m\u001b[0m\n\u001b[0m\u001b[0;32m    233\u001b[0m \u001b[1;33m\u001b[0m\u001b[0m\n\u001b[0;32m    234\u001b[0m       \u001b[1;31m# Maybe print training loss\u001b[0m\u001b[1;33m\u001b[0m\u001b[1;33m\u001b[0m\u001b[0m\n",
      "\u001b[1;32m/home/burc/assignment2/cs231n/solver.pyc\u001b[0m in \u001b[0;36m_step\u001b[1;34m(self)\u001b[0m\n\u001b[0;32m    168\u001b[0m     \u001b[1;31m# Compute loss and gradient\u001b[0m\u001b[1;33m\u001b[0m\u001b[1;33m\u001b[0m\u001b[0m\n\u001b[0;32m    169\u001b[0m \u001b[1;33m\u001b[0m\u001b[0m\n\u001b[1;32m--> 170\u001b[1;33m     \u001b[0mloss\u001b[0m\u001b[1;33m,\u001b[0m \u001b[0mgrads\u001b[0m \u001b[1;33m=\u001b[0m \u001b[0mself\u001b[0m\u001b[1;33m.\u001b[0m\u001b[0mmodel\u001b[0m\u001b[1;33m.\u001b[0m\u001b[0mloss\u001b[0m\u001b[1;33m(\u001b[0m\u001b[0mX_batch\u001b[0m\u001b[1;33m,\u001b[0m \u001b[0my_batch\u001b[0m\u001b[1;33m)\u001b[0m\u001b[1;33m\u001b[0m\u001b[0m\n\u001b[0m\u001b[0;32m    171\u001b[0m     \u001b[0mself\u001b[0m\u001b[1;33m.\u001b[0m\u001b[0mloss_history\u001b[0m\u001b[1;33m.\u001b[0m\u001b[0mappend\u001b[0m\u001b[1;33m(\u001b[0m\u001b[0mloss\u001b[0m\u001b[1;33m)\u001b[0m\u001b[1;33m\u001b[0m\u001b[0m\n\u001b[0;32m    172\u001b[0m \u001b[1;33m\u001b[0m\u001b[0m\n",
      "\u001b[1;32m/home/burc/assignment2/cs231n/classifiers/fc_net_split3.pyc\u001b[0m in \u001b[0;36mloss\u001b[1;34m(self, X, y, noise, noise2, test, parallel_samples_output)\u001b[0m\n\u001b[0;32m    299\u001b[0m       \u001b[0mdx2\u001b[0m\u001b[1;33m,\u001b[0m \u001b[0mdW2_2\u001b[0m\u001b[1;33m,\u001b[0m \u001b[0mdb2_2\u001b[0m \u001b[1;33m=\u001b[0m \u001b[0maffine_tanh_backward\u001b[0m\u001b[1;33m(\u001b[0m\u001b[0mdhidden\u001b[0m\u001b[1;33m[\u001b[0m\u001b[1;33m:\u001b[0m\u001b[1;33m,\u001b[0m\u001b[1;36m128\u001b[0m\u001b[1;33m:\u001b[0m\u001b[1;36m256\u001b[0m\u001b[1;33m]\u001b[0m\u001b[1;33m,\u001b[0m \u001b[0mhidden_cache2_2\u001b[0m\u001b[1;33m)\u001b[0m\u001b[1;33m\u001b[0m\u001b[0m\n\u001b[0;32m    300\u001b[0m \u001b[1;33m\u001b[0m\u001b[0m\n\u001b[1;32m--> 301\u001b[1;33m \u001b[1;33m\u001b[0m\u001b[0m\n\u001b[0m\u001b[0;32m    302\u001b[0m     \u001b[1;32mif\u001b[0m \u001b[0mself\u001b[0m\u001b[1;33m.\u001b[0m\u001b[0mactivation\u001b[0m \u001b[1;33m==\u001b[0m\u001b[1;36m0\u001b[0m\u001b[1;33m:\u001b[0m\u001b[1;33m\u001b[0m\u001b[0m\n\u001b[0;32m    303\u001b[0m       \u001b[0mdx\u001b[0m\u001b[1;33m,\u001b[0m \u001b[0mdW1\u001b[0m\u001b[1;33m,\u001b[0m \u001b[0mdb1\u001b[0m \u001b[1;33m=\u001b[0m \u001b[0maffine_relu_backward\u001b[0m\u001b[1;33m(\u001b[0m\u001b[0mdhidden\u001b[0m\u001b[1;33m,\u001b[0m \u001b[0mhidden_cache\u001b[0m\u001b[1;33m)\u001b[0m   \u001b[1;31m#change to affine_sigmoid later\u001b[0m\u001b[1;33m\u001b[0m\u001b[0m\n",
      "\u001b[1;32m/home/burc/assignment2/cs231n/layer_utils.pyc\u001b[0m in \u001b[0;36maffine_tanh_backward\u001b[1;34m(dout, cache)\u001b[0m\n\u001b[0;32m     55\u001b[0m   \u001b[0mfc_cache\u001b[0m\u001b[1;33m,\u001b[0m \u001b[0msigmoid_cache\u001b[0m \u001b[1;33m=\u001b[0m \u001b[0mcache\u001b[0m\u001b[1;33m\u001b[0m\u001b[0m\n\u001b[0;32m     56\u001b[0m   \u001b[0mda\u001b[0m \u001b[1;33m=\u001b[0m \u001b[0mtanh_backward\u001b[0m\u001b[1;33m(\u001b[0m\u001b[0mdout\u001b[0m\u001b[1;33m,\u001b[0m \u001b[0msigmoid_cache\u001b[0m\u001b[1;33m)\u001b[0m\u001b[1;33m\u001b[0m\u001b[0m\n\u001b[1;32m---> 57\u001b[1;33m   \u001b[0mdx\u001b[0m\u001b[1;33m,\u001b[0m \u001b[0mdw\u001b[0m\u001b[1;33m,\u001b[0m \u001b[0mdb\u001b[0m \u001b[1;33m=\u001b[0m \u001b[0maffine_backward\u001b[0m\u001b[1;33m(\u001b[0m\u001b[0mda\u001b[0m\u001b[1;33m,\u001b[0m \u001b[0mfc_cache\u001b[0m\u001b[1;33m)\u001b[0m\u001b[1;33m\u001b[0m\u001b[0m\n\u001b[0m\u001b[0;32m     58\u001b[0m   \u001b[1;32mreturn\u001b[0m \u001b[0mdx\u001b[0m\u001b[1;33m,\u001b[0m \u001b[0mdw\u001b[0m\u001b[1;33m,\u001b[0m \u001b[0mdb\u001b[0m\u001b[1;33m\u001b[0m\u001b[0m\n\u001b[0;32m     59\u001b[0m \u001b[1;33m\u001b[0m\u001b[0m\n",
      "\u001b[1;32m/home/burc/assignment2/cs231n/layers.pyc\u001b[0m in \u001b[0;36maffine_backward\u001b[1;34m(dout, cache)\u001b[0m\n\u001b[0;32m     60\u001b[0m   \u001b[0mdx\u001b[0m \u001b[1;33m=\u001b[0m \u001b[0mdout\u001b[0m\u001b[1;33m.\u001b[0m\u001b[0mdot\u001b[0m\u001b[1;33m(\u001b[0m\u001b[0mw\u001b[0m\u001b[1;33m.\u001b[0m\u001b[0mT\u001b[0m\u001b[1;33m)\u001b[0m\u001b[1;33m\u001b[0m\u001b[0m\n\u001b[0;32m     61\u001b[0m   \u001b[0mdx\u001b[0m \u001b[1;33m=\u001b[0m \u001b[0mnp\u001b[0m\u001b[1;33m.\u001b[0m\u001b[0mreshape\u001b[0m\u001b[1;33m(\u001b[0m\u001b[0mdx\u001b[0m\u001b[1;33m,\u001b[0m \u001b[0mx\u001b[0m\u001b[1;33m.\u001b[0m\u001b[0mshape\u001b[0m\u001b[1;33m)\u001b[0m\u001b[1;33m\u001b[0m\u001b[0m\n\u001b[1;32m---> 62\u001b[1;33m   \u001b[0mdw\u001b[0m \u001b[1;33m=\u001b[0m \u001b[0mx_reshape\u001b[0m\u001b[1;33m.\u001b[0m\u001b[0mT\u001b[0m\u001b[1;33m.\u001b[0m\u001b[0mdot\u001b[0m\u001b[1;33m(\u001b[0m\u001b[0mdout\u001b[0m\u001b[1;33m)\u001b[0m\u001b[1;33m\u001b[0m\u001b[0m\n\u001b[0m\u001b[0;32m     63\u001b[0m   \u001b[0mdb\u001b[0m \u001b[1;33m=\u001b[0m \u001b[0mnp\u001b[0m\u001b[1;33m.\u001b[0m\u001b[0msum\u001b[0m\u001b[1;33m(\u001b[0m\u001b[0mdout\u001b[0m\u001b[1;33m,\u001b[0m \u001b[0maxis\u001b[0m\u001b[1;33m=\u001b[0m\u001b[1;36m0\u001b[0m\u001b[1;33m)\u001b[0m\u001b[1;33m\u001b[0m\u001b[0m\n\u001b[0;32m     64\u001b[0m   \u001b[1;31m#############################################################################\u001b[0m\u001b[1;33m\u001b[0m\u001b[1;33m\u001b[0m\u001b[0m\n",
      "\u001b[1;31mKeyboardInterrupt\u001b[0m: "
     ]
    }
   ],
   "source": [
    "#lr=0.001530, std=0.008238, regu=0.000000 train accuracy is : 0.990000 val acc:  0.975800\n",
    "#no decay lr=0.001002, std=0.021410,regu=0.000750 train accuracy is : 0.990000 val acc:  0.977400\n",
    "#no decay lr=0.000541, std=0.010023,regu=0.000685 train accuracy is : 0.992000 val acc:  0.977300\n",
    "for i in range(100):\n",
    "    #learning_rate = 0.000830 #10**np.random.uniform(-4,-3)\n",
    "    #weight_scale = 0.003849 #10**np.random.uniform(-3,-1)\n",
    "    #regu = 0.00168276907439#10**np.random.uniform(-3,-1)\n",
    "    regu=10**np.random.uniform(-4,-1)\n",
    "    #regu=0\n",
    "    learning_rate = 10**np.random.uniform(-4,-2)\n",
    "    weight_scale = 10**np.random.uniform(-2.5,-1)\n",
    "    dec = np.random.uniform(0.9,1)\n",
    "    #regu =0.00329329787291\n",
    "    #print regu\n",
    "    #learning_rate=0.0005\n",
    "    #weight_scale=0.027\n",
    "    #learning_rate = 0.001 #10**np.random.uniform(-5,-1)\n",
    "    #weight_scale = 0.02 #10**np.random.uniform(-3,0)\n",
    "    # no decay lr=0.000292, std=0.004709, train accuracy is : 0.999000 val acc:  0.970500\n",
    "#0.14912609128\n",
    "#0.00669438412009\n",
    "#0.00168276907439\n",
    "# no decay lr=0.000830, std=0.003849, train accuracy is : 0.994000 val acc:  0.967100\n",
    "# no decay lr=0.000508, std=0.027556, train accuracy is : 1.000000 val acc:  0.971500\n",
    "\n",
    "    model = ThreeLayerNet(input_dim=28*28, ##hidden_dim=256,\n",
    "              weight_scale=weight_scale, reg=regu, activation=3, scores_activation=3)\n",
    "    solver = Solver(model,data,\n",
    "                print_every=10, num_epochs=60, batch_size=100,\n",
    "                update_rule='sgd_momentum',lr_decay=dec,verbose = False,\n",
    "                optim_config={\n",
    "                  'learning_rate': learning_rate\n",
    "                }\n",
    "         )\n",
    "    \n",
    "    solver.train()\n",
    "\n",
    "    print 'lr=%f, std=%f, regu=%f, dec=%f train accuracy is : %f val acc:  %f' %(learning_rate, weight_scale, regu, dec,solver.train_acc_history[-1], solver.val_acc_history[-1])\n",
    " \n",
    "\n",
    "    model = ThreeLayerNet(input_dim=28*28,  ##hidden_dim=256,\n",
    "              weight_scale=weight_scale, reg=regu,activation=3, scores_activation=3)\n",
    "    solver = Solver(model,data,\n",
    "                print_every=4000, num_epochs=60, batch_size=100, \n",
    "                update_rule='sgd_momentum',lr_decay=1.0,verbose =False, #lr_decay=0.0,\n",
    "                optim_config={\n",
    "                  'learning_rate': learning_rate\n",
    "                }\n",
    "         )\n",
    "    solver.train()\n",
    "    print ' no decay lr=%f, std=%f,regu=%f train accuracy is : %f val acc:  %f' %(learning_rate, weight_scale,regu, solver.train_acc_history[-1], solver.val_acc_history[-1])\n",
    " \n",
    "\n",
    "\n",
    "#solver.train()\n",
    "\n",
    "plt.plot(solver.loss_history, 'o')\n",
    "plt.title('Training loss history')\n",
    "plt.xlabel('Iteration')\n",
    "plt.ylabel('Training loss')"
   ]
  },
  {
   "cell_type": "code",
   "execution_count": 11,
   "metadata": {
    "collapsed": false
   },
   "outputs": [
    {
     "name": "stdout",
     "output_type": "stream",
     "text": [
      " no decay lr=0.000670, std=0.022008,regu=0.000470 train accuracy is : 0.996000 val acc:  0.977700\n"
     ]
    }
   ],
   "source": [
    "#no decay lr=0.000670, std=0.022008,regu=0.000470 train accuracy is : 0.991000 val acc:  0.977100\n",
    "\n",
    "\n",
    "regu=0.000470\n",
    "    #regu=0\n",
    "learning_rate = 0.000670\n",
    "weight_scale = 0.022008\n",
    "#dec = np.random.uniform(0.9,1)\n",
    "\n",
    "model = ThreeLayerNet(input_dim=28*28,  ##hidden_dim=256,\n",
    "              weight_scale=weight_scale, reg=regu,activation=3, scores_activation=3)\n",
    "solver = Solver(model,data,\n",
    "                print_every=4000, num_epochs=60, batch_size=100, \n",
    "                update_rule='sgd_momentum',lr_decay=1.0,verbose =False, #lr_decay=0.0,\n",
    "                optim_config={\n",
    "                  'learning_rate': learning_rate\n",
    "                }\n",
    "         )\n",
    "solver.train()\n",
    "print ' no decay lr=%f, std=%f,regu=%f train accuracy is : %f val acc:  %f' %(learning_rate, weight_scale,regu, solver.train_acc_history[-1], solver.val_acc_history[-1])\n",
    " "
   ]
  },
  {
   "cell_type": "code",
   "execution_count": 12,
   "metadata": {
    "collapsed": false
   },
   "outputs": [
    {
     "name": "stdout",
     "output_type": "stream",
     "text": [
      "Validation set accuracy:  0.9779\n",
      "Test set accuracy:  0.9746\n",
      "Noisy test set accuracy:  0.9739\n",
      "0.971605\n",
      "0.97231\n",
      "0.97267\n",
      "0.97264\n",
      "0.972865\n",
      "0.973055\n",
      "0.973095\n"
     ]
    }
   ],
   "source": [
    "y_test_pred = np.argmax(model.loss(data['X_test'],noise=0,test=1), axis=1)\n",
    "y_val_pred = np.argmax(model.loss(data['X_val']), axis=1)\n",
    "print 'Validation set accuracy: ', (y_val_pred == data['y_val']).mean()\n",
    "print 'Test set accuracy: ', (y_test_pred == data['y_test']).mean()\n",
    "y_test_pred = np.argmax(model.loss(data['X_test'],noise=1,test=1), axis=1)\n",
    "print 'Noisy test set accuracy: ', (y_test_pred == data['y_test']).mean()\n",
    "\n",
    "par=1\n",
    "aa=0.0\n",
    "for i in range(0,20):\n",
    "  y_test_pred = np.argmax(model.loss(data['X_test'],noise=1,test=1,noise2=1, parallel_samples_output=par), axis=1)\n",
    "  #print 'Noisy test set accuracy: ', (y_test_pred == data['y_test']).mean()\n",
    "  aa=aa+ (y_test_pred == data['y_test']).mean()\n",
    "print aa/20\n",
    "\n",
    "par=2\n",
    "aa=0.0\n",
    "for i in range(0,20):\n",
    "  y_test_pred = np.argmax(model.loss(data['X_test'],noise=1,test=1,noise2=1, parallel_samples_output=par), axis=1)\n",
    "  #print 'Noisy test set accuracy: ', (y_test_pred == data['y_test']).mean()\n",
    "  aa=aa+ (y_test_pred == data['y_test']).mean()\n",
    "print aa/20\n",
    "\n",
    "\n",
    "par=3\n",
    "aa=0.0\n",
    "for i in range(0,20):\n",
    "  y_test_pred = np.argmax(model.loss(data['X_test'],noise=1,test=1,noise2=1, parallel_samples_output=par), axis=1)\n",
    "  #print 'Noisy test set accuracy: ', (y_test_pred == data['y_test']).mean()\n",
    "  aa=aa+ (y_test_pred == data['y_test']).mean()\n",
    "print aa/20\n",
    "\n",
    "par=4\n",
    "aa=0.0\n",
    "for i in range(0,20):\n",
    "  y_test_pred = np.argmax(model.loss(data['X_test'],noise=1,test=1,noise2=1, parallel_samples_output=par), axis=1)\n",
    "  #print 'Noisy test set accuracy: ', (y_test_pred == data['y_test']).mean()\n",
    "  aa=aa+ (y_test_pred == data['y_test']).mean()\n",
    "print aa/20\n",
    "\n",
    "par=8\n",
    "aa=0.0\n",
    "for i in range(0,20):\n",
    "  y_test_pred = np.argmax(model.loss(data['X_test'],noise=1,test=1,noise2=1, parallel_samples_output=par), axis=1)\n",
    "  #print 'Noisy test set accuracy: ', (y_test_pred == data['y_test']).mean()\n",
    "  aa=aa+ (y_test_pred == data['y_test']).mean()\n",
    "print aa/20\n",
    "\n",
    "par=16\n",
    "aa=0.0\n",
    "for i in range(0,20):\n",
    "  y_test_pred = np.argmax(model.loss(data['X_test'],noise=1,test=1,noise2=1, parallel_samples_output=par), axis=1)\n",
    "  #print 'Noisy test set accuracy: ', (y_test_pred == data['y_test']).mean()\n",
    "  aa=aa+ (y_test_pred == data['y_test']).mean()\n",
    "print aa/20\n",
    "\n",
    "par=24\n",
    "aa=0.0\n",
    "for i in range(0,20):\n",
    "  y_test_pred = np.argmax(model.loss(data['X_test'],noise=1,test=1,noise2=1, parallel_samples_output=par), axis=1)\n",
    "  #print 'Noisy test set accuracy: ', (y_test_pred == data['y_test']).mean()\n",
    "  aa=aa+ (y_test_pred == data['y_test']).mean()\n",
    "print aa/20"
   ]
  },
  {
   "cell_type": "code",
   "execution_count": 3,
   "metadata": {
    "collapsed": false
   },
   "outputs": [
    {
     "name": "stdout",
     "output_type": "stream",
     "text": [
      "(7840,)\n",
      "0 1231\n",
      "(10, 28, 28)\n",
      "0 1 784 28\n",
      "(10, 784)\n"
     ]
    }
   ],
   "source": [
    "y= np.array(range(0,28*28*10))\n",
    "print y.shape\n",
    "\n",
    "print y[0], y[1231]\n",
    "y2= np.reshape(y,(10,28,28))\n",
    "print y2.shape\n",
    "print y2[0,0,0], y2[0,0,1], y2[1,0,0], y2[0,1,0]\n",
    "\n",
    "y3 = np.reshape(y2, (y2.shape[0],-1))\n",
    "print y3.shape\n"
   ]
  },
  {
   "cell_type": "code",
   "execution_count": 8,
   "metadata": {
    "collapsed": false
   },
   "outputs": [
    {
     "name": "stdout",
     "output_type": "stream",
     "text": [
      " no decay lr=0.001002, std=0.021410,regu=0.000750 train accuracy is : 0.988000 val acc:  0.977800\n"
     ]
    }
   ],
   "source": [
    "###no decay lr=0.001002, std=0.021410,regu=0.000750 train accuracy is : 0.990000 val acc:  0.977400\n",
    "\n",
    "regu=0.000750\n",
    "    #regu=0\n",
    "learning_rate = 0.001002\n",
    "weight_scale = 0.021410\n",
    "\n",
    "model = ThreeLayerNet(input_dim=28*28,  ##hidden_dim=256,\n",
    "              weight_scale=weight_scale, reg=regu,activation=3, scores_activation=3)\n",
    "solver = Solver(model,data,\n",
    "                print_every=4000, num_epochs=60, batch_size=100, \n",
    "                update_rule='sgd_momentum',lr_decay=1.0,verbose =False, #lr_decay=0.0,\n",
    "                optim_config={\n",
    "                  'learning_rate': learning_rate\n",
    "                }\n",
    "         )\n",
    "solver.train()\n",
    "print ' no decay lr=%f, std=%f,regu=%f train accuracy is : %f val acc:  %f' %(learning_rate, weight_scale,regu, solver.train_acc_history[-1], solver.val_acc_history[-1])\n",
    " \n"
   ]
  },
  {
   "cell_type": "code",
   "execution_count": 9,
   "metadata": {
    "collapsed": false
   },
   "outputs": [
    {
     "name": "stdout",
     "output_type": "stream",
     "text": [
      "Validation set accuracy:  0.9787\n",
      "Test set accuracy:  0.9764\n",
      "Noisy test set accuracy:  0.9747\n",
      "0.96633\n",
      "0.96956\n",
      "0.971335\n",
      "0.97213\n",
      "0.972865\n",
      "0.97291\n",
      "0.972925\n"
     ]
    }
   ],
   "source": [
    "y_test_pred = np.argmax(model.loss(data['X_test'],noise=0,test=1), axis=1)\n",
    "y_val_pred = np.argmax(model.loss(data['X_val']), axis=1)\n",
    "print 'Validation set accuracy: ', (y_val_pred == data['y_val']).mean()\n",
    "print 'Test set accuracy: ', (y_test_pred == data['y_test']).mean()\n",
    "y_test_pred = np.argmax(model.loss(data['X_test'],noise=1,test=1), axis=1)\n",
    "print 'Noisy test set accuracy: ', (y_test_pred == data['y_test']).mean()\n",
    "\n",
    "par=1\n",
    "aa=0.0\n",
    "for i in range(0,20):\n",
    "  y_test_pred = np.argmax(model.loss(data['X_test'],noise=1,test=1,noise2=1, parallel_samples_output=par), axis=1)\n",
    "  #print 'Noisy test set accuracy: ', (y_test_pred == data['y_test']).mean()\n",
    "  aa=aa+ (y_test_pred == data['y_test']).mean()\n",
    "print aa/20\n",
    "\n",
    "par=2\n",
    "aa=0.0\n",
    "for i in range(0,20):\n",
    "  y_test_pred = np.argmax(model.loss(data['X_test'],noise=1,test=1,noise2=1, parallel_samples_output=par), axis=1)\n",
    "  #print 'Noisy test set accuracy: ', (y_test_pred == data['y_test']).mean()\n",
    "  aa=aa+ (y_test_pred == data['y_test']).mean()\n",
    "print aa/20\n",
    "\n",
    "\n",
    "par=3\n",
    "aa=0.0\n",
    "for i in range(0,20):\n",
    "  y_test_pred = np.argmax(model.loss(data['X_test'],noise=1,test=1,noise2=1, parallel_samples_output=par), axis=1)\n",
    "  #print 'Noisy test set accuracy: ', (y_test_pred == data['y_test']).mean()\n",
    "  aa=aa+ (y_test_pred == data['y_test']).mean()\n",
    "print aa/20\n",
    "\n",
    "par=4\n",
    "aa=0.0\n",
    "for i in range(0,20):\n",
    "  y_test_pred = np.argmax(model.loss(data['X_test'],noise=1,test=1,noise2=1, parallel_samples_output=par), axis=1)\n",
    "  #print 'Noisy test set accuracy: ', (y_test_pred == data['y_test']).mean()\n",
    "  aa=aa+ (y_test_pred == data['y_test']).mean()\n",
    "print aa/20\n",
    "\n",
    "par=8\n",
    "aa=0.0\n",
    "for i in range(0,20):\n",
    "  y_test_pred = np.argmax(model.loss(data['X_test'],noise=1,test=1,noise2=1, parallel_samples_output=par), axis=1)\n",
    "  #print 'Noisy test set accuracy: ', (y_test_pred == data['y_test']).mean()\n",
    "  aa=aa+ (y_test_pred == data['y_test']).mean()\n",
    "print aa/20\n",
    "\n",
    "par=16\n",
    "aa=0.0\n",
    "for i in range(0,20):\n",
    "  y_test_pred = np.argmax(model.loss(data['X_test'],noise=1,test=1,noise2=1, parallel_samples_output=par), axis=1)\n",
    "  #print 'Noisy test set accuracy: ', (y_test_pred == data['y_test']).mean()\n",
    "  aa=aa+ (y_test_pred == data['y_test']).mean()\n",
    "print aa/20\n",
    "\n",
    "par=24\n",
    "aa=0.0\n",
    "for i in range(0,20):\n",
    "  y_test_pred = np.argmax(model.loss(data['X_test'],noise=1,test=1,noise2=1, parallel_samples_output=par), axis=1)\n",
    "  #print 'Noisy test set accuracy: ', (y_test_pred == data['y_test']).mean()\n",
    "  aa=aa+ (y_test_pred == data['y_test']).mean()\n",
    "print aa/20"
   ]
  },
  {
   "cell_type": "code",
   "execution_count": null,
   "metadata": {
    "collapsed": true
   },
   "outputs": [],
   "source": []
  },
  {
   "cell_type": "code",
   "execution_count": null,
   "metadata": {
    "collapsed": true
   },
   "outputs": [],
   "source": []
  },
  {
   "cell_type": "code",
   "execution_count": null,
   "metadata": {
    "collapsed": true
   },
   "outputs": [],
   "source": []
  }
 ],
 "metadata": {
  "kernelspec": {
   "display_name": "Python [Root]",
   "language": "python",
   "name": "Python [Root]"
  },
  "language_info": {
   "codemirror_mode": {
    "name": "ipython",
    "version": 2
   },
   "file_extension": ".py",
   "mimetype": "text/x-python",
   "name": "python",
   "nbconvert_exporter": "python",
   "pygments_lexer": "ipython2",
   "version": "2.7.12"
  }
 },
 "nbformat": 4,
 "nbformat_minor": 0
}
