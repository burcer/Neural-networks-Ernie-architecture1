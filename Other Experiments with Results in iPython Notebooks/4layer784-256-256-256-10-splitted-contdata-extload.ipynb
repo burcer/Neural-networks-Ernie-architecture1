{
 "cells": [
  {
   "cell_type": "code",
   "execution_count": 1,
   "metadata": {
    "collapsed": false
   },
   "outputs": [
    {
     "name": "stderr",
     "output_type": "stream",
     "text": [
      "/home/burc/anaconda2/lib/python2.7/site-packages/matplotlib/font_manager.py:273: UserWarning: Matplotlib is building the font cache using fc-list. This may take a moment.\n",
      "  warnings.warn('Matplotlib is building the font cache using fc-list. This may take a moment.')\n"
     ]
    },
    {
     "name": "stdout",
     "output_type": "stream",
     "text": [
      "(60000,)\n",
      "0.0\n",
      "255.0\n",
      "(50000, 28, 28)\n",
      "0.0\n",
      "255.0\n",
      "X_val:  (10000, 28, 28)\n",
      "X_train:  (50000, 28, 28)\n",
      "X_test:  (10000, 28, 28)\n",
      "y_val:  (10000,)\n",
      "y_train:  (50000,)\n",
      "y_test:  (10000,)\n"
     ]
    }
   ],
   "source": [
    "import numpy as np\n",
    "import matplotlib.pyplot as plt\n",
    "from nn.classifiers.fc_net_split3_3 import *\n",
    "from nn.data_utils import get_CIFAR10_data\n",
    "from nn.data_utils_mnist import *\n",
    "from nn.gradient_check import eval_numerical_gradient, eval_numerical_gradient_array\n",
    "from nn.solver import Solver\n",
    "%matplotlib inline\n",
    "plt.rcParams['figure.figsize'] = (10.0, 8.0) # set default size of plots\n",
    "plt.rcParams['image.interpolation'] = 'nearest'\n",
    "plt.rcParams['image.cmap'] = 'gray'\n",
    "\n",
    "# for auto-reloading external modules\n",
    "# see http://stackoverflow.com/questions/1907993/autoreload-of-modules-in-ipython\n",
    "%load_ext autoreload\n",
    "%autoreload 2\n",
    "data = get_MNIST_data(test_trinary=0,train_trinary=0,val_trinary=0,noise_amplitude=0.0,no_of_levels=5)\n",
    "for k, v in data.iteritems():\n",
    "  print '%s: ' % k, v.shape\n",
    "\n"
   ]
  },
  {
   "cell_type": "code",
   "execution_count": 15,
   "metadata": {
    "collapsed": true
   },
   "outputs": [],
   "source": [
    "X=data['X_train']"
   ]
  },
  {
   "cell_type": "code",
   "execution_count": 16,
   "metadata": {
    "collapsed": false
   },
   "outputs": [
    {
     "name": "stdout",
     "output_type": "stream",
     "text": [
      "(50000, 28, 28)\n"
     ]
    }
   ],
   "source": [
    "print X.shape"
   ]
  },
  {
   "cell_type": "code",
   "execution_count": 2,
   "metadata": {
    "collapsed": false,
    "scrolled": true
   },
   "outputs": [
    {
     "name": "stderr",
     "output_type": "stream",
     "text": [
      "cs231n/layers.py:237: RuntimeWarning: overflow encountered in exp\n",
      "  return 1/(1+np.exp(-x))\n"
     ]
    },
    {
     "name": "stdout",
     "output_type": "stream",
     "text": [
      "lr=0.002101, std=0.004633, regu=0.000622 ,dec= 0.988471 train accuracy is : 0.987000 val acc:  0.979500\n",
      " no decay lr=0.002101, std=0.004633,regu=0.000622 train accuracy is : 0.985000 val acc:  0.976000\n",
      "lr=0.000389, std=0.043741, regu=0.005442 ,dec= 0.989686 train accuracy is : 0.987000 val acc:  0.974300\n",
      " no decay lr=0.000389, std=0.043741,regu=0.005442 train accuracy is : 0.992000 val acc:  0.975800\n",
      "lr=0.000381, std=0.001031, regu=0.008728 ,dec= 0.999993 train accuracy is : 0.981000 val acc:  0.971200\n",
      " no decay lr=0.000381, std=0.001031,regu=0.008728 train accuracy is : 0.895000 val acc:  0.892700\n",
      "lr=0.002129, std=0.001017, regu=0.011666 ,dec= 0.985904 train accuracy is : 0.985000 val acc:  0.970800\n",
      " no decay lr=0.002129, std=0.001017,regu=0.011666 train accuracy is : 0.972000 val acc:  0.969100\n",
      "lr=0.001509, std=0.051235, regu=0.000498 ,dec= 0.973764 train accuracy is : 0.993000 val acc:  0.976300\n",
      " no decay lr=0.001509, std=0.051235,regu=0.000498 train accuracy is : 0.994000 val acc:  0.978000\n",
      "lr=0.000378, std=0.086403, regu=0.005312 ,dec= 0.993226 train accuracy is : 0.988000 val acc:  0.975400\n",
      " no decay lr=0.000378, std=0.086403,regu=0.005312 train accuracy is : 0.986000 val acc:  0.975800\n",
      "lr=0.005773, std=0.006816, regu=0.006654 ,dec= 0.977654 train accuracy is : 0.978000 val acc:  0.973400\n",
      " no decay lr=0.005773, std=0.006816,regu=0.006654 train accuracy is : 0.966000 val acc:  0.966200\n",
      "lr=0.000363, std=0.003809, regu=0.006027 ,dec= 0.967004 train accuracy is : 0.973000 val acc:  0.971200\n",
      " no decay lr=0.000363, std=0.003809,regu=0.006027 train accuracy is : 0.980000 val acc:  0.973400\n",
      "lr=0.000693, std=0.061476, regu=0.004638 ,dec= 0.991247 train accuracy is : 0.987000 val acc:  0.976800\n",
      " no decay lr=0.000693, std=0.061476,regu=0.004638 train accuracy is : 0.993000 val acc:  0.976600\n",
      "lr=0.001435, std=0.024651, regu=0.003929 ,dec= 0.951486 train accuracy is : 0.993000 val acc:  0.975600\n",
      " no decay lr=0.001435, std=0.024651,regu=0.003929 train accuracy is : 0.985000 val acc:  0.976900\n",
      "lr=0.006484, std=0.008772, regu=0.013502 ,dec= 0.980720 train accuracy is : 0.972000 val acc:  0.969500\n",
      " no decay lr=0.006484, std=0.008772,regu=0.013502 train accuracy is : 0.953000 val acc:  0.960100\n",
      "lr=0.000108, std=0.002224, regu=0.076286 ,dec= 0.997471 train accuracy is : 0.838000 val acc:  0.836400\n",
      " no decay lr=0.000108, std=0.002224,regu=0.076286 train accuracy is : 0.864000 val acc:  0.862000\n",
      "lr=0.004168, std=0.001548, regu=0.001696 ,dec= 0.966523 train accuracy is : 0.987000 val acc:  0.978400\n",
      " no decay lr=0.004168, std=0.001548,regu=0.001696 train accuracy is : 0.977000 val acc:  0.974200\n",
      "lr=0.000803, std=0.012845, regu=0.089067 ,dec= 0.965682 train accuracy is : 0.894000 val acc:  0.901700\n",
      " no decay lr=0.000803, std=0.012845,regu=0.089067 train accuracy is : 0.930000 val acc:  0.939400\n",
      "lr=0.000892, std=0.001978, regu=0.000728 ,dec= 0.966001 train accuracy is : 0.983000 val acc:  0.974400\n",
      " no decay lr=0.000892, std=0.001978,regu=0.000728 train accuracy is : 0.989000 val acc:  0.976100\n",
      "lr=0.002417, std=0.023022, regu=0.000536 ,dec= 0.996777 train accuracy is : 0.989000 val acc:  0.977600\n",
      " no decay lr=0.002417, std=0.023022,regu=0.000536 train accuracy is : 0.984000 val acc:  0.975600\n",
      "lr=0.000404, std=0.007744, regu=0.011280 ,dec= 0.974112 train accuracy is : 0.971000 val acc:  0.969300\n",
      " no decay lr=0.000404, std=0.007744,regu=0.011280 train accuracy is : 0.977000 val acc:  0.972900\n",
      "lr=0.000129, std=0.004006, regu=0.008887 ,dec= 0.958608 train accuracy is : 0.948000 val acc:  0.944900\n",
      " no decay lr=0.000129, std=0.004006,regu=0.008887 train accuracy is : 0.981000 val acc:  0.971700\n",
      "lr=0.004673, std=0.028293, regu=0.001361 ,dec= 0.972202 train accuracy is : 0.987000 val acc:  0.976900\n",
      " no decay lr=0.004673, std=0.028293,regu=0.001361 train accuracy is : 0.979000 val acc:  0.968600\n",
      "lr=0.000207, std=0.001252, regu=0.003991 ,dec= 0.965743 train accuracy is : 0.899000 val acc:  0.895100\n",
      " no decay lr=0.000207, std=0.001252,regu=0.003991 train accuracy is : 0.907000 val acc:  0.902000\n"
     ]
    },
    {
     "ename": "KeyboardInterrupt",
     "evalue": "",
     "output_type": "error",
     "traceback": [
      "\u001b[1;31m---------------------------------------------------------------------------\u001b[0m",
      "\u001b[1;31mKeyboardInterrupt\u001b[0m                         Traceback (most recent call last)",
      "\u001b[1;32m<ipython-input-2-5f683ba74f5c>\u001b[0m in \u001b[0;36m<module>\u001b[1;34m()\u001b[0m\n\u001b[0;32m     33\u001b[0m          )\n\u001b[0;32m     34\u001b[0m \u001b[1;33m\u001b[0m\u001b[0m\n\u001b[1;32m---> 35\u001b[1;33m     \u001b[0msolver\u001b[0m\u001b[1;33m.\u001b[0m\u001b[0mtrain\u001b[0m\u001b[1;33m(\u001b[0m\u001b[1;33m)\u001b[0m\u001b[1;33m\u001b[0m\u001b[0m\n\u001b[0m\u001b[0;32m     36\u001b[0m \u001b[1;33m\u001b[0m\u001b[0m\n\u001b[0;32m     37\u001b[0m     \u001b[1;32mprint\u001b[0m \u001b[1;34m'lr=%f, std=%f, regu=%f ,dec= %f train accuracy is : %f val acc:  %f'\u001b[0m \u001b[1;33m%\u001b[0m\u001b[1;33m(\u001b[0m\u001b[0mlearning_rate\u001b[0m\u001b[1;33m,\u001b[0m \u001b[0mweight_scale\u001b[0m\u001b[1;33m,\u001b[0m \u001b[0mregu\u001b[0m\u001b[1;33m,\u001b[0m \u001b[0mdec\u001b[0m\u001b[1;33m,\u001b[0m\u001b[0msolver\u001b[0m\u001b[1;33m.\u001b[0m\u001b[0mtrain_acc_history\u001b[0m\u001b[1;33m[\u001b[0m\u001b[1;33m-\u001b[0m\u001b[1;36m1\u001b[0m\u001b[1;33m]\u001b[0m\u001b[1;33m,\u001b[0m \u001b[0msolver\u001b[0m\u001b[1;33m.\u001b[0m\u001b[0mval_acc_history\u001b[0m\u001b[1;33m[\u001b[0m\u001b[1;33m-\u001b[0m\u001b[1;36m1\u001b[0m\u001b[1;33m]\u001b[0m\u001b[1;33m)\u001b[0m\u001b[1;33m\u001b[0m\u001b[0m\n",
      "\u001b[1;32m/home/burc/assignment2/cs231n/solver.pyc\u001b[0m in \u001b[0;36mtrain\u001b[1;34m(self)\u001b[0m\n\u001b[0;32m    230\u001b[0m \u001b[1;33m\u001b[0m\u001b[0m\n\u001b[0;32m    231\u001b[0m     \u001b[1;32mfor\u001b[0m \u001b[0mt\u001b[0m \u001b[1;32min\u001b[0m \u001b[0mxrange\u001b[0m\u001b[1;33m(\u001b[0m\u001b[0mnum_iterations\u001b[0m\u001b[1;33m)\u001b[0m\u001b[1;33m:\u001b[0m\u001b[1;33m\u001b[0m\u001b[0m\n\u001b[1;32m--> 232\u001b[1;33m       \u001b[0mself\u001b[0m\u001b[1;33m.\u001b[0m\u001b[0m_step\u001b[0m\u001b[1;33m(\u001b[0m\u001b[1;33m)\u001b[0m\u001b[1;33m\u001b[0m\u001b[0m\n\u001b[0m\u001b[0;32m    233\u001b[0m \u001b[1;33m\u001b[0m\u001b[0m\n\u001b[0;32m    234\u001b[0m       \u001b[1;31m# Maybe print training loss\u001b[0m\u001b[1;33m\u001b[0m\u001b[1;33m\u001b[0m\u001b[0m\n",
      "\u001b[1;32m/home/burc/assignment2/cs231n/solver.pyc\u001b[0m in \u001b[0;36m_step\u001b[1;34m(self)\u001b[0m\n\u001b[0;32m    168\u001b[0m     \u001b[1;31m# Compute loss and gradient\u001b[0m\u001b[1;33m\u001b[0m\u001b[1;33m\u001b[0m\u001b[0m\n\u001b[0;32m    169\u001b[0m \u001b[1;33m\u001b[0m\u001b[0m\n\u001b[1;32m--> 170\u001b[1;33m     \u001b[0mloss\u001b[0m\u001b[1;33m,\u001b[0m \u001b[0mgrads\u001b[0m \u001b[1;33m=\u001b[0m \u001b[0mself\u001b[0m\u001b[1;33m.\u001b[0m\u001b[0mmodel\u001b[0m\u001b[1;33m.\u001b[0m\u001b[0mloss\u001b[0m\u001b[1;33m(\u001b[0m\u001b[0mX_batch\u001b[0m\u001b[1;33m,\u001b[0m \u001b[0my_batch\u001b[0m\u001b[1;33m)\u001b[0m\u001b[1;33m\u001b[0m\u001b[0m\n\u001b[0m\u001b[0;32m    171\u001b[0m     \u001b[0mself\u001b[0m\u001b[1;33m.\u001b[0m\u001b[0mloss_history\u001b[0m\u001b[1;33m.\u001b[0m\u001b[0mappend\u001b[0m\u001b[1;33m(\u001b[0m\u001b[0mloss\u001b[0m\u001b[1;33m)\u001b[0m\u001b[1;33m\u001b[0m\u001b[0m\n\u001b[0;32m    172\u001b[0m \u001b[1;33m\u001b[0m\u001b[0m\n",
      "\u001b[1;32m/home/burc/assignment2/cs231n/classifiers/fc_net_split3_3.pyc\u001b[0m in \u001b[0;36mloss\u001b[1;34m(self, X, y, noise, noise2, test, parallel_samples_output)\u001b[0m\n\u001b[0;32m    424\u001b[0m     \u001b[1;32mif\u001b[0m \u001b[0mself\u001b[0m\u001b[1;33m.\u001b[0m\u001b[0mactivation\u001b[0m \u001b[1;33m==\u001b[0m\u001b[1;36m3\u001b[0m\u001b[1;33m:\u001b[0m\u001b[1;33m\u001b[0m\u001b[0m\n\u001b[0;32m    425\u001b[0m       \u001b[0mdx11\u001b[0m\u001b[1;33m,\u001b[0m \u001b[0mdW1_1\u001b[0m\u001b[1;33m,\u001b[0m \u001b[0mdb1_1\u001b[0m \u001b[1;33m=\u001b[0m \u001b[0maffine_tanh_backward\u001b[0m\u001b[1;33m(\u001b[0m\u001b[0mdx1\u001b[0m\u001b[1;33m[\u001b[0m\u001b[1;33m:\u001b[0m\u001b[1;33m,\u001b[0m\u001b[1;36m0\u001b[0m\u001b[1;33m:\u001b[0m\u001b[1;36m64\u001b[0m\u001b[1;33m]\u001b[0m\u001b[1;33m,\u001b[0m \u001b[0mhidden_cache1\u001b[0m\u001b[1;33m)\u001b[0m   \u001b[1;31m#change to affine_sigmoid later\u001b[0m\u001b[1;33m\u001b[0m\u001b[0m\n\u001b[1;32m--> 426\u001b[1;33m       \u001b[0mdx22\u001b[0m\u001b[1;33m,\u001b[0m \u001b[0mdW1_2\u001b[0m\u001b[1;33m,\u001b[0m \u001b[0mdb1_2\u001b[0m \u001b[1;33m=\u001b[0m \u001b[0maffine_tanh_backward\u001b[0m\u001b[1;33m(\u001b[0m\u001b[0mdx1\u001b[0m\u001b[1;33m[\u001b[0m\u001b[1;33m:\u001b[0m\u001b[1;33m,\u001b[0m\u001b[1;36m64\u001b[0m\u001b[1;33m:\u001b[0m\u001b[1;36m128\u001b[0m\u001b[1;33m]\u001b[0m\u001b[1;33m,\u001b[0m \u001b[0mhidden_cache2\u001b[0m\u001b[1;33m)\u001b[0m\u001b[1;33m\u001b[0m\u001b[0m\n\u001b[0m\u001b[0;32m    427\u001b[0m       \u001b[0mdx33\u001b[0m\u001b[1;33m,\u001b[0m \u001b[0mdW1_3\u001b[0m\u001b[1;33m,\u001b[0m \u001b[0mdb1_3\u001b[0m \u001b[1;33m=\u001b[0m \u001b[0maffine_tanh_backward\u001b[0m\u001b[1;33m(\u001b[0m\u001b[0mdx1\u001b[0m\u001b[1;33m[\u001b[0m\u001b[1;33m:\u001b[0m\u001b[1;33m,\u001b[0m\u001b[1;36m128\u001b[0m\u001b[1;33m:\u001b[0m\u001b[1;36m192\u001b[0m\u001b[1;33m]\u001b[0m\u001b[1;33m,\u001b[0m \u001b[0mhidden_cache3\u001b[0m\u001b[1;33m)\u001b[0m\u001b[1;33m\u001b[0m\u001b[0m\n\u001b[0;32m    428\u001b[0m       \u001b[0mdx44\u001b[0m\u001b[1;33m,\u001b[0m \u001b[0mdW1_4\u001b[0m\u001b[1;33m,\u001b[0m \u001b[0mdb1_4\u001b[0m \u001b[1;33m=\u001b[0m \u001b[0maffine_tanh_backward\u001b[0m\u001b[1;33m(\u001b[0m\u001b[0mdx1\u001b[0m\u001b[1;33m[\u001b[0m\u001b[1;33m:\u001b[0m\u001b[1;33m,\u001b[0m\u001b[1;36m192\u001b[0m\u001b[1;33m:\u001b[0m\u001b[1;36m256\u001b[0m\u001b[1;33m]\u001b[0m\u001b[1;33m,\u001b[0m \u001b[0mhidden_cache4\u001b[0m\u001b[1;33m)\u001b[0m\u001b[1;33m\u001b[0m\u001b[0m\n",
      "\u001b[1;32m/home/burc/assignment2/cs231n/layer_utils.pyc\u001b[0m in \u001b[0;36maffine_tanh_backward\u001b[1;34m(dout, cache)\u001b[0m\n\u001b[0;32m     55\u001b[0m   \u001b[0mfc_cache\u001b[0m\u001b[1;33m,\u001b[0m \u001b[0msigmoid_cache\u001b[0m \u001b[1;33m=\u001b[0m \u001b[0mcache\u001b[0m\u001b[1;33m\u001b[0m\u001b[0m\n\u001b[0;32m     56\u001b[0m   \u001b[0mda\u001b[0m \u001b[1;33m=\u001b[0m \u001b[0mtanh_backward\u001b[0m\u001b[1;33m(\u001b[0m\u001b[0mdout\u001b[0m\u001b[1;33m,\u001b[0m \u001b[0msigmoid_cache\u001b[0m\u001b[1;33m)\u001b[0m\u001b[1;33m\u001b[0m\u001b[0m\n\u001b[1;32m---> 57\u001b[1;33m   \u001b[0mdx\u001b[0m\u001b[1;33m,\u001b[0m \u001b[0mdw\u001b[0m\u001b[1;33m,\u001b[0m \u001b[0mdb\u001b[0m \u001b[1;33m=\u001b[0m \u001b[0maffine_backward\u001b[0m\u001b[1;33m(\u001b[0m\u001b[0mda\u001b[0m\u001b[1;33m,\u001b[0m \u001b[0mfc_cache\u001b[0m\u001b[1;33m)\u001b[0m\u001b[1;33m\u001b[0m\u001b[0m\n\u001b[0m\u001b[0;32m     58\u001b[0m   \u001b[1;32mreturn\u001b[0m \u001b[0mdx\u001b[0m\u001b[1;33m,\u001b[0m \u001b[0mdw\u001b[0m\u001b[1;33m,\u001b[0m \u001b[0mdb\u001b[0m\u001b[1;33m\u001b[0m\u001b[0m\n\u001b[0;32m     59\u001b[0m \u001b[1;33m\u001b[0m\u001b[0m\n",
      "\u001b[1;32m/home/burc/assignment2/cs231n/layers.pyc\u001b[0m in \u001b[0;36maffine_backward\u001b[1;34m(dout, cache)\u001b[0m\n\u001b[0;32m     60\u001b[0m   \u001b[0mdx\u001b[0m \u001b[1;33m=\u001b[0m \u001b[0mdout\u001b[0m\u001b[1;33m.\u001b[0m\u001b[0mdot\u001b[0m\u001b[1;33m(\u001b[0m\u001b[0mw\u001b[0m\u001b[1;33m.\u001b[0m\u001b[0mT\u001b[0m\u001b[1;33m)\u001b[0m\u001b[1;33m\u001b[0m\u001b[0m\n\u001b[0;32m     61\u001b[0m   \u001b[0mdx\u001b[0m \u001b[1;33m=\u001b[0m \u001b[0mnp\u001b[0m\u001b[1;33m.\u001b[0m\u001b[0mreshape\u001b[0m\u001b[1;33m(\u001b[0m\u001b[0mdx\u001b[0m\u001b[1;33m,\u001b[0m \u001b[0mx\u001b[0m\u001b[1;33m.\u001b[0m\u001b[0mshape\u001b[0m\u001b[1;33m)\u001b[0m\u001b[1;33m\u001b[0m\u001b[0m\n\u001b[1;32m---> 62\u001b[1;33m   \u001b[0mdw\u001b[0m \u001b[1;33m=\u001b[0m \u001b[0mx_reshape\u001b[0m\u001b[1;33m.\u001b[0m\u001b[0mT\u001b[0m\u001b[1;33m.\u001b[0m\u001b[0mdot\u001b[0m\u001b[1;33m(\u001b[0m\u001b[0mdout\u001b[0m\u001b[1;33m)\u001b[0m\u001b[1;33m\u001b[0m\u001b[0m\n\u001b[0m\u001b[0;32m     63\u001b[0m   \u001b[0mdb\u001b[0m \u001b[1;33m=\u001b[0m \u001b[0mnp\u001b[0m\u001b[1;33m.\u001b[0m\u001b[0msum\u001b[0m\u001b[1;33m(\u001b[0m\u001b[0mdout\u001b[0m\u001b[1;33m,\u001b[0m \u001b[0maxis\u001b[0m\u001b[1;33m=\u001b[0m\u001b[1;36m0\u001b[0m\u001b[1;33m)\u001b[0m\u001b[1;33m\u001b[0m\u001b[0m\n\u001b[0;32m     64\u001b[0m   \u001b[1;31m#############################################################################\u001b[0m\u001b[1;33m\u001b[0m\u001b[1;33m\u001b[0m\u001b[0m\n",
      "\u001b[1;31mKeyboardInterrupt\u001b[0m: "
     ]
    }
   ],
   "source": [
    "##for nonsplitted 784-512: lr=0.001924, std=0.006602, regu=0.000000 train accuracy is : 0.981000 val acc:  0.974500\n",
    "##no decay lr=0.000714, std=0.007321,regu=0.000000 train accuracy is : 0.984000 val acc:  0.977100\n",
    "for i in range(100):\n",
    "    #learning_rate = 0.000830 #10**np.random.uniform(-4,-3)\n",
    "    #weight_scale = 0.003849 #10**np.random.uniform(-3,-1)\n",
    "    #regu = 0.00168276907439#10**np.random.uniform(-3,-1)\n",
    "    regu=10**np.random.uniform(-4,-1)\n",
    "    #regu=0\n",
    "    learning_rate = 10**np.random.uniform(-4,-2)\n",
    "    weight_scale = 10**np.random.uniform(-3,-1)\n",
    "    dec = np.random.uniform(0.95,1)\n",
    "    #regu =0.00329329787291\n",
    "    #print regu\n",
    "    #learning_rate=0.0005\n",
    "    #weight_scale=0.027\n",
    "    #learning_rate = 0.001 #10**np.random.uniform(-5,-1)\n",
    "    #weight_scale = 0.02 #10**np.random.uniform(-3,0)\n",
    "    # no decay lr=0.000292, std=0.004709, train accuracy is : 0.999000 val acc:  0.970500\n",
    "#0.14912609128\n",
    "#0.00669438412009\n",
    "#0.00168276907439\n",
    "# no decay lr=0.000830, std=0.003849, train accuracy is : 0.994000 val acc:  0.967100\n",
    "# no decay lr=0.000508, std=0.027556, train accuracy is : 1.000000 val acc:  0.971500\n",
    "\n",
    "    model = FourLayerNet(input_dim=28*28, ##hidden_dim=256,\n",
    "              weight_scale=weight_scale, reg=regu, activation=3, scores_activation=3,external_load=1)\n",
    "    solver = Solver(model,data,\n",
    "                print_every=10, num_epochs=60, batch_size=100,\n",
    "                update_rule='sgd_momentum',lr_decay=dec,verbose = False,\n",
    "                optim_config={\n",
    "                  'learning_rate': learning_rate\n",
    "                }\n",
    "         )\n",
    "    \n",
    "    solver.train()\n",
    "\n",
    "    print 'lr=%f, std=%f, regu=%f ,dec= %f train accuracy is : %f val acc:  %f' %(learning_rate, weight_scale, regu, dec,solver.train_acc_history[-1], solver.val_acc_history[-1])\n",
    " \n",
    "\n",
    "    model = FourLayerNet(input_dim=28*28,  ##hidden_dim=256,\n",
    "              weight_scale=weight_scale, reg=regu,activation=3, external_load=1,scores_activation=3)\n",
    "    solver = Solver(model,data,\n",
    "                print_every=4000, num_epochs=60, batch_size=100, \n",
    "                update_rule='sgd_momentum',lr_decay=1.0,verbose =False, #lr_decay=0.0,\n",
    "                optim_config={\n",
    "                  'learning_rate': learning_rate\n",
    "                }\n",
    "         )\n",
    "    solver.train()\n",
    "    print ' no decay lr=%f, std=%f,regu=%f train accuracy is : %f val acc:  %f' %(learning_rate, weight_scale,regu, solver.train_acc_history[-1], solver.val_acc_history[-1])\n",
    " \n",
    "\n",
    "\n",
    "#solver.train()\n",
    "\n",
    "plt.plot(solver.loss_history, 'o')\n",
    "plt.title('Training loss history')\n",
    "plt.xlabel('Iteration')\n",
    "plt.ylabel('Training loss')"
   ]
  },
  {
   "cell_type": "code",
   "execution_count": 3,
   "metadata": {
    "collapsed": false
   },
   "outputs": [
    {
     "name": "stdout",
     "output_type": "stream",
     "text": [
      "lr=0.002101, std=0.004633, regu=0.000622 ,dec= 0.988471 train accuracy is : 0.994000 val acc:  0.975700\n"
     ]
    }
   ],
   "source": [
    "##lr=0.002101, std=0.004633, regu=0.000622 ,dec= 0.988471 train accuracy is : 0.987000 val acc:  0.979500\n",
    "\n",
    "regu=0.000622\n",
    "learning_rate =0.002101\n",
    "weight_scale = 0.004633\n",
    "dec =  0.988471\n",
    "\n",
    "model = FourLayerNet(input_dim=28*28, ##hidden_dim=256,\n",
    "              weight_scale=weight_scale, reg=regu, activation=3, scores_activation=3,external_load=1)\n",
    "solver = Solver(model,data,\n",
    "                print_every=10, num_epochs=60, batch_size=100,\n",
    "                update_rule='sgd_momentum',lr_decay=dec,verbose = False,\n",
    "                optim_config={\n",
    "                  'learning_rate': learning_rate\n",
    "                }\n",
    "         )\n",
    "    \n",
    "solver.train()\n",
    "print 'lr=%f, std=%f, regu=%f ,dec= %f train accuracy is : %f val acc:  %f' %(learning_rate, weight_scale, regu, dec,solver.train_acc_history[-1], solver.val_acc_history[-1])\n",
    " "
   ]
  },
  {
   "cell_type": "code",
   "execution_count": 4,
   "metadata": {
    "collapsed": false
   },
   "outputs": [
    {
     "name": "stdout",
     "output_type": "stream",
     "text": [
      "Validation set accuracy:  0.9788\n",
      "Test set accuracy:  0.9755\n",
      "Noisy test set accuracy:  0.9753\n",
      "0.974555\n",
      "0.974995\n",
      "0.975165\n",
      "0.97529\n",
      "0.97539\n",
      "0.975385\n",
      "0.975415\n"
     ]
    }
   ],
   "source": [
    "y_test_pred = np.argmax(model.loss(data['X_test'],noise=0,test=1), axis=1)\n",
    "y_val_pred = np.argmax(model.loss(data['X_val']), axis=1)\n",
    "print 'Validation set accuracy: ', (y_val_pred == data['y_val']).mean()\n",
    "print 'Test set accuracy: ', (y_test_pred == data['y_test']).mean()\n",
    "y_test_pred = np.argmax(model.loss(data['X_test'],noise=1,test=1), axis=1)\n",
    "print 'Noisy test set accuracy: ', (y_test_pred == data['y_test']).mean()\n",
    "\n",
    "par=1\n",
    "aa=0.0\n",
    "for i in range(0,20):\n",
    "  y_test_pred = np.argmax(model.loss(data['X_test'],noise=1,test=1,noise2=1, parallel_samples_output=par), axis=1)\n",
    "  #print 'Noisy test set accuracy: ', (y_test_pred == data['y_test']).mean()\n",
    "  aa=aa+ (y_test_pred == data['y_test']).mean()\n",
    "print aa/20\n",
    "\n",
    "par=2\n",
    "aa=0.0\n",
    "for i in range(0,20):\n",
    "  y_test_pred = np.argmax(model.loss(data['X_test'],noise=1,test=1,noise2=1, parallel_samples_output=par), axis=1)\n",
    "  #print 'Noisy test set accuracy: ', (y_test_pred == data['y_test']).mean()\n",
    "  aa=aa+ (y_test_pred == data['y_test']).mean()\n",
    "print aa/20\n",
    "\n",
    "\n",
    "par=3\n",
    "aa=0.0\n",
    "for i in range(0,20):\n",
    "  y_test_pred = np.argmax(model.loss(data['X_test'],noise=1,test=1,noise2=1, parallel_samples_output=par), axis=1)\n",
    "  #print 'Noisy test set accuracy: ', (y_test_pred == data['y_test']).mean()\n",
    "  aa=aa+ (y_test_pred == data['y_test']).mean()\n",
    "print aa/20\n",
    "\n",
    "par=4\n",
    "aa=0.0\n",
    "for i in range(0,20):\n",
    "  y_test_pred = np.argmax(model.loss(data['X_test'],noise=1,test=1,noise2=1, parallel_samples_output=par), axis=1)\n",
    "  #print 'Noisy test set accuracy: ', (y_test_pred == data['y_test']).mean()\n",
    "  aa=aa+ (y_test_pred == data['y_test']).mean()\n",
    "print aa/20\n",
    "\n",
    "par=8\n",
    "aa=0.0\n",
    "for i in range(0,20):\n",
    "  y_test_pred = np.argmax(model.loss(data['X_test'],noise=1,test=1,noise2=1, parallel_samples_output=par), axis=1)\n",
    "  #print 'Noisy test set accuracy: ', (y_test_pred == data['y_test']).mean()\n",
    "  aa=aa+ (y_test_pred == data['y_test']).mean()\n",
    "print aa/20\n",
    "\n",
    "par=16\n",
    "aa=0.0\n",
    "for i in range(0,20):\n",
    "  y_test_pred = np.argmax(model.loss(data['X_test'],noise=1,test=1,noise2=1, parallel_samples_output=par), axis=1)\n",
    "  #print 'Noisy test set accuracy: ', (y_test_pred == data['y_test']).mean()\n",
    "  aa=aa+ (y_test_pred == data['y_test']).mean()\n",
    "print aa/20\n",
    "\n",
    "par=24\n",
    "aa=0.0\n",
    "for i in range(0,20):\n",
    "  y_test_pred = np.argmax(model.loss(data['X_test'],noise=1,test=1,noise2=1, parallel_samples_output=par), axis=1)\n",
    "  #print 'Noisy test set accuracy: ', (y_test_pred == data['y_test']).mean()\n",
    "  aa=aa+ (y_test_pred == data['y_test']).mean()\n",
    "print aa/20"
   ]
  },
  {
   "cell_type": "code",
   "execution_count": null,
   "metadata": {
    "collapsed": true
   },
   "outputs": [],
   "source": [
    "lr=0.000421, std=0.008593, regu=0.007349 train accuracy is : 0.986000 val acc:  0.969800\n",
    " no decay lr=0.000421, std=0.008593,regu=0.007349 train accuracy is : 0.986000 val acc:  0.974200\n",
    "lr=0.000302, std=0.057738, regu=0.009188 train accuracy is : 0.975000 val acc:  0.966900\n",
    " no decay lr=0.000302, std=0.057738,regu=0.009188 train accuracy is : 0.983000 val acc:  0.971500\n",
    "lr=0.004166, std=0.054261, regu=0.000208 train accuracy is : 0.990000 val acc:  0.973400\n",
    " no decay lr=0.004166, std=0.054261,regu=0.000208 train accuracy is : 0.966000 val acc:  0.966300\n",
    "lr=0.006093, std=0.034049, regu=0.022537 train accuracy is : 0.978000 val acc:  0.969200\n",
    " no decay lr=0.006093, std=0.034049,regu=0.022537 train accuracy is : 0.953000 val acc:  0.958500\n",
    "lr=0.005741, std=0.003555, regu=0.000169 train accuracy is : 0.976000 val acc:  0.974300\n",
    " no decay lr=0.005741, std=0.003555,regu=0.000169 train accuracy is : 0.951000 val acc:  0.961700\n",
    "lr=0.004281, std=0.001433, regu=0.020951 train accuracy is : 0.972000 val acc:  0.972400\n",
    " no decay lr=0.004281, std=0.001433,regu=0.020951 train accuracy is : 0.960000 val acc:  0.962900\n",
    "lr=0.000410, std=0.073561, regu=0.001224 train accuracy is : 0.982000 val acc:  0.967800\n",
    " no decay lr=0.000410, std=0.073561,regu=0.001224 train accuracy is : 0.991000 val acc:  0.975900\n",
    "lr=0.000202, std=0.059271, regu=0.001694 train accuracy is : 0.978000 val acc:  0.964700\n",
    " no decay lr=0.000202, std=0.059271,regu=0.001694 train accuracy is : 0.986000 val acc:  0.972400\n",
    "lr=0.001538, std=0.001890, regu=0.015528 train accuracy is : 0.988000 val acc:  0.973000\n",
    " no decay lr=0.001538, std=0.001890,regu=0.015528 train accuracy is : 0.976000 val acc:  0.970400\n",
    "lr=0.001760, std=0.033411, regu=0.003669 train accuracy is : 0.990000 val acc:  0.976300\n",
    " no decay lr=0.001760, std=0.033411,regu=0.003669 train accuracy is : 0.985000 val acc:  0.977600\n",
    "lr=0.000306, std=0.004957, regu=0.002745 train accuracy is : 0.979000 val acc:  0.967400\n",
    " no decay lr=0.000306, std=0.004957,regu=0.002745 train accuracy is : 0.986000 val acc:  0.975400\n",
    "lr=0.004636, std=0.001438, regu=0.003159 train accuracy is : 0.989000 val acc:  0.977700\n",
    " no decay lr=0.004636, std=0.001438,regu=0.003159 train accuracy is : 0.962000 val acc:  0.967500"
   ]
  },
  {
   "cell_type": "code",
   "execution_count": 3,
   "metadata": {
    "collapsed": false
   },
   "outputs": [
    {
     "name": "stdout",
     "output_type": "stream",
     "text": [
      "(7840,)\n",
      "0 1231\n",
      "(10, 28, 28)\n",
      "0 1 784 28\n",
      "(10, 784)\n"
     ]
    }
   ],
   "source": [
    "y= np.array(range(0,28*28*10))\n",
    "print y.shape\n",
    "\n",
    "print y[0], y[1231]\n",
    "y2= np.reshape(y,(10,28,28))\n",
    "print y2.shape\n",
    "print y2[0,0,0], y2[0,0,1], y2[1,0,0], y2[0,1,0]\n",
    "\n",
    "y3 = np.reshape(y2, (y2.shape[0],-1))\n",
    "print y3.shape\n"
   ]
  },
  {
   "cell_type": "code",
   "execution_count": 5,
   "metadata": {
    "collapsed": false
   },
   "outputs": [
    {
     "name": "stdout",
     "output_type": "stream",
     "text": [
      "lr=0.004636, std=0.001438, regu=0.003159 train accuracy is : 0.990000 val acc:  0.977400\n"
     ]
    }
   ],
   "source": [
    "##lr=0.004636, std=0.001438, regu=0.003159 train accuracy is : 0.989000 val acc:  0.977700\n",
    "regu=0.003159\n",
    "learning_rate = 0.004636\n",
    "weight_scale = 0.001438\n",
    "\n",
    "\n",
    "model = ThreeLayerNet(input_dim=28*28, ##hidden_dim=256,\n",
    "              weight_scale=weight_scale, reg=regu, activation=3, scores_activation=3,external_load=1)\n",
    "solver = Solver(model,data,\n",
    "                print_every=10, num_epochs=60, batch_size=100,\n",
    "                update_rule='sgd_momentum',lr_decay=0.95,verbose = False,\n",
    "                optim_config={\n",
    "                  'learning_rate': learning_rate\n",
    "                }\n",
    "         )\n",
    "    \n",
    "solver.train()\n",
    "\n",
    "print 'lr=%f, std=%f, regu=%f train accuracy is : %f val acc:  %f' %(learning_rate, weight_scale, regu, solver.train_acc_history[-1], solver.val_acc_history[-1])\n",
    " "
   ]
  },
  {
   "cell_type": "code",
   "execution_count": 98,
   "metadata": {
    "collapsed": false
   },
   "outputs": [
    {
     "name": "stdout",
     "output_type": "stream",
     "text": [
      "Validation set accuracy:  0.9772\n",
      "Test set accuracy:  0.9742\n",
      "Noisy test set accuracy:  0.9743\n",
      "Noisy test set accuracy:  0.9706\n"
     ]
    }
   ],
   "source": [
    "y_test_pred = np.argmax(model.loss(data['X_test'],noise=0,test=1), axis=1)\n",
    "y_val_pred = np.argmax(model.loss(data['X_val']), axis=1)\n",
    "print 'Validation set accuracy: ', (y_val_pred == data['y_val']).mean()\n",
    "print 'Test set accuracy: ', (y_test_pred == data['y_test']).mean()\n",
    "y_test_pred = np.argmax(model.loss(data['X_test'],noise=1,test=1), axis=1)\n",
    "print 'Noisy test set accuracy: ', (y_test_pred == data['y_test']).mean()\n",
    "\n",
    "y_test_pred = np.argmax(model.loss(data['X_test'],noise=1,test=1,noise2=1, parallel_samples_output=32), axis=1)\n",
    "print 'Noisy test set accuracy: ', (y_test_pred == data['y_test']).mean()"
   ]
  },
  {
   "cell_type": "code",
   "execution_count": 6,
   "metadata": {
    "collapsed": true
   },
   "outputs": [],
   "source": [
    "np.save('W1_1ext784-256-256-10-cont', model.params['W1_1'])\n",
    "np.save('b1_1ext784-256-256-10-cont', model.params['b1_1'])\n",
    "np.save('W1_2ext784-256-256-10-cont', model.params['W1_2'])\n",
    "np.save('b1_2ext784-256-256-10-cont', model.params['b1_2'])\n",
    "np.save('W1_3ext784-256-256-10-cont', model.params['W1_3'])\n",
    "np.save('b1_3ext784-256-256-10-cont', model.params['b1_3'])\n",
    "np.save('W1_4ext784-256-256-10-cont', model.params['W1_4'])\n",
    "np.save('b1_4ext784-256-256-10-cont', model.params['b1_4'])\n",
    "np.save('W2ext784-256-256-10-cont', model.params['W2'])\n",
    "np.save('b2ext784-256-256-10-cont', model.params['b2'])"
   ]
  },
  {
   "cell_type": "code",
   "execution_count": null,
   "metadata": {
    "collapsed": true
   },
   "outputs": [],
   "source": []
  },
  {
   "cell_type": "code",
   "execution_count": null,
   "metadata": {
    "collapsed": true
   },
   "outputs": [],
   "source": []
  }
 ],
 "metadata": {
  "kernelspec": {
   "display_name": "Python [Root]",
   "language": "python",
   "name": "Python [Root]"
  },
  "language_info": {
   "codemirror_mode": {
    "name": "ipython",
    "version": 2
   },
   "file_extension": ".py",
   "mimetype": "text/x-python",
   "name": "python",
   "nbconvert_exporter": "python",
   "pygments_lexer": "ipython2",
   "version": "2.7.12"
  }
 },
 "nbformat": 4,
 "nbformat_minor": 0
}
